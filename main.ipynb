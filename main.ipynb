{
 "cells": [
  {
   "cell_type": "code",
   "execution_count": 1,
   "metadata": {
    "collapsed": true
   },
   "outputs": [],
   "source": [
    "import numpy as np\n",
    "import pandas as pd\n",
    "import math"
   ]
  },
  {
   "cell_type": "markdown",
   "source": [
    "# 1 数据预处理"
   ],
   "metadata": {
    "collapsed": false
   }
  },
  {
   "cell_type": "code",
   "execution_count": 2,
   "outputs": [
    {
     "name": "stdout",
     "output_type": "stream",
     "text": [
      "10000\n"
     ]
    }
   ],
   "source": [
    "# 构建 用户名id —— 用户新id(从1开始)\n",
    "f_user= open('./data/users.txt', encoding='utf-8')\n",
    "line = f_user.readline().strip()\n",
    "user_list = []\n",
    "user_list.append(line)\n",
    "while line:\n",
    "    line = f_user.readline().strip()\n",
    "    if line != '':\n",
    "        user_list.append(line)\n",
    "f_user.close()\n",
    "user_dict = {}\n",
    "for i in range(0, len(user_list)):\n",
    "    user_dict[user_list[i]] = i\n",
    "\n",
    "print(len(user_dict))"
   ],
   "metadata": {
    "collapsed": false
   }
  },
  {
   "cell_type": "code",
   "execution_count": 3,
   "outputs": [
    {
     "data": {
      "text/plain": "      0     1     2     3     4     5     6     7     8     9     ...  9990  \\\n0        1     0     2     1     1     1     2     1     0     1  ...     2   \n1        1     0     2     0     1     2     1     0     0     0  ...     0   \n2        0     1     0     1     0     1     0     1     0     1  ...     1   \n3        5     0     0     3     5     4     3     4     3     4  ...     5   \n4        5     0     4     3     5     4     3     0     0     3  ...     5   \n...    ...   ...   ...   ...   ...   ...   ...   ...   ...   ...  ...   ...   \n9995     0     0     0     0     0     0     0     0     0     0  ...     0   \n9996     0     0     0     0     0     0     0     0     0     0  ...     0   \n9997     0     0     0     0     0     0     0     3     0     0  ...     0   \n9998     0     0     0     0     0     0     0     0     0     0  ...     0   \n9999     0     0     0     0     0     0     0     4     0     0  ...     0   \n\n      9991  9992  9993  9994  9995  9996  9997  9998  9999  \n0        1     0     1     1     2     1     1     1     2  \n1        1     1     1     0     2     1     1     2     1  \n2        1     0     0     0     1     1     1     1     1  \n3        3     0     4     5     5     5     4     0     5  \n4        0     5     4     4     5     4     4     0     4  \n...    ...   ...   ...   ...   ...   ...   ...   ...   ...  \n9995     0     0     0     0     0     0     0     0     0  \n9996     0     0     0     0     0     0     0     0     0  \n9997     0     0     0     0     0     0     0     0     0  \n9998     0     0     0     0     0     0     0     0     0  \n9999     0     0     0     0     0     0     0     0     0  \n\n[10000 rows x 10000 columns]",
      "text/html": "<div>\n<style scoped>\n    .dataframe tbody tr th:only-of-type {\n        vertical-align: middle;\n    }\n\n    .dataframe tbody tr th {\n        vertical-align: top;\n    }\n\n    .dataframe thead th {\n        text-align: right;\n    }\n</style>\n<table border=\"1\" class=\"dataframe\">\n  <thead>\n    <tr style=\"text-align: right;\">\n      <th></th>\n      <th>0</th>\n      <th>1</th>\n      <th>2</th>\n      <th>3</th>\n      <th>4</th>\n      <th>5</th>\n      <th>6</th>\n      <th>7</th>\n      <th>8</th>\n      <th>9</th>\n      <th>...</th>\n      <th>9990</th>\n      <th>9991</th>\n      <th>9992</th>\n      <th>9993</th>\n      <th>9994</th>\n      <th>9995</th>\n      <th>9996</th>\n      <th>9997</th>\n      <th>9998</th>\n      <th>9999</th>\n    </tr>\n  </thead>\n  <tbody>\n    <tr>\n      <th>0</th>\n      <td>1</td>\n      <td>0</td>\n      <td>2</td>\n      <td>1</td>\n      <td>1</td>\n      <td>1</td>\n      <td>2</td>\n      <td>1</td>\n      <td>0</td>\n      <td>1</td>\n      <td>...</td>\n      <td>2</td>\n      <td>1</td>\n      <td>0</td>\n      <td>1</td>\n      <td>1</td>\n      <td>2</td>\n      <td>1</td>\n      <td>1</td>\n      <td>1</td>\n      <td>2</td>\n    </tr>\n    <tr>\n      <th>1</th>\n      <td>1</td>\n      <td>0</td>\n      <td>2</td>\n      <td>0</td>\n      <td>1</td>\n      <td>2</td>\n      <td>1</td>\n      <td>0</td>\n      <td>0</td>\n      <td>0</td>\n      <td>...</td>\n      <td>0</td>\n      <td>1</td>\n      <td>1</td>\n      <td>1</td>\n      <td>0</td>\n      <td>2</td>\n      <td>1</td>\n      <td>1</td>\n      <td>2</td>\n      <td>1</td>\n    </tr>\n    <tr>\n      <th>2</th>\n      <td>0</td>\n      <td>1</td>\n      <td>0</td>\n      <td>1</td>\n      <td>0</td>\n      <td>1</td>\n      <td>0</td>\n      <td>1</td>\n      <td>0</td>\n      <td>1</td>\n      <td>...</td>\n      <td>1</td>\n      <td>1</td>\n      <td>0</td>\n      <td>0</td>\n      <td>0</td>\n      <td>1</td>\n      <td>1</td>\n      <td>1</td>\n      <td>1</td>\n      <td>1</td>\n    </tr>\n    <tr>\n      <th>3</th>\n      <td>5</td>\n      <td>0</td>\n      <td>0</td>\n      <td>3</td>\n      <td>5</td>\n      <td>4</td>\n      <td>3</td>\n      <td>4</td>\n      <td>3</td>\n      <td>4</td>\n      <td>...</td>\n      <td>5</td>\n      <td>3</td>\n      <td>0</td>\n      <td>4</td>\n      <td>5</td>\n      <td>5</td>\n      <td>5</td>\n      <td>4</td>\n      <td>0</td>\n      <td>5</td>\n    </tr>\n    <tr>\n      <th>4</th>\n      <td>5</td>\n      <td>0</td>\n      <td>4</td>\n      <td>3</td>\n      <td>5</td>\n      <td>4</td>\n      <td>3</td>\n      <td>0</td>\n      <td>0</td>\n      <td>3</td>\n      <td>...</td>\n      <td>5</td>\n      <td>0</td>\n      <td>5</td>\n      <td>4</td>\n      <td>4</td>\n      <td>5</td>\n      <td>4</td>\n      <td>4</td>\n      <td>0</td>\n      <td>4</td>\n    </tr>\n    <tr>\n      <th>...</th>\n      <td>...</td>\n      <td>...</td>\n      <td>...</td>\n      <td>...</td>\n      <td>...</td>\n      <td>...</td>\n      <td>...</td>\n      <td>...</td>\n      <td>...</td>\n      <td>...</td>\n      <td>...</td>\n      <td>...</td>\n      <td>...</td>\n      <td>...</td>\n      <td>...</td>\n      <td>...</td>\n      <td>...</td>\n      <td>...</td>\n      <td>...</td>\n      <td>...</td>\n      <td>...</td>\n    </tr>\n    <tr>\n      <th>9995</th>\n      <td>0</td>\n      <td>0</td>\n      <td>0</td>\n      <td>0</td>\n      <td>0</td>\n      <td>0</td>\n      <td>0</td>\n      <td>0</td>\n      <td>0</td>\n      <td>0</td>\n      <td>...</td>\n      <td>0</td>\n      <td>0</td>\n      <td>0</td>\n      <td>0</td>\n      <td>0</td>\n      <td>0</td>\n      <td>0</td>\n      <td>0</td>\n      <td>0</td>\n      <td>0</td>\n    </tr>\n    <tr>\n      <th>9996</th>\n      <td>0</td>\n      <td>0</td>\n      <td>0</td>\n      <td>0</td>\n      <td>0</td>\n      <td>0</td>\n      <td>0</td>\n      <td>0</td>\n      <td>0</td>\n      <td>0</td>\n      <td>...</td>\n      <td>0</td>\n      <td>0</td>\n      <td>0</td>\n      <td>0</td>\n      <td>0</td>\n      <td>0</td>\n      <td>0</td>\n      <td>0</td>\n      <td>0</td>\n      <td>0</td>\n    </tr>\n    <tr>\n      <th>9997</th>\n      <td>0</td>\n      <td>0</td>\n      <td>0</td>\n      <td>0</td>\n      <td>0</td>\n      <td>0</td>\n      <td>0</td>\n      <td>3</td>\n      <td>0</td>\n      <td>0</td>\n      <td>...</td>\n      <td>0</td>\n      <td>0</td>\n      <td>0</td>\n      <td>0</td>\n      <td>0</td>\n      <td>0</td>\n      <td>0</td>\n      <td>0</td>\n      <td>0</td>\n      <td>0</td>\n    </tr>\n    <tr>\n      <th>9998</th>\n      <td>0</td>\n      <td>0</td>\n      <td>0</td>\n      <td>0</td>\n      <td>0</td>\n      <td>0</td>\n      <td>0</td>\n      <td>0</td>\n      <td>0</td>\n      <td>0</td>\n      <td>...</td>\n      <td>0</td>\n      <td>0</td>\n      <td>0</td>\n      <td>0</td>\n      <td>0</td>\n      <td>0</td>\n      <td>0</td>\n      <td>0</td>\n      <td>0</td>\n      <td>0</td>\n    </tr>\n    <tr>\n      <th>9999</th>\n      <td>0</td>\n      <td>0</td>\n      <td>0</td>\n      <td>0</td>\n      <td>0</td>\n      <td>0</td>\n      <td>0</td>\n      <td>4</td>\n      <td>0</td>\n      <td>0</td>\n      <td>...</td>\n      <td>0</td>\n      <td>0</td>\n      <td>0</td>\n      <td>0</td>\n      <td>0</td>\n      <td>0</td>\n      <td>0</td>\n      <td>0</td>\n      <td>0</td>\n      <td>0</td>\n    </tr>\n  </tbody>\n</table>\n<p>10000 rows × 10000 columns</p>\n</div>"
     },
     "execution_count": 3,
     "metadata": {},
     "output_type": "execute_result"
    }
   ],
   "source": [
    "# 构建用户行为矩阵（训练用）\n",
    "# 注意由于已经训练完成,除非初次完整运行本项目，本代码无需二次运行\n",
    "pd_user_train = pd.DataFrame(np.zeros([10000, 10000], int))\n",
    "\n",
    "f_train = open('./data/netflix_train.txt')\n",
    "f_train_data = f_train.readlines()\n",
    "for line in f_train_data:\n",
    "    temp_list = line.split(\" \")\n",
    "    pd_user_train.iloc[user_dict[temp_list[0]], int(temp_list[1]) - 1] = int(temp_list[2])\n",
    "\n",
    "pd_user_train"
   ],
   "metadata": {
    "collapsed": false
   }
  },
  {
   "cell_type": "code",
   "execution_count": 7,
   "outputs": [],
   "source": [
    "# 将上述表格保存到文件，方便后续读取\n",
    "# 注意由于已经训练完成,除非初次完整运行本项目，本代码无需二次运行\n",
    "pd_user_train_output = './data/user_train.csv'\n",
    "pd_user_train.to_csv(pd_user_train_output, sep=',', index=False, header=False)"
   ],
   "metadata": {
    "collapsed": false
   }
  },
  {
   "cell_type": "code",
   "execution_count": 3,
   "outputs": [
    {
     "data": {
      "text/plain": "   0     1     2     3     4     5     6     7     8     9     ...  9990  \\\n0     1     0     2     1     1     1     2     1     0     1  ...     2   \n1     1     0     2     0     1     2     1     0     0     0  ...     0   \n2     0     1     0     1     0     1     0     1     0     1  ...     1   \n3     5     0     0     3     5     4     3     4     3     4  ...     5   \n4     5     0     4     3     5     4     3     0     0     3  ...     5   \n\n   9991  9992  9993  9994  9995  9996  9997  9998  9999  \n0     1     0     1     1     2     1     1     1     2  \n1     1     1     1     0     2     1     1     2     1  \n2     1     0     0     0     1     1     1     1     1  \n3     3     0     4     5     5     5     4     0     5  \n4     0     5     4     4     5     4     4     0     4  \n\n[5 rows x 10000 columns]",
      "text/html": "<div>\n<style scoped>\n    .dataframe tbody tr th:only-of-type {\n        vertical-align: middle;\n    }\n\n    .dataframe tbody tr th {\n        vertical-align: top;\n    }\n\n    .dataframe thead th {\n        text-align: right;\n    }\n</style>\n<table border=\"1\" class=\"dataframe\">\n  <thead>\n    <tr style=\"text-align: right;\">\n      <th></th>\n      <th>0</th>\n      <th>1</th>\n      <th>2</th>\n      <th>3</th>\n      <th>4</th>\n      <th>5</th>\n      <th>6</th>\n      <th>7</th>\n      <th>8</th>\n      <th>9</th>\n      <th>...</th>\n      <th>9990</th>\n      <th>9991</th>\n      <th>9992</th>\n      <th>9993</th>\n      <th>9994</th>\n      <th>9995</th>\n      <th>9996</th>\n      <th>9997</th>\n      <th>9998</th>\n      <th>9999</th>\n    </tr>\n  </thead>\n  <tbody>\n    <tr>\n      <th>0</th>\n      <td>1</td>\n      <td>0</td>\n      <td>2</td>\n      <td>1</td>\n      <td>1</td>\n      <td>1</td>\n      <td>2</td>\n      <td>1</td>\n      <td>0</td>\n      <td>1</td>\n      <td>...</td>\n      <td>2</td>\n      <td>1</td>\n      <td>0</td>\n      <td>1</td>\n      <td>1</td>\n      <td>2</td>\n      <td>1</td>\n      <td>1</td>\n      <td>1</td>\n      <td>2</td>\n    </tr>\n    <tr>\n      <th>1</th>\n      <td>1</td>\n      <td>0</td>\n      <td>2</td>\n      <td>0</td>\n      <td>1</td>\n      <td>2</td>\n      <td>1</td>\n      <td>0</td>\n      <td>0</td>\n      <td>0</td>\n      <td>...</td>\n      <td>0</td>\n      <td>1</td>\n      <td>1</td>\n      <td>1</td>\n      <td>0</td>\n      <td>2</td>\n      <td>1</td>\n      <td>1</td>\n      <td>2</td>\n      <td>1</td>\n    </tr>\n    <tr>\n      <th>2</th>\n      <td>0</td>\n      <td>1</td>\n      <td>0</td>\n      <td>1</td>\n      <td>0</td>\n      <td>1</td>\n      <td>0</td>\n      <td>1</td>\n      <td>0</td>\n      <td>1</td>\n      <td>...</td>\n      <td>1</td>\n      <td>1</td>\n      <td>0</td>\n      <td>0</td>\n      <td>0</td>\n      <td>1</td>\n      <td>1</td>\n      <td>1</td>\n      <td>1</td>\n      <td>1</td>\n    </tr>\n    <tr>\n      <th>3</th>\n      <td>5</td>\n      <td>0</td>\n      <td>0</td>\n      <td>3</td>\n      <td>5</td>\n      <td>4</td>\n      <td>3</td>\n      <td>4</td>\n      <td>3</td>\n      <td>4</td>\n      <td>...</td>\n      <td>5</td>\n      <td>3</td>\n      <td>0</td>\n      <td>4</td>\n      <td>5</td>\n      <td>5</td>\n      <td>5</td>\n      <td>4</td>\n      <td>0</td>\n      <td>5</td>\n    </tr>\n    <tr>\n      <th>4</th>\n      <td>5</td>\n      <td>0</td>\n      <td>4</td>\n      <td>3</td>\n      <td>5</td>\n      <td>4</td>\n      <td>3</td>\n      <td>0</td>\n      <td>0</td>\n      <td>3</td>\n      <td>...</td>\n      <td>5</td>\n      <td>0</td>\n      <td>5</td>\n      <td>4</td>\n      <td>4</td>\n      <td>5</td>\n      <td>4</td>\n      <td>4</td>\n      <td>0</td>\n      <td>4</td>\n    </tr>\n  </tbody>\n</table>\n<p>5 rows × 10000 columns</p>\n</div>"
     },
     "execution_count": 3,
     "metadata": {},
     "output_type": "execute_result"
    }
   ],
   "source": [
    "user_train = pd.read_csv(\"./data/user_train.csv\", header=None)\n",
    "user_train.head()"
   ],
   "metadata": {
    "collapsed": false
   }
  },
  {
   "cell_type": "code",
   "execution_count": 11,
   "outputs": [
    {
     "data": {
      "text/plain": "      0     1     2     3     4     5     6     7     8     9     ...  9990  \\\n0        0     1     0     0     0     0     0     0     1     0  ...     0   \n1        0     1     0     2     0     0     0     1     1     2  ...     1   \n2        1     0     1     0     1     0     1     0     0     0  ...     0   \n3        0     4     5     0     0     0     0     0     0     0  ...     0   \n4        0     4     0     0     0     0     0     3     0     0  ...     0   \n...    ...   ...   ...   ...   ...   ...   ...   ...   ...   ...  ...   ...   \n9995     0     0     0     0     0     0     0     0     0     0  ...     0   \n9996     0     0     0     0     0     0     0     0     0     0  ...     0   \n9997     0     0     0     0     0     0     0     0     0     0  ...     0   \n9998     0     0     0     0     0     0     0     0     0     0  ...     0   \n9999     0     0     0     0     0     0     0     0     0     0  ...     0   \n\n      9991  9992  9993  9994  9995  9996  9997  9998  9999  \n0        0     1     0     0     0     0     0     0     0  \n1        0     0     0     0     0     0     0     0     0  \n2        0     1     1     0     0     0     0     0     0  \n3        0     4     0     0     0     0     0     3     0  \n4        3     0     0     0     0     0     0     0     0  \n...    ...   ...   ...   ...   ...   ...   ...   ...   ...  \n9995     0     0     0     0     0     0     0     0     0  \n9996     0     0     0     0     0     0     0     0     0  \n9997     0     0     0     0     0     0     0     0     0  \n9998     0     0     0     0     0     0     0     0     0  \n9999     0     0     0     0     0     3     0     0     0  \n\n[10000 rows x 10000 columns]",
      "text/html": "<div>\n<style scoped>\n    .dataframe tbody tr th:only-of-type {\n        vertical-align: middle;\n    }\n\n    .dataframe tbody tr th {\n        vertical-align: top;\n    }\n\n    .dataframe thead th {\n        text-align: right;\n    }\n</style>\n<table border=\"1\" class=\"dataframe\">\n  <thead>\n    <tr style=\"text-align: right;\">\n      <th></th>\n      <th>0</th>\n      <th>1</th>\n      <th>2</th>\n      <th>3</th>\n      <th>4</th>\n      <th>5</th>\n      <th>6</th>\n      <th>7</th>\n      <th>8</th>\n      <th>9</th>\n      <th>...</th>\n      <th>9990</th>\n      <th>9991</th>\n      <th>9992</th>\n      <th>9993</th>\n      <th>9994</th>\n      <th>9995</th>\n      <th>9996</th>\n      <th>9997</th>\n      <th>9998</th>\n      <th>9999</th>\n    </tr>\n  </thead>\n  <tbody>\n    <tr>\n      <th>0</th>\n      <td>0</td>\n      <td>1</td>\n      <td>0</td>\n      <td>0</td>\n      <td>0</td>\n      <td>0</td>\n      <td>0</td>\n      <td>0</td>\n      <td>1</td>\n      <td>0</td>\n      <td>...</td>\n      <td>0</td>\n      <td>0</td>\n      <td>1</td>\n      <td>0</td>\n      <td>0</td>\n      <td>0</td>\n      <td>0</td>\n      <td>0</td>\n      <td>0</td>\n      <td>0</td>\n    </tr>\n    <tr>\n      <th>1</th>\n      <td>0</td>\n      <td>1</td>\n      <td>0</td>\n      <td>2</td>\n      <td>0</td>\n      <td>0</td>\n      <td>0</td>\n      <td>1</td>\n      <td>1</td>\n      <td>2</td>\n      <td>...</td>\n      <td>1</td>\n      <td>0</td>\n      <td>0</td>\n      <td>0</td>\n      <td>0</td>\n      <td>0</td>\n      <td>0</td>\n      <td>0</td>\n      <td>0</td>\n      <td>0</td>\n    </tr>\n    <tr>\n      <th>2</th>\n      <td>1</td>\n      <td>0</td>\n      <td>1</td>\n      <td>0</td>\n      <td>1</td>\n      <td>0</td>\n      <td>1</td>\n      <td>0</td>\n      <td>0</td>\n      <td>0</td>\n      <td>...</td>\n      <td>0</td>\n      <td>0</td>\n      <td>1</td>\n      <td>1</td>\n      <td>0</td>\n      <td>0</td>\n      <td>0</td>\n      <td>0</td>\n      <td>0</td>\n      <td>0</td>\n    </tr>\n    <tr>\n      <th>3</th>\n      <td>0</td>\n      <td>4</td>\n      <td>5</td>\n      <td>0</td>\n      <td>0</td>\n      <td>0</td>\n      <td>0</td>\n      <td>0</td>\n      <td>0</td>\n      <td>0</td>\n      <td>...</td>\n      <td>0</td>\n      <td>0</td>\n      <td>4</td>\n      <td>0</td>\n      <td>0</td>\n      <td>0</td>\n      <td>0</td>\n      <td>0</td>\n      <td>3</td>\n      <td>0</td>\n    </tr>\n    <tr>\n      <th>4</th>\n      <td>0</td>\n      <td>4</td>\n      <td>0</td>\n      <td>0</td>\n      <td>0</td>\n      <td>0</td>\n      <td>0</td>\n      <td>3</td>\n      <td>0</td>\n      <td>0</td>\n      <td>...</td>\n      <td>0</td>\n      <td>3</td>\n      <td>0</td>\n      <td>0</td>\n      <td>0</td>\n      <td>0</td>\n      <td>0</td>\n      <td>0</td>\n      <td>0</td>\n      <td>0</td>\n    </tr>\n    <tr>\n      <th>...</th>\n      <td>...</td>\n      <td>...</td>\n      <td>...</td>\n      <td>...</td>\n      <td>...</td>\n      <td>...</td>\n      <td>...</td>\n      <td>...</td>\n      <td>...</td>\n      <td>...</td>\n      <td>...</td>\n      <td>...</td>\n      <td>...</td>\n      <td>...</td>\n      <td>...</td>\n      <td>...</td>\n      <td>...</td>\n      <td>...</td>\n      <td>...</td>\n      <td>...</td>\n      <td>...</td>\n    </tr>\n    <tr>\n      <th>9995</th>\n      <td>0</td>\n      <td>0</td>\n      <td>0</td>\n      <td>0</td>\n      <td>0</td>\n      <td>0</td>\n      <td>0</td>\n      <td>0</td>\n      <td>0</td>\n      <td>0</td>\n      <td>...</td>\n      <td>0</td>\n      <td>0</td>\n      <td>0</td>\n      <td>0</td>\n      <td>0</td>\n      <td>0</td>\n      <td>0</td>\n      <td>0</td>\n      <td>0</td>\n      <td>0</td>\n    </tr>\n    <tr>\n      <th>9996</th>\n      <td>0</td>\n      <td>0</td>\n      <td>0</td>\n      <td>0</td>\n      <td>0</td>\n      <td>0</td>\n      <td>0</td>\n      <td>0</td>\n      <td>0</td>\n      <td>0</td>\n      <td>...</td>\n      <td>0</td>\n      <td>0</td>\n      <td>0</td>\n      <td>0</td>\n      <td>0</td>\n      <td>0</td>\n      <td>0</td>\n      <td>0</td>\n      <td>0</td>\n      <td>0</td>\n    </tr>\n    <tr>\n      <th>9997</th>\n      <td>0</td>\n      <td>0</td>\n      <td>0</td>\n      <td>0</td>\n      <td>0</td>\n      <td>0</td>\n      <td>0</td>\n      <td>0</td>\n      <td>0</td>\n      <td>0</td>\n      <td>...</td>\n      <td>0</td>\n      <td>0</td>\n      <td>0</td>\n      <td>0</td>\n      <td>0</td>\n      <td>0</td>\n      <td>0</td>\n      <td>0</td>\n      <td>0</td>\n      <td>0</td>\n    </tr>\n    <tr>\n      <th>9998</th>\n      <td>0</td>\n      <td>0</td>\n      <td>0</td>\n      <td>0</td>\n      <td>0</td>\n      <td>0</td>\n      <td>0</td>\n      <td>0</td>\n      <td>0</td>\n      <td>0</td>\n      <td>...</td>\n      <td>0</td>\n      <td>0</td>\n      <td>0</td>\n      <td>0</td>\n      <td>0</td>\n      <td>0</td>\n      <td>0</td>\n      <td>0</td>\n      <td>0</td>\n      <td>0</td>\n    </tr>\n    <tr>\n      <th>9999</th>\n      <td>0</td>\n      <td>0</td>\n      <td>0</td>\n      <td>0</td>\n      <td>0</td>\n      <td>0</td>\n      <td>0</td>\n      <td>0</td>\n      <td>0</td>\n      <td>0</td>\n      <td>...</td>\n      <td>0</td>\n      <td>0</td>\n      <td>0</td>\n      <td>0</td>\n      <td>0</td>\n      <td>0</td>\n      <td>3</td>\n      <td>0</td>\n      <td>0</td>\n      <td>0</td>\n    </tr>\n  </tbody>\n</table>\n<p>10000 rows × 10000 columns</p>\n</div>"
     },
     "execution_count": 11,
     "metadata": {},
     "output_type": "execute_result"
    }
   ],
   "source": [
    "# 构建用户行为矩阵（测试用）\n",
    "# 注意由于已经训练完成,除非初次完整运行本项目，本代码无需二次运行\n",
    "pd_user_test = pd.DataFrame(np.zeros([10000, 10000], int))\n",
    "\n",
    "f_test = open('./data/netflix_test.txt')\n",
    "f_test_data = f_test.readlines()\n",
    "for line in f_test_data:\n",
    "    temp_list = line.split(\" \")\n",
    "    pd_user_test.iloc[user_dict[temp_list[0]], int(temp_list[1]) - 1] = int(temp_list[2])\n",
    "\n",
    "pd_user_test"
   ],
   "metadata": {
    "collapsed": false
   }
  },
  {
   "cell_type": "code",
   "execution_count": 5,
   "outputs": [],
   "source": [
    "# 将上述表格保存到文件，方便后续读取\n",
    "# 注意由于已经训练完成,除非初次完整运行本项目，本代码无需二次运行\n",
    "pd_user_test_output = './data/user_test.csv'\n",
    "pd_user_test.to_csv(pd_user_test_output, sep=',', index=False, header=False)"
   ],
   "metadata": {
    "collapsed": false
   }
  },
  {
   "cell_type": "code",
   "execution_count": 4,
   "outputs": [
    {
     "data": {
      "text/plain": "   0     1     2     3     4     5     6     7     8     9     ...  9990  \\\n0     0     1     0     0     0     0     0     0     1     0  ...     0   \n1     0     1     0     2     0     0     0     1     1     2  ...     1   \n2     1     0     1     0     1     0     1     0     0     0  ...     0   \n3     0     4     5     0     0     0     0     0     0     0  ...     0   \n4     0     4     0     0     0     0     0     3     0     0  ...     0   \n\n   9991  9992  9993  9994  9995  9996  9997  9998  9999  \n0     0     1     0     0     0     0     0     0     0  \n1     0     0     0     0     0     0     0     0     0  \n2     0     1     1     0     0     0     0     0     0  \n3     0     4     0     0     0     0     0     3     0  \n4     3     0     0     0     0     0     0     0     0  \n\n[5 rows x 10000 columns]",
      "text/html": "<div>\n<style scoped>\n    .dataframe tbody tr th:only-of-type {\n        vertical-align: middle;\n    }\n\n    .dataframe tbody tr th {\n        vertical-align: top;\n    }\n\n    .dataframe thead th {\n        text-align: right;\n    }\n</style>\n<table border=\"1\" class=\"dataframe\">\n  <thead>\n    <tr style=\"text-align: right;\">\n      <th></th>\n      <th>0</th>\n      <th>1</th>\n      <th>2</th>\n      <th>3</th>\n      <th>4</th>\n      <th>5</th>\n      <th>6</th>\n      <th>7</th>\n      <th>8</th>\n      <th>9</th>\n      <th>...</th>\n      <th>9990</th>\n      <th>9991</th>\n      <th>9992</th>\n      <th>9993</th>\n      <th>9994</th>\n      <th>9995</th>\n      <th>9996</th>\n      <th>9997</th>\n      <th>9998</th>\n      <th>9999</th>\n    </tr>\n  </thead>\n  <tbody>\n    <tr>\n      <th>0</th>\n      <td>0</td>\n      <td>1</td>\n      <td>0</td>\n      <td>0</td>\n      <td>0</td>\n      <td>0</td>\n      <td>0</td>\n      <td>0</td>\n      <td>1</td>\n      <td>0</td>\n      <td>...</td>\n      <td>0</td>\n      <td>0</td>\n      <td>1</td>\n      <td>0</td>\n      <td>0</td>\n      <td>0</td>\n      <td>0</td>\n      <td>0</td>\n      <td>0</td>\n      <td>0</td>\n    </tr>\n    <tr>\n      <th>1</th>\n      <td>0</td>\n      <td>1</td>\n      <td>0</td>\n      <td>2</td>\n      <td>0</td>\n      <td>0</td>\n      <td>0</td>\n      <td>1</td>\n      <td>1</td>\n      <td>2</td>\n      <td>...</td>\n      <td>1</td>\n      <td>0</td>\n      <td>0</td>\n      <td>0</td>\n      <td>0</td>\n      <td>0</td>\n      <td>0</td>\n      <td>0</td>\n      <td>0</td>\n      <td>0</td>\n    </tr>\n    <tr>\n      <th>2</th>\n      <td>1</td>\n      <td>0</td>\n      <td>1</td>\n      <td>0</td>\n      <td>1</td>\n      <td>0</td>\n      <td>1</td>\n      <td>0</td>\n      <td>0</td>\n      <td>0</td>\n      <td>...</td>\n      <td>0</td>\n      <td>0</td>\n      <td>1</td>\n      <td>1</td>\n      <td>0</td>\n      <td>0</td>\n      <td>0</td>\n      <td>0</td>\n      <td>0</td>\n      <td>0</td>\n    </tr>\n    <tr>\n      <th>3</th>\n      <td>0</td>\n      <td>4</td>\n      <td>5</td>\n      <td>0</td>\n      <td>0</td>\n      <td>0</td>\n      <td>0</td>\n      <td>0</td>\n      <td>0</td>\n      <td>0</td>\n      <td>...</td>\n      <td>0</td>\n      <td>0</td>\n      <td>4</td>\n      <td>0</td>\n      <td>0</td>\n      <td>0</td>\n      <td>0</td>\n      <td>0</td>\n      <td>3</td>\n      <td>0</td>\n    </tr>\n    <tr>\n      <th>4</th>\n      <td>0</td>\n      <td>4</td>\n      <td>0</td>\n      <td>0</td>\n      <td>0</td>\n      <td>0</td>\n      <td>0</td>\n      <td>3</td>\n      <td>0</td>\n      <td>0</td>\n      <td>...</td>\n      <td>0</td>\n      <td>3</td>\n      <td>0</td>\n      <td>0</td>\n      <td>0</td>\n      <td>0</td>\n      <td>0</td>\n      <td>0</td>\n      <td>0</td>\n      <td>0</td>\n    </tr>\n  </tbody>\n</table>\n<p>5 rows × 10000 columns</p>\n</div>"
     },
     "execution_count": 4,
     "metadata": {},
     "output_type": "execute_result"
    }
   ],
   "source": [
    "user_test = pd.read_csv(\"./data/user_test.csv\", header=None)\n",
    "user_test.head()"
   ],
   "metadata": {
    "collapsed": false
   }
  },
  {
   "cell_type": "markdown",
   "source": [
    "# 2 协同过滤"
   ],
   "metadata": {
    "collapsed": false
   }
  },
  {
   "cell_type": "code",
   "execution_count": 5,
   "outputs": [],
   "source": [
    "# 设置维度大小\n",
    "level = 2000"
   ],
   "metadata": {
    "collapsed": false
   }
  },
  {
   "cell_type": "code",
   "execution_count": 6,
   "outputs": [
    {
     "data": {
      "text/plain": "0.6375199878464465"
     },
     "execution_count": 6,
     "metadata": {},
     "output_type": "execute_result"
    }
   ],
   "source": [
    "# 计算相似度\n",
    "def sim(user1, user2):\n",
    "    '''\n",
    "    计算两个用户向量的余弦相似度\n",
    "    适配本环境请输入：user_train.iloc[0,:].values,user_train.iloc[1,:].values\n",
    "    :param user1: 用户1对所有电影打分的向量\n",
    "    :param user2: 用户2对所用电影打分的向量\n",
    "    :return: 相似度\n",
    "    '''\n",
    "    xy = sum(np.multiply(user1, user2))\n",
    "    x_v = math.sqrt(sum(x**2 for x in user1))\n",
    "    y_v = math.sqrt(sum(x**2 for x in user2))\n",
    "    ans = 0.0\n",
    "    fenmu = x_v * y_v\n",
    "    if fenmu != 0:\n",
    "        ans = xy / fenmu\n",
    "    return ans\n",
    "# 函数测试\n",
    "sim(user_train.iloc[0,:].values, user_train.iloc[1,:].values)"
   ],
   "metadata": {
    "collapsed": false
   }
  },
  {
   "cell_type": "code",
   "execution_count": 13,
   "outputs": [
    {
     "data": {
      "text/plain": "          0         1         2         3         4         5         6  \\\n0  0.000000  0.637520  0.589112  0.645917  0.610410  0.556041  0.485405   \n1  0.637520  0.000000  0.622332  0.672795  0.657799  0.520011  0.533986   \n2  0.589112  0.622332  0.000000  0.630058  0.612625  0.479487  0.501114   \n3  0.645917  0.672795  0.630058  0.000000  0.733967  0.496248  0.555380   \n4  0.610410  0.657799  0.612625  0.733967  0.000000  0.483486  0.562568   \n5  0.556041  0.520011  0.479487  0.496248  0.483486  0.000000  0.413856   \n6  0.485405  0.533986  0.501114  0.555380  0.562568  0.413856  0.000000   \n7  0.485914  0.486659  0.456102  0.480652  0.469293  0.457058  0.426888   \n8  0.461615  0.520652  0.518732  0.530741  0.550004  0.400203  0.534465   \n9  0.493266  0.502750  0.500384  0.526780  0.522992  0.412339  0.478501   \n\n          7         8         9  \n0  0.485914  0.461615  0.493266  \n1  0.486659  0.520652  0.502750  \n2  0.456102  0.518732  0.500384  \n3  0.480652  0.530741  0.526780  \n4  0.469293  0.550004  0.522992  \n5  0.457058  0.400203  0.412339  \n6  0.426888  0.534465  0.478501  \n7  0.000000  0.420089  0.383643  \n8  0.420089  0.000000  0.435907  \n9  0.383643  0.435907  0.000000  ",
      "text/html": "<div>\n<style scoped>\n    .dataframe tbody tr th:only-of-type {\n        vertical-align: middle;\n    }\n\n    .dataframe tbody tr th {\n        vertical-align: top;\n    }\n\n    .dataframe thead th {\n        text-align: right;\n    }\n</style>\n<table border=\"1\" class=\"dataframe\">\n  <thead>\n    <tr style=\"text-align: right;\">\n      <th></th>\n      <th>0</th>\n      <th>1</th>\n      <th>2</th>\n      <th>3</th>\n      <th>4</th>\n      <th>5</th>\n      <th>6</th>\n      <th>7</th>\n      <th>8</th>\n      <th>9</th>\n    </tr>\n  </thead>\n  <tbody>\n    <tr>\n      <th>0</th>\n      <td>0.000000</td>\n      <td>0.637520</td>\n      <td>0.589112</td>\n      <td>0.645917</td>\n      <td>0.610410</td>\n      <td>0.556041</td>\n      <td>0.485405</td>\n      <td>0.485914</td>\n      <td>0.461615</td>\n      <td>0.493266</td>\n    </tr>\n    <tr>\n      <th>1</th>\n      <td>0.637520</td>\n      <td>0.000000</td>\n      <td>0.622332</td>\n      <td>0.672795</td>\n      <td>0.657799</td>\n      <td>0.520011</td>\n      <td>0.533986</td>\n      <td>0.486659</td>\n      <td>0.520652</td>\n      <td>0.502750</td>\n    </tr>\n    <tr>\n      <th>2</th>\n      <td>0.589112</td>\n      <td>0.622332</td>\n      <td>0.000000</td>\n      <td>0.630058</td>\n      <td>0.612625</td>\n      <td>0.479487</td>\n      <td>0.501114</td>\n      <td>0.456102</td>\n      <td>0.518732</td>\n      <td>0.500384</td>\n    </tr>\n    <tr>\n      <th>3</th>\n      <td>0.645917</td>\n      <td>0.672795</td>\n      <td>0.630058</td>\n      <td>0.000000</td>\n      <td>0.733967</td>\n      <td>0.496248</td>\n      <td>0.555380</td>\n      <td>0.480652</td>\n      <td>0.530741</td>\n      <td>0.526780</td>\n    </tr>\n    <tr>\n      <th>4</th>\n      <td>0.610410</td>\n      <td>0.657799</td>\n      <td>0.612625</td>\n      <td>0.733967</td>\n      <td>0.000000</td>\n      <td>0.483486</td>\n      <td>0.562568</td>\n      <td>0.469293</td>\n      <td>0.550004</td>\n      <td>0.522992</td>\n    </tr>\n    <tr>\n      <th>5</th>\n      <td>0.556041</td>\n      <td>0.520011</td>\n      <td>0.479487</td>\n      <td>0.496248</td>\n      <td>0.483486</td>\n      <td>0.000000</td>\n      <td>0.413856</td>\n      <td>0.457058</td>\n      <td>0.400203</td>\n      <td>0.412339</td>\n    </tr>\n    <tr>\n      <th>6</th>\n      <td>0.485405</td>\n      <td>0.533986</td>\n      <td>0.501114</td>\n      <td>0.555380</td>\n      <td>0.562568</td>\n      <td>0.413856</td>\n      <td>0.000000</td>\n      <td>0.426888</td>\n      <td>0.534465</td>\n      <td>0.478501</td>\n    </tr>\n    <tr>\n      <th>7</th>\n      <td>0.485914</td>\n      <td>0.486659</td>\n      <td>0.456102</td>\n      <td>0.480652</td>\n      <td>0.469293</td>\n      <td>0.457058</td>\n      <td>0.426888</td>\n      <td>0.000000</td>\n      <td>0.420089</td>\n      <td>0.383643</td>\n    </tr>\n    <tr>\n      <th>8</th>\n      <td>0.461615</td>\n      <td>0.520652</td>\n      <td>0.518732</td>\n      <td>0.530741</td>\n      <td>0.550004</td>\n      <td>0.400203</td>\n      <td>0.534465</td>\n      <td>0.420089</td>\n      <td>0.000000</td>\n      <td>0.435907</td>\n    </tr>\n    <tr>\n      <th>9</th>\n      <td>0.493266</td>\n      <td>0.502750</td>\n      <td>0.500384</td>\n      <td>0.526780</td>\n      <td>0.522992</td>\n      <td>0.412339</td>\n      <td>0.478501</td>\n      <td>0.383643</td>\n      <td>0.435907</td>\n      <td>0.000000</td>\n    </tr>\n  </tbody>\n</table>\n</div>"
     },
     "execution_count": 13,
     "metadata": {},
     "output_type": "execute_result"
    }
   ],
   "source": [
    "# 计算相似矩阵\n",
    "# 注意由于已经训练完成,除非初次完整运行本项目，本代码无需二次运行\n",
    "pd_user_sim = pd.DataFrame(np.zeros([level, level], int))\n",
    "\n",
    "for i in range(0, level):\n",
    "    for j in range(i + 1, level):\n",
    "        pd_user_sim.iloc[i, j] = sim(user_train.iloc[i,:].values, user_train.iloc[j,:].values)\n",
    "        print(i, j, pd_user_sim.iloc[i, j])\n",
    "        pd_user_sim.iloc[j, i] = pd_user_sim.iloc[i, j]\n",
    "\n",
    "pd_user_sim.iloc[0:10, 0:10]"
   ],
   "metadata": {
    "collapsed": false
   }
  },
  {
   "cell_type": "code",
   "execution_count": 15,
   "outputs": [
    {
     "data": {
      "text/plain": "          0         1         2         3         4         5         6  \\\n0  0.000000  0.637520  0.589112  0.645917  0.610410  0.556041  0.485405   \n1  0.637520  0.000000  0.622332  0.672795  0.657799  0.520011  0.533986   \n2  0.589112  0.622332  0.000000  0.630058  0.612625  0.479487  0.501114   \n3  0.645917  0.672795  0.630058  0.000000  0.733967  0.496248  0.555380   \n4  0.610410  0.657799  0.612625  0.733967  0.000000  0.483486  0.562568   \n5  0.556041  0.520011  0.479487  0.496248  0.483486  0.000000  0.413856   \n6  0.485405  0.533986  0.501114  0.555380  0.562568  0.413856  0.000000   \n7  0.485914  0.486659  0.456102  0.480652  0.469293  0.457058  0.426888   \n8  0.461615  0.520652  0.518732  0.530741  0.550004  0.400203  0.534465   \n9  0.493266  0.502750  0.500384  0.526780  0.522992  0.412339  0.478501   \n\n          7         8         9  \n0  0.485914  0.461615  0.493266  \n1  0.486659  0.520652  0.502750  \n2  0.456102  0.518732  0.500384  \n3  0.480652  0.530741  0.526780  \n4  0.469293  0.550004  0.522992  \n5  0.457058  0.400203  0.412339  \n6  0.426888  0.534465  0.478501  \n7  0.000000  0.420089  0.383643  \n8  0.420089  0.000000  0.435907  \n9  0.383643  0.435907  0.000000  ",
      "text/html": "<div>\n<style scoped>\n    .dataframe tbody tr th:only-of-type {\n        vertical-align: middle;\n    }\n\n    .dataframe tbody tr th {\n        vertical-align: top;\n    }\n\n    .dataframe thead th {\n        text-align: right;\n    }\n</style>\n<table border=\"1\" class=\"dataframe\">\n  <thead>\n    <tr style=\"text-align: right;\">\n      <th></th>\n      <th>0</th>\n      <th>1</th>\n      <th>2</th>\n      <th>3</th>\n      <th>4</th>\n      <th>5</th>\n      <th>6</th>\n      <th>7</th>\n      <th>8</th>\n      <th>9</th>\n    </tr>\n  </thead>\n  <tbody>\n    <tr>\n      <th>0</th>\n      <td>0.000000</td>\n      <td>0.637520</td>\n      <td>0.589112</td>\n      <td>0.645917</td>\n      <td>0.610410</td>\n      <td>0.556041</td>\n      <td>0.485405</td>\n      <td>0.485914</td>\n      <td>0.461615</td>\n      <td>0.493266</td>\n    </tr>\n    <tr>\n      <th>1</th>\n      <td>0.637520</td>\n      <td>0.000000</td>\n      <td>0.622332</td>\n      <td>0.672795</td>\n      <td>0.657799</td>\n      <td>0.520011</td>\n      <td>0.533986</td>\n      <td>0.486659</td>\n      <td>0.520652</td>\n      <td>0.502750</td>\n    </tr>\n    <tr>\n      <th>2</th>\n      <td>0.589112</td>\n      <td>0.622332</td>\n      <td>0.000000</td>\n      <td>0.630058</td>\n      <td>0.612625</td>\n      <td>0.479487</td>\n      <td>0.501114</td>\n      <td>0.456102</td>\n      <td>0.518732</td>\n      <td>0.500384</td>\n    </tr>\n    <tr>\n      <th>3</th>\n      <td>0.645917</td>\n      <td>0.672795</td>\n      <td>0.630058</td>\n      <td>0.000000</td>\n      <td>0.733967</td>\n      <td>0.496248</td>\n      <td>0.555380</td>\n      <td>0.480652</td>\n      <td>0.530741</td>\n      <td>0.526780</td>\n    </tr>\n    <tr>\n      <th>4</th>\n      <td>0.610410</td>\n      <td>0.657799</td>\n      <td>0.612625</td>\n      <td>0.733967</td>\n      <td>0.000000</td>\n      <td>0.483486</td>\n      <td>0.562568</td>\n      <td>0.469293</td>\n      <td>0.550004</td>\n      <td>0.522992</td>\n    </tr>\n    <tr>\n      <th>5</th>\n      <td>0.556041</td>\n      <td>0.520011</td>\n      <td>0.479487</td>\n      <td>0.496248</td>\n      <td>0.483486</td>\n      <td>0.000000</td>\n      <td>0.413856</td>\n      <td>0.457058</td>\n      <td>0.400203</td>\n      <td>0.412339</td>\n    </tr>\n    <tr>\n      <th>6</th>\n      <td>0.485405</td>\n      <td>0.533986</td>\n      <td>0.501114</td>\n      <td>0.555380</td>\n      <td>0.562568</td>\n      <td>0.413856</td>\n      <td>0.000000</td>\n      <td>0.426888</td>\n      <td>0.534465</td>\n      <td>0.478501</td>\n    </tr>\n    <tr>\n      <th>7</th>\n      <td>0.485914</td>\n      <td>0.486659</td>\n      <td>0.456102</td>\n      <td>0.480652</td>\n      <td>0.469293</td>\n      <td>0.457058</td>\n      <td>0.426888</td>\n      <td>0.000000</td>\n      <td>0.420089</td>\n      <td>0.383643</td>\n    </tr>\n    <tr>\n      <th>8</th>\n      <td>0.461615</td>\n      <td>0.520652</td>\n      <td>0.518732</td>\n      <td>0.530741</td>\n      <td>0.550004</td>\n      <td>0.400203</td>\n      <td>0.534465</td>\n      <td>0.420089</td>\n      <td>0.000000</td>\n      <td>0.435907</td>\n    </tr>\n    <tr>\n      <th>9</th>\n      <td>0.493266</td>\n      <td>0.502750</td>\n      <td>0.500384</td>\n      <td>0.526780</td>\n      <td>0.522992</td>\n      <td>0.412339</td>\n      <td>0.478501</td>\n      <td>0.383643</td>\n      <td>0.435907</td>\n      <td>0.000000</td>\n    </tr>\n  </tbody>\n</table>\n</div>"
     },
     "execution_count": 15,
     "metadata": {},
     "output_type": "execute_result"
    }
   ],
   "source": [
    "# 并行优化，计算相似矩阵（方法1）\n",
    "# 注意由于已经训练完成,除非初次完整运行本项目，本代码无需二次运行\n",
    "# 该代码和上述串行结果一致，只需要跑一种方法\n",
    "pd_user_sim = pd.DataFrame(np.ones([level, level], float))\n",
    "from joblib import Parallel, delayed\n",
    "\n",
    "def para_fuc(i, j):\n",
    "    pd_user_sim.iloc[i, j] = sim(user_train.iloc[i,:].values, user_train.iloc[j,:].values)\n",
    "    pd_user_sim.iloc[j, i] = pd_user_sim.iloc[i, j]\n",
    "\n",
    "Parallel(n_jobs=16)(delayed(para_fuc)(i, j) for i in range(0, 10) for j in range(i + 1, 10))\n",
    "\n",
    "pd_user_sim.iloc[0:10, 0:10]"
   ],
   "metadata": {
    "collapsed": false
   }
  },
  {
   "cell_type": "code",
   "execution_count": null,
   "outputs": [],
   "source": [
    "# 并行优化，计算相似矩阵（方法2）\n",
    "# 注意由于已经训练完成,除非初次完整运行本项目，本代码无需二次运行\n",
    "# 该代码和上述串行结果一致，只需要跑一种方法\n",
    "from multiprocessing import Pool\n",
    "\n",
    "def para_fuc(i):\n",
    "    for j in range(i + 1, level):\n",
    "        pd_user_sim.iloc[i, j] = sim(user_train.iloc[i,:].values, user_train.iloc[j,:].values)\n",
    "        pd_user_sim.iloc[j, i] = pd_user_sim.iloc[i, j]\n",
    "\n",
    "pool = Pool()\n",
    "id = list(range(1, level))\n",
    "pool.map(para_fuc, id)\n",
    "pool.close()\n",
    "pool.join()"
   ],
   "metadata": {
    "collapsed": false
   }
  },
  {
   "cell_type": "code",
   "execution_count": 14,
   "outputs": [],
   "source": [
    "# 将上述表格保存到文件，方便后续读取\n",
    "# 注意由于已经训练完成,除非初次完整运行本项目，本代码无需二次运行\n",
    "pd_user_sim_output = './data/user_sim.csv'\n",
    "pd_user_sim.to_csv(pd_user_sim_output, sep=',', index=False, header=False)"
   ],
   "metadata": {
    "collapsed": false
   }
  },
  {
   "cell_type": "code",
   "execution_count": 9,
   "outputs": [
    {
     "data": {
      "text/plain": "          0         1         2         3         4         5         6  \\\n0  0.000000  0.637520  0.589112  0.645917  0.610410  0.556041  0.485405   \n1  0.637520  0.000000  0.622332  0.672795  0.657799  0.520011  0.533986   \n2  0.589112  0.622332  0.000000  0.630058  0.612625  0.479487  0.501114   \n3  0.645917  0.672795  0.630058  0.000000  0.733967  0.496248  0.555380   \n4  0.610410  0.657799  0.612625  0.733967  0.000000  0.483486  0.562568   \n5  0.556041  0.520011  0.479487  0.496248  0.483486  0.000000  0.413856   \n6  0.485405  0.533986  0.501114  0.555380  0.562568  0.413856  0.000000   \n7  0.485914  0.486659  0.456102  0.480652  0.469293  0.457058  0.426888   \n8  0.461615  0.520652  0.518732  0.530741  0.550004  0.400203  0.534465   \n9  0.493266  0.502750  0.500384  0.526780  0.522992  0.412339  0.478501   \n\n          7         8         9  \n0  0.485914  0.461615  0.493266  \n1  0.486659  0.520652  0.502750  \n2  0.456102  0.518732  0.500384  \n3  0.480652  0.530741  0.526780  \n4  0.469293  0.550004  0.522992  \n5  0.457058  0.400203  0.412339  \n6  0.426888  0.534465  0.478501  \n7  0.000000  0.420089  0.383643  \n8  0.420089  0.000000  0.435907  \n9  0.383643  0.435907  0.000000  ",
      "text/html": "<div>\n<style scoped>\n    .dataframe tbody tr th:only-of-type {\n        vertical-align: middle;\n    }\n\n    .dataframe tbody tr th {\n        vertical-align: top;\n    }\n\n    .dataframe thead th {\n        text-align: right;\n    }\n</style>\n<table border=\"1\" class=\"dataframe\">\n  <thead>\n    <tr style=\"text-align: right;\">\n      <th></th>\n      <th>0</th>\n      <th>1</th>\n      <th>2</th>\n      <th>3</th>\n      <th>4</th>\n      <th>5</th>\n      <th>6</th>\n      <th>7</th>\n      <th>8</th>\n      <th>9</th>\n    </tr>\n  </thead>\n  <tbody>\n    <tr>\n      <th>0</th>\n      <td>0.000000</td>\n      <td>0.637520</td>\n      <td>0.589112</td>\n      <td>0.645917</td>\n      <td>0.610410</td>\n      <td>0.556041</td>\n      <td>0.485405</td>\n      <td>0.485914</td>\n      <td>0.461615</td>\n      <td>0.493266</td>\n    </tr>\n    <tr>\n      <th>1</th>\n      <td>0.637520</td>\n      <td>0.000000</td>\n      <td>0.622332</td>\n      <td>0.672795</td>\n      <td>0.657799</td>\n      <td>0.520011</td>\n      <td>0.533986</td>\n      <td>0.486659</td>\n      <td>0.520652</td>\n      <td>0.502750</td>\n    </tr>\n    <tr>\n      <th>2</th>\n      <td>0.589112</td>\n      <td>0.622332</td>\n      <td>0.000000</td>\n      <td>0.630058</td>\n      <td>0.612625</td>\n      <td>0.479487</td>\n      <td>0.501114</td>\n      <td>0.456102</td>\n      <td>0.518732</td>\n      <td>0.500384</td>\n    </tr>\n    <tr>\n      <th>3</th>\n      <td>0.645917</td>\n      <td>0.672795</td>\n      <td>0.630058</td>\n      <td>0.000000</td>\n      <td>0.733967</td>\n      <td>0.496248</td>\n      <td>0.555380</td>\n      <td>0.480652</td>\n      <td>0.530741</td>\n      <td>0.526780</td>\n    </tr>\n    <tr>\n      <th>4</th>\n      <td>0.610410</td>\n      <td>0.657799</td>\n      <td>0.612625</td>\n      <td>0.733967</td>\n      <td>0.000000</td>\n      <td>0.483486</td>\n      <td>0.562568</td>\n      <td>0.469293</td>\n      <td>0.550004</td>\n      <td>0.522992</td>\n    </tr>\n    <tr>\n      <th>5</th>\n      <td>0.556041</td>\n      <td>0.520011</td>\n      <td>0.479487</td>\n      <td>0.496248</td>\n      <td>0.483486</td>\n      <td>0.000000</td>\n      <td>0.413856</td>\n      <td>0.457058</td>\n      <td>0.400203</td>\n      <td>0.412339</td>\n    </tr>\n    <tr>\n      <th>6</th>\n      <td>0.485405</td>\n      <td>0.533986</td>\n      <td>0.501114</td>\n      <td>0.555380</td>\n      <td>0.562568</td>\n      <td>0.413856</td>\n      <td>0.000000</td>\n      <td>0.426888</td>\n      <td>0.534465</td>\n      <td>0.478501</td>\n    </tr>\n    <tr>\n      <th>7</th>\n      <td>0.485914</td>\n      <td>0.486659</td>\n      <td>0.456102</td>\n      <td>0.480652</td>\n      <td>0.469293</td>\n      <td>0.457058</td>\n      <td>0.426888</td>\n      <td>0.000000</td>\n      <td>0.420089</td>\n      <td>0.383643</td>\n    </tr>\n    <tr>\n      <th>8</th>\n      <td>0.461615</td>\n      <td>0.520652</td>\n      <td>0.518732</td>\n      <td>0.530741</td>\n      <td>0.550004</td>\n      <td>0.400203</td>\n      <td>0.534465</td>\n      <td>0.420089</td>\n      <td>0.000000</td>\n      <td>0.435907</td>\n    </tr>\n    <tr>\n      <th>9</th>\n      <td>0.493266</td>\n      <td>0.502750</td>\n      <td>0.500384</td>\n      <td>0.526780</td>\n      <td>0.522992</td>\n      <td>0.412339</td>\n      <td>0.478501</td>\n      <td>0.383643</td>\n      <td>0.435907</td>\n      <td>0.000000</td>\n    </tr>\n  </tbody>\n</table>\n</div>"
     },
     "execution_count": 9,
     "metadata": {},
     "output_type": "execute_result"
    }
   ],
   "source": [
    "pd_user_sim = pd.read_csv(\"./data/user_sim.csv\", header=None)\n",
    "pd_user_sim.iloc[0:10, 0:10]"
   ],
   "metadata": {
    "collapsed": false
   }
  },
  {
   "cell_type": "code",
   "execution_count": 21,
   "outputs": [
    {
     "data": {
      "text/plain": "2"
     },
     "execution_count": 21,
     "metadata": {},
     "output_type": "execute_result"
    }
   ],
   "source": [
    "# 计算某用户对某电影的预测评分\n",
    "def predict(userid, movieid):\n",
    "    '''\n",
    "    评分预测\n",
    "    :param userid: 用户的id\n",
    "    :param movieid: 电影的id\n",
    "    :return: 预测评分\n",
    "    '''\n",
    "    score = 0\n",
    "    for i in range(0, level): # 因为上述定义中，自己和自己的相似性为0，所以这里自己参与运算，贡献为0，不影响最终结果，所以不需要考虑i==userid的情况\n",
    "        score += pd_user_sim.iloc[userid, i] * user_train.iloc[i, movieid]\n",
    "    score /= sum(pd_user_sim.iloc[userid, :])\n",
    "    return round(score)\n",
    "# 函数测试\n",
    "predict(0, 29)"
   ],
   "metadata": {
    "collapsed": false
   }
  },
  {
   "cell_type": "code",
   "execution_count": null,
   "outputs": [],
   "source": [
    "# 预测评分\n",
    "pd_user_pre = pd.DataFrame(np.zeros([level, level], int))\n",
    "\n",
    "for i in range(0, level):\n",
    "    for j in range(0, level):\n",
    "        pd_user_pre.iloc[i, j] = predict(i, j)\n",
    "\n",
    "pd_user_pre.iloc[0:10, 0:10]"
   ],
   "metadata": {
    "collapsed": false,
    "pycharm": {
     "is_executing": true
    }
   }
  },
  {
   "cell_type": "code",
   "execution_count": null,
   "outputs": [],
   "source": [
    "# 将上述表格保存到文件，方便后续读取\n",
    "# 注意由于已经训练完成,除非初次完整运行本项目，本代码无需二次运行\n",
    "pd_user_pre_output = './data/user_pre.csv'\n",
    "pd_user_pre.to_csv(pd_user_pre_output, sep=',', index=False, header=False)"
   ],
   "metadata": {
    "collapsed": false
   }
  },
  {
   "cell_type": "code",
   "execution_count": null,
   "outputs": [],
   "source": [
    "pd_user_pre = pd.read_csv(\"./data/user_pre.csv\", header=None)\n",
    "pd_user_pre.iloc[0:10, 0:10]"
   ],
   "metadata": {
    "collapsed": false
   }
  },
  {
   "cell_type": "code",
   "execution_count": 24,
   "outputs": [],
   "source": [
    "# 定义均方根误差函数\n",
    "def RMSE():\n",
    "    Sum = 0.0\n",
    "    for i in range(0, level):\n",
    "        Sum += sum(x**2 for x in (user_test.iloc[i, 0:level].values - user_pre.iloc[i, 0:level].values))\n",
    "    ans = math.sqrt(Sum / (level * level))\n",
    "    return ans"
   ],
   "metadata": {
    "collapsed": false
   }
  },
  {
   "cell_type": "code",
   "execution_count": 25,
   "outputs": [
    {
     "name": "stdout",
     "output_type": "stream",
     "text": [
      "0.5529963833516455\n"
     ]
    }
   ],
   "source": [
    "# 测试预测效果\n",
    "print(RMSE())"
   ],
   "metadata": {
    "collapsed": false
   }
  },
  {
   "cell_type": "code",
   "execution_count": 31,
   "outputs": [
    {
     "name": "stdout",
     "output_type": "stream",
     "text": [
      "0.5529905062476208\n"
     ]
    }
   ],
   "source": [
    "# 计算基线预测效果\n",
    "def RMSE_base():\n",
    "    Sum = 0.0\n",
    "    for i in range(0, level):\n",
    "        Sum += sum(x**2 for x in (user_test.iloc[i, 0:level].values))\n",
    "    ans = math.sqrt(Sum / (level * level))\n",
    "    return ans\n",
    "print(RMSE_base())"
   ],
   "metadata": {
    "collapsed": false
   }
  },
  {
   "cell_type": "markdown",
   "source": [
    "# 3 基于梯度下降的矩阵分解"
   ],
   "metadata": {
    "collapsed": false
   }
  },
  {
   "cell_type": "code",
   "execution_count": null,
   "outputs": [],
   "source": [],
   "metadata": {
    "collapsed": false
   }
  }
 ],
 "metadata": {
  "kernelspec": {
   "display_name": "Python 3",
   "language": "python",
   "name": "python3"
  },
  "language_info": {
   "codemirror_mode": {
    "name": "ipython",
    "version": 2
   },
   "file_extension": ".py",
   "mimetype": "text/x-python",
   "name": "python",
   "nbconvert_exporter": "python",
   "pygments_lexer": "ipython2",
   "version": "2.7.6"
  }
 },
 "nbformat": 4,
 "nbformat_minor": 0
}
