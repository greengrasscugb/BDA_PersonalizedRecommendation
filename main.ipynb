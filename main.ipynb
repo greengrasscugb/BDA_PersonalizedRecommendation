{
 "cells": [
  {
   "cell_type": "code",
   "execution_count": 150,
   "metadata": {
    "collapsed": true
   },
   "outputs": [],
   "source": [
    "import numpy as np\n",
    "import pandas as pd\n",
    "import math\n",
    "import matplotlib.pyplot as plt"
   ]
  },
  {
   "cell_type": "markdown",
   "source": [
    "# 1 数据预处理"
   ],
   "metadata": {
    "collapsed": false
   }
  },
  {
   "cell_type": "code",
   "execution_count": 2,
   "outputs": [
    {
     "name": "stdout",
     "output_type": "stream",
     "text": [
      "10000\n"
     ]
    }
   ],
   "source": [
    "# 构建 用户名id —— 用户新id(从1开始)\n",
    "f_user= open('./data/users.txt', encoding='utf-8')\n",
    "line = f_user.readline().strip()\n",
    "user_list = []\n",
    "user_list.append(line)\n",
    "while line:\n",
    "    line = f_user.readline().strip()\n",
    "    if line != '':\n",
    "        user_list.append(line)\n",
    "f_user.close()\n",
    "user_dict = {}\n",
    "for i in range(0, len(user_list)):\n",
    "    user_dict[user_list[i]] = i\n",
    "\n",
    "print(len(user_dict))"
   ],
   "metadata": {
    "collapsed": false
   }
  },
  {
   "cell_type": "code",
   "execution_count": 3,
   "outputs": [
    {
     "data": {
      "text/plain": "      0     1     2     3     4     5     6     7     8     9     ...  9990  \\\n0        1     0     2     1     1     1     2     1     0     1  ...     2   \n1        1     0     2     0     1     2     1     0     0     0  ...     0   \n2        0     1     0     1     0     1     0     1     0     1  ...     1   \n3        5     0     0     3     5     4     3     4     3     4  ...     5   \n4        5     0     4     3     5     4     3     0     0     3  ...     5   \n...    ...   ...   ...   ...   ...   ...   ...   ...   ...   ...  ...   ...   \n9995     0     0     0     0     0     0     0     0     0     0  ...     0   \n9996     0     0     0     0     0     0     0     0     0     0  ...     0   \n9997     0     0     0     0     0     0     0     3     0     0  ...     0   \n9998     0     0     0     0     0     0     0     0     0     0  ...     0   \n9999     0     0     0     0     0     0     0     4     0     0  ...     0   \n\n      9991  9992  9993  9994  9995  9996  9997  9998  9999  \n0        1     0     1     1     2     1     1     1     2  \n1        1     1     1     0     2     1     1     2     1  \n2        1     0     0     0     1     1     1     1     1  \n3        3     0     4     5     5     5     4     0     5  \n4        0     5     4     4     5     4     4     0     4  \n...    ...   ...   ...   ...   ...   ...   ...   ...   ...  \n9995     0     0     0     0     0     0     0     0     0  \n9996     0     0     0     0     0     0     0     0     0  \n9997     0     0     0     0     0     0     0     0     0  \n9998     0     0     0     0     0     0     0     0     0  \n9999     0     0     0     0     0     0     0     0     0  \n\n[10000 rows x 10000 columns]",
      "text/html": "<div>\n<style scoped>\n    .dataframe tbody tr th:only-of-type {\n        vertical-align: middle;\n    }\n\n    .dataframe tbody tr th {\n        vertical-align: top;\n    }\n\n    .dataframe thead th {\n        text-align: right;\n    }\n</style>\n<table border=\"1\" class=\"dataframe\">\n  <thead>\n    <tr style=\"text-align: right;\">\n      <th></th>\n      <th>0</th>\n      <th>1</th>\n      <th>2</th>\n      <th>3</th>\n      <th>4</th>\n      <th>5</th>\n      <th>6</th>\n      <th>7</th>\n      <th>8</th>\n      <th>9</th>\n      <th>...</th>\n      <th>9990</th>\n      <th>9991</th>\n      <th>9992</th>\n      <th>9993</th>\n      <th>9994</th>\n      <th>9995</th>\n      <th>9996</th>\n      <th>9997</th>\n      <th>9998</th>\n      <th>9999</th>\n    </tr>\n  </thead>\n  <tbody>\n    <tr>\n      <th>0</th>\n      <td>1</td>\n      <td>0</td>\n      <td>2</td>\n      <td>1</td>\n      <td>1</td>\n      <td>1</td>\n      <td>2</td>\n      <td>1</td>\n      <td>0</td>\n      <td>1</td>\n      <td>...</td>\n      <td>2</td>\n      <td>1</td>\n      <td>0</td>\n      <td>1</td>\n      <td>1</td>\n      <td>2</td>\n      <td>1</td>\n      <td>1</td>\n      <td>1</td>\n      <td>2</td>\n    </tr>\n    <tr>\n      <th>1</th>\n      <td>1</td>\n      <td>0</td>\n      <td>2</td>\n      <td>0</td>\n      <td>1</td>\n      <td>2</td>\n      <td>1</td>\n      <td>0</td>\n      <td>0</td>\n      <td>0</td>\n      <td>...</td>\n      <td>0</td>\n      <td>1</td>\n      <td>1</td>\n      <td>1</td>\n      <td>0</td>\n      <td>2</td>\n      <td>1</td>\n      <td>1</td>\n      <td>2</td>\n      <td>1</td>\n    </tr>\n    <tr>\n      <th>2</th>\n      <td>0</td>\n      <td>1</td>\n      <td>0</td>\n      <td>1</td>\n      <td>0</td>\n      <td>1</td>\n      <td>0</td>\n      <td>1</td>\n      <td>0</td>\n      <td>1</td>\n      <td>...</td>\n      <td>1</td>\n      <td>1</td>\n      <td>0</td>\n      <td>0</td>\n      <td>0</td>\n      <td>1</td>\n      <td>1</td>\n      <td>1</td>\n      <td>1</td>\n      <td>1</td>\n    </tr>\n    <tr>\n      <th>3</th>\n      <td>5</td>\n      <td>0</td>\n      <td>0</td>\n      <td>3</td>\n      <td>5</td>\n      <td>4</td>\n      <td>3</td>\n      <td>4</td>\n      <td>3</td>\n      <td>4</td>\n      <td>...</td>\n      <td>5</td>\n      <td>3</td>\n      <td>0</td>\n      <td>4</td>\n      <td>5</td>\n      <td>5</td>\n      <td>5</td>\n      <td>4</td>\n      <td>0</td>\n      <td>5</td>\n    </tr>\n    <tr>\n      <th>4</th>\n      <td>5</td>\n      <td>0</td>\n      <td>4</td>\n      <td>3</td>\n      <td>5</td>\n      <td>4</td>\n      <td>3</td>\n      <td>0</td>\n      <td>0</td>\n      <td>3</td>\n      <td>...</td>\n      <td>5</td>\n      <td>0</td>\n      <td>5</td>\n      <td>4</td>\n      <td>4</td>\n      <td>5</td>\n      <td>4</td>\n      <td>4</td>\n      <td>0</td>\n      <td>4</td>\n    </tr>\n    <tr>\n      <th>...</th>\n      <td>...</td>\n      <td>...</td>\n      <td>...</td>\n      <td>...</td>\n      <td>...</td>\n      <td>...</td>\n      <td>...</td>\n      <td>...</td>\n      <td>...</td>\n      <td>...</td>\n      <td>...</td>\n      <td>...</td>\n      <td>...</td>\n      <td>...</td>\n      <td>...</td>\n      <td>...</td>\n      <td>...</td>\n      <td>...</td>\n      <td>...</td>\n      <td>...</td>\n      <td>...</td>\n    </tr>\n    <tr>\n      <th>9995</th>\n      <td>0</td>\n      <td>0</td>\n      <td>0</td>\n      <td>0</td>\n      <td>0</td>\n      <td>0</td>\n      <td>0</td>\n      <td>0</td>\n      <td>0</td>\n      <td>0</td>\n      <td>...</td>\n      <td>0</td>\n      <td>0</td>\n      <td>0</td>\n      <td>0</td>\n      <td>0</td>\n      <td>0</td>\n      <td>0</td>\n      <td>0</td>\n      <td>0</td>\n      <td>0</td>\n    </tr>\n    <tr>\n      <th>9996</th>\n      <td>0</td>\n      <td>0</td>\n      <td>0</td>\n      <td>0</td>\n      <td>0</td>\n      <td>0</td>\n      <td>0</td>\n      <td>0</td>\n      <td>0</td>\n      <td>0</td>\n      <td>...</td>\n      <td>0</td>\n      <td>0</td>\n      <td>0</td>\n      <td>0</td>\n      <td>0</td>\n      <td>0</td>\n      <td>0</td>\n      <td>0</td>\n      <td>0</td>\n      <td>0</td>\n    </tr>\n    <tr>\n      <th>9997</th>\n      <td>0</td>\n      <td>0</td>\n      <td>0</td>\n      <td>0</td>\n      <td>0</td>\n      <td>0</td>\n      <td>0</td>\n      <td>3</td>\n      <td>0</td>\n      <td>0</td>\n      <td>...</td>\n      <td>0</td>\n      <td>0</td>\n      <td>0</td>\n      <td>0</td>\n      <td>0</td>\n      <td>0</td>\n      <td>0</td>\n      <td>0</td>\n      <td>0</td>\n      <td>0</td>\n    </tr>\n    <tr>\n      <th>9998</th>\n      <td>0</td>\n      <td>0</td>\n      <td>0</td>\n      <td>0</td>\n      <td>0</td>\n      <td>0</td>\n      <td>0</td>\n      <td>0</td>\n      <td>0</td>\n      <td>0</td>\n      <td>...</td>\n      <td>0</td>\n      <td>0</td>\n      <td>0</td>\n      <td>0</td>\n      <td>0</td>\n      <td>0</td>\n      <td>0</td>\n      <td>0</td>\n      <td>0</td>\n      <td>0</td>\n    </tr>\n    <tr>\n      <th>9999</th>\n      <td>0</td>\n      <td>0</td>\n      <td>0</td>\n      <td>0</td>\n      <td>0</td>\n      <td>0</td>\n      <td>0</td>\n      <td>4</td>\n      <td>0</td>\n      <td>0</td>\n      <td>...</td>\n      <td>0</td>\n      <td>0</td>\n      <td>0</td>\n      <td>0</td>\n      <td>0</td>\n      <td>0</td>\n      <td>0</td>\n      <td>0</td>\n      <td>0</td>\n      <td>0</td>\n    </tr>\n  </tbody>\n</table>\n<p>10000 rows × 10000 columns</p>\n</div>"
     },
     "execution_count": 3,
     "metadata": {},
     "output_type": "execute_result"
    }
   ],
   "source": [
    "# 构建用户行为矩阵（训练用）\n",
    "# 注意由于已经训练完成,除非初次完整运行本项目，本代码无需二次运行\n",
    "pd_user_train = pd.DataFrame(np.zeros([10000, 10000], int))\n",
    "\n",
    "f_train = open('./data/netflix_train.txt')\n",
    "f_train_data = f_train.readlines()\n",
    "for line in f_train_data:\n",
    "    temp_list = line.split(\" \")\n",
    "    pd_user_train.iloc[user_dict[temp_list[0]], int(temp_list[1]) - 1] = int(temp_list[2])\n",
    "\n",
    "pd_user_train"
   ],
   "metadata": {
    "collapsed": false
   }
  },
  {
   "cell_type": "code",
   "execution_count": 7,
   "outputs": [],
   "source": [
    "# 将上述表格保存到文件，方便后续读取\n",
    "# 注意由于已经训练完成,除非初次完整运行本项目，本代码无需二次运行\n",
    "pd_user_train_output = './data/user_train.csv'\n",
    "pd_user_train.to_csv(pd_user_train_output, sep=',', index=False, header=False)"
   ],
   "metadata": {
    "collapsed": false
   }
  },
  {
   "cell_type": "code",
   "execution_count": 3,
   "outputs": [
    {
     "data": {
      "text/plain": "   0     1     2     3     4     5     6     7     8     9     ...  9990  \\\n0     1     0     2     1     1     1     2     1     0     1  ...     2   \n1     1     0     2     0     1     2     1     0     0     0  ...     0   \n2     0     1     0     1     0     1     0     1     0     1  ...     1   \n3     5     0     0     3     5     4     3     4     3     4  ...     5   \n4     5     0     4     3     5     4     3     0     0     3  ...     5   \n\n   9991  9992  9993  9994  9995  9996  9997  9998  9999  \n0     1     0     1     1     2     1     1     1     2  \n1     1     1     1     0     2     1     1     2     1  \n2     1     0     0     0     1     1     1     1     1  \n3     3     0     4     5     5     5     4     0     5  \n4     0     5     4     4     5     4     4     0     4  \n\n[5 rows x 10000 columns]",
      "text/html": "<div>\n<style scoped>\n    .dataframe tbody tr th:only-of-type {\n        vertical-align: middle;\n    }\n\n    .dataframe tbody tr th {\n        vertical-align: top;\n    }\n\n    .dataframe thead th {\n        text-align: right;\n    }\n</style>\n<table border=\"1\" class=\"dataframe\">\n  <thead>\n    <tr style=\"text-align: right;\">\n      <th></th>\n      <th>0</th>\n      <th>1</th>\n      <th>2</th>\n      <th>3</th>\n      <th>4</th>\n      <th>5</th>\n      <th>6</th>\n      <th>7</th>\n      <th>8</th>\n      <th>9</th>\n      <th>...</th>\n      <th>9990</th>\n      <th>9991</th>\n      <th>9992</th>\n      <th>9993</th>\n      <th>9994</th>\n      <th>9995</th>\n      <th>9996</th>\n      <th>9997</th>\n      <th>9998</th>\n      <th>9999</th>\n    </tr>\n  </thead>\n  <tbody>\n    <tr>\n      <th>0</th>\n      <td>1</td>\n      <td>0</td>\n      <td>2</td>\n      <td>1</td>\n      <td>1</td>\n      <td>1</td>\n      <td>2</td>\n      <td>1</td>\n      <td>0</td>\n      <td>1</td>\n      <td>...</td>\n      <td>2</td>\n      <td>1</td>\n      <td>0</td>\n      <td>1</td>\n      <td>1</td>\n      <td>2</td>\n      <td>1</td>\n      <td>1</td>\n      <td>1</td>\n      <td>2</td>\n    </tr>\n    <tr>\n      <th>1</th>\n      <td>1</td>\n      <td>0</td>\n      <td>2</td>\n      <td>0</td>\n      <td>1</td>\n      <td>2</td>\n      <td>1</td>\n      <td>0</td>\n      <td>0</td>\n      <td>0</td>\n      <td>...</td>\n      <td>0</td>\n      <td>1</td>\n      <td>1</td>\n      <td>1</td>\n      <td>0</td>\n      <td>2</td>\n      <td>1</td>\n      <td>1</td>\n      <td>2</td>\n      <td>1</td>\n    </tr>\n    <tr>\n      <th>2</th>\n      <td>0</td>\n      <td>1</td>\n      <td>0</td>\n      <td>1</td>\n      <td>0</td>\n      <td>1</td>\n      <td>0</td>\n      <td>1</td>\n      <td>0</td>\n      <td>1</td>\n      <td>...</td>\n      <td>1</td>\n      <td>1</td>\n      <td>0</td>\n      <td>0</td>\n      <td>0</td>\n      <td>1</td>\n      <td>1</td>\n      <td>1</td>\n      <td>1</td>\n      <td>1</td>\n    </tr>\n    <tr>\n      <th>3</th>\n      <td>5</td>\n      <td>0</td>\n      <td>0</td>\n      <td>3</td>\n      <td>5</td>\n      <td>4</td>\n      <td>3</td>\n      <td>4</td>\n      <td>3</td>\n      <td>4</td>\n      <td>...</td>\n      <td>5</td>\n      <td>3</td>\n      <td>0</td>\n      <td>4</td>\n      <td>5</td>\n      <td>5</td>\n      <td>5</td>\n      <td>4</td>\n      <td>0</td>\n      <td>5</td>\n    </tr>\n    <tr>\n      <th>4</th>\n      <td>5</td>\n      <td>0</td>\n      <td>4</td>\n      <td>3</td>\n      <td>5</td>\n      <td>4</td>\n      <td>3</td>\n      <td>0</td>\n      <td>0</td>\n      <td>3</td>\n      <td>...</td>\n      <td>5</td>\n      <td>0</td>\n      <td>5</td>\n      <td>4</td>\n      <td>4</td>\n      <td>5</td>\n      <td>4</td>\n      <td>4</td>\n      <td>0</td>\n      <td>4</td>\n    </tr>\n  </tbody>\n</table>\n<p>5 rows × 10000 columns</p>\n</div>"
     },
     "execution_count": 3,
     "metadata": {},
     "output_type": "execute_result"
    }
   ],
   "source": [
    "user_train = pd.read_csv(\"./data/user_train.csv\", header=None)\n",
    "user_train.head()"
   ],
   "metadata": {
    "collapsed": false
   }
  },
  {
   "cell_type": "code",
   "execution_count": 11,
   "outputs": [
    {
     "data": {
      "text/plain": "      0     1     2     3     4     5     6     7     8     9     ...  9990  \\\n0        0     1     0     0     0     0     0     0     1     0  ...     0   \n1        0     1     0     2     0     0     0     1     1     2  ...     1   \n2        1     0     1     0     1     0     1     0     0     0  ...     0   \n3        0     4     5     0     0     0     0     0     0     0  ...     0   \n4        0     4     0     0     0     0     0     3     0     0  ...     0   \n...    ...   ...   ...   ...   ...   ...   ...   ...   ...   ...  ...   ...   \n9995     0     0     0     0     0     0     0     0     0     0  ...     0   \n9996     0     0     0     0     0     0     0     0     0     0  ...     0   \n9997     0     0     0     0     0     0     0     0     0     0  ...     0   \n9998     0     0     0     0     0     0     0     0     0     0  ...     0   \n9999     0     0     0     0     0     0     0     0     0     0  ...     0   \n\n      9991  9992  9993  9994  9995  9996  9997  9998  9999  \n0        0     1     0     0     0     0     0     0     0  \n1        0     0     0     0     0     0     0     0     0  \n2        0     1     1     0     0     0     0     0     0  \n3        0     4     0     0     0     0     0     3     0  \n4        3     0     0     0     0     0     0     0     0  \n...    ...   ...   ...   ...   ...   ...   ...   ...   ...  \n9995     0     0     0     0     0     0     0     0     0  \n9996     0     0     0     0     0     0     0     0     0  \n9997     0     0     0     0     0     0     0     0     0  \n9998     0     0     0     0     0     0     0     0     0  \n9999     0     0     0     0     0     3     0     0     0  \n\n[10000 rows x 10000 columns]",
      "text/html": "<div>\n<style scoped>\n    .dataframe tbody tr th:only-of-type {\n        vertical-align: middle;\n    }\n\n    .dataframe tbody tr th {\n        vertical-align: top;\n    }\n\n    .dataframe thead th {\n        text-align: right;\n    }\n</style>\n<table border=\"1\" class=\"dataframe\">\n  <thead>\n    <tr style=\"text-align: right;\">\n      <th></th>\n      <th>0</th>\n      <th>1</th>\n      <th>2</th>\n      <th>3</th>\n      <th>4</th>\n      <th>5</th>\n      <th>6</th>\n      <th>7</th>\n      <th>8</th>\n      <th>9</th>\n      <th>...</th>\n      <th>9990</th>\n      <th>9991</th>\n      <th>9992</th>\n      <th>9993</th>\n      <th>9994</th>\n      <th>9995</th>\n      <th>9996</th>\n      <th>9997</th>\n      <th>9998</th>\n      <th>9999</th>\n    </tr>\n  </thead>\n  <tbody>\n    <tr>\n      <th>0</th>\n      <td>0</td>\n      <td>1</td>\n      <td>0</td>\n      <td>0</td>\n      <td>0</td>\n      <td>0</td>\n      <td>0</td>\n      <td>0</td>\n      <td>1</td>\n      <td>0</td>\n      <td>...</td>\n      <td>0</td>\n      <td>0</td>\n      <td>1</td>\n      <td>0</td>\n      <td>0</td>\n      <td>0</td>\n      <td>0</td>\n      <td>0</td>\n      <td>0</td>\n      <td>0</td>\n    </tr>\n    <tr>\n      <th>1</th>\n      <td>0</td>\n      <td>1</td>\n      <td>0</td>\n      <td>2</td>\n      <td>0</td>\n      <td>0</td>\n      <td>0</td>\n      <td>1</td>\n      <td>1</td>\n      <td>2</td>\n      <td>...</td>\n      <td>1</td>\n      <td>0</td>\n      <td>0</td>\n      <td>0</td>\n      <td>0</td>\n      <td>0</td>\n      <td>0</td>\n      <td>0</td>\n      <td>0</td>\n      <td>0</td>\n    </tr>\n    <tr>\n      <th>2</th>\n      <td>1</td>\n      <td>0</td>\n      <td>1</td>\n      <td>0</td>\n      <td>1</td>\n      <td>0</td>\n      <td>1</td>\n      <td>0</td>\n      <td>0</td>\n      <td>0</td>\n      <td>...</td>\n      <td>0</td>\n      <td>0</td>\n      <td>1</td>\n      <td>1</td>\n      <td>0</td>\n      <td>0</td>\n      <td>0</td>\n      <td>0</td>\n      <td>0</td>\n      <td>0</td>\n    </tr>\n    <tr>\n      <th>3</th>\n      <td>0</td>\n      <td>4</td>\n      <td>5</td>\n      <td>0</td>\n      <td>0</td>\n      <td>0</td>\n      <td>0</td>\n      <td>0</td>\n      <td>0</td>\n      <td>0</td>\n      <td>...</td>\n      <td>0</td>\n      <td>0</td>\n      <td>4</td>\n      <td>0</td>\n      <td>0</td>\n      <td>0</td>\n      <td>0</td>\n      <td>0</td>\n      <td>3</td>\n      <td>0</td>\n    </tr>\n    <tr>\n      <th>4</th>\n      <td>0</td>\n      <td>4</td>\n      <td>0</td>\n      <td>0</td>\n      <td>0</td>\n      <td>0</td>\n      <td>0</td>\n      <td>3</td>\n      <td>0</td>\n      <td>0</td>\n      <td>...</td>\n      <td>0</td>\n      <td>3</td>\n      <td>0</td>\n      <td>0</td>\n      <td>0</td>\n      <td>0</td>\n      <td>0</td>\n      <td>0</td>\n      <td>0</td>\n      <td>0</td>\n    </tr>\n    <tr>\n      <th>...</th>\n      <td>...</td>\n      <td>...</td>\n      <td>...</td>\n      <td>...</td>\n      <td>...</td>\n      <td>...</td>\n      <td>...</td>\n      <td>...</td>\n      <td>...</td>\n      <td>...</td>\n      <td>...</td>\n      <td>...</td>\n      <td>...</td>\n      <td>...</td>\n      <td>...</td>\n      <td>...</td>\n      <td>...</td>\n      <td>...</td>\n      <td>...</td>\n      <td>...</td>\n      <td>...</td>\n    </tr>\n    <tr>\n      <th>9995</th>\n      <td>0</td>\n      <td>0</td>\n      <td>0</td>\n      <td>0</td>\n      <td>0</td>\n      <td>0</td>\n      <td>0</td>\n      <td>0</td>\n      <td>0</td>\n      <td>0</td>\n      <td>...</td>\n      <td>0</td>\n      <td>0</td>\n      <td>0</td>\n      <td>0</td>\n      <td>0</td>\n      <td>0</td>\n      <td>0</td>\n      <td>0</td>\n      <td>0</td>\n      <td>0</td>\n    </tr>\n    <tr>\n      <th>9996</th>\n      <td>0</td>\n      <td>0</td>\n      <td>0</td>\n      <td>0</td>\n      <td>0</td>\n      <td>0</td>\n      <td>0</td>\n      <td>0</td>\n      <td>0</td>\n      <td>0</td>\n      <td>...</td>\n      <td>0</td>\n      <td>0</td>\n      <td>0</td>\n      <td>0</td>\n      <td>0</td>\n      <td>0</td>\n      <td>0</td>\n      <td>0</td>\n      <td>0</td>\n      <td>0</td>\n    </tr>\n    <tr>\n      <th>9997</th>\n      <td>0</td>\n      <td>0</td>\n      <td>0</td>\n      <td>0</td>\n      <td>0</td>\n      <td>0</td>\n      <td>0</td>\n      <td>0</td>\n      <td>0</td>\n      <td>0</td>\n      <td>...</td>\n      <td>0</td>\n      <td>0</td>\n      <td>0</td>\n      <td>0</td>\n      <td>0</td>\n      <td>0</td>\n      <td>0</td>\n      <td>0</td>\n      <td>0</td>\n      <td>0</td>\n    </tr>\n    <tr>\n      <th>9998</th>\n      <td>0</td>\n      <td>0</td>\n      <td>0</td>\n      <td>0</td>\n      <td>0</td>\n      <td>0</td>\n      <td>0</td>\n      <td>0</td>\n      <td>0</td>\n      <td>0</td>\n      <td>...</td>\n      <td>0</td>\n      <td>0</td>\n      <td>0</td>\n      <td>0</td>\n      <td>0</td>\n      <td>0</td>\n      <td>0</td>\n      <td>0</td>\n      <td>0</td>\n      <td>0</td>\n    </tr>\n    <tr>\n      <th>9999</th>\n      <td>0</td>\n      <td>0</td>\n      <td>0</td>\n      <td>0</td>\n      <td>0</td>\n      <td>0</td>\n      <td>0</td>\n      <td>0</td>\n      <td>0</td>\n      <td>0</td>\n      <td>...</td>\n      <td>0</td>\n      <td>0</td>\n      <td>0</td>\n      <td>0</td>\n      <td>0</td>\n      <td>0</td>\n      <td>3</td>\n      <td>0</td>\n      <td>0</td>\n      <td>0</td>\n    </tr>\n  </tbody>\n</table>\n<p>10000 rows × 10000 columns</p>\n</div>"
     },
     "execution_count": 11,
     "metadata": {},
     "output_type": "execute_result"
    }
   ],
   "source": [
    "# 构建用户行为矩阵（测试用）\n",
    "# 注意由于已经训练完成,除非初次完整运行本项目，本代码无需二次运行\n",
    "pd_user_test = pd.DataFrame(np.zeros([10000, 10000], int))\n",
    "\n",
    "f_test = open('./data/netflix_test.txt')\n",
    "f_test_data = f_test.readlines()\n",
    "for line in f_test_data:\n",
    "    temp_list = line.split(\" \")\n",
    "    pd_user_test.iloc[user_dict[temp_list[0]], int(temp_list[1]) - 1] = int(temp_list[2])\n",
    "\n",
    "pd_user_test"
   ],
   "metadata": {
    "collapsed": false
   }
  },
  {
   "cell_type": "code",
   "execution_count": 5,
   "outputs": [],
   "source": [
    "# 将上述表格保存到文件，方便后续读取\n",
    "# 注意由于已经训练完成,除非初次完整运行本项目，本代码无需二次运行\n",
    "pd_user_test_output = './data/user_test.csv'\n",
    "pd_user_test.to_csv(pd_user_test_output, sep=',', index=False, header=False)"
   ],
   "metadata": {
    "collapsed": false
   }
  },
  {
   "cell_type": "code",
   "execution_count": 4,
   "outputs": [
    {
     "data": {
      "text/plain": "   0     1     2     3     4     5     6     7     8     9     ...  9990  \\\n0     0     1     0     0     0     0     0     0     1     0  ...     0   \n1     0     1     0     2     0     0     0     1     1     2  ...     1   \n2     1     0     1     0     1     0     1     0     0     0  ...     0   \n3     0     4     5     0     0     0     0     0     0     0  ...     0   \n4     0     4     0     0     0     0     0     3     0     0  ...     0   \n\n   9991  9992  9993  9994  9995  9996  9997  9998  9999  \n0     0     1     0     0     0     0     0     0     0  \n1     0     0     0     0     0     0     0     0     0  \n2     0     1     1     0     0     0     0     0     0  \n3     0     4     0     0     0     0     0     3     0  \n4     3     0     0     0     0     0     0     0     0  \n\n[5 rows x 10000 columns]",
      "text/html": "<div>\n<style scoped>\n    .dataframe tbody tr th:only-of-type {\n        vertical-align: middle;\n    }\n\n    .dataframe tbody tr th {\n        vertical-align: top;\n    }\n\n    .dataframe thead th {\n        text-align: right;\n    }\n</style>\n<table border=\"1\" class=\"dataframe\">\n  <thead>\n    <tr style=\"text-align: right;\">\n      <th></th>\n      <th>0</th>\n      <th>1</th>\n      <th>2</th>\n      <th>3</th>\n      <th>4</th>\n      <th>5</th>\n      <th>6</th>\n      <th>7</th>\n      <th>8</th>\n      <th>9</th>\n      <th>...</th>\n      <th>9990</th>\n      <th>9991</th>\n      <th>9992</th>\n      <th>9993</th>\n      <th>9994</th>\n      <th>9995</th>\n      <th>9996</th>\n      <th>9997</th>\n      <th>9998</th>\n      <th>9999</th>\n    </tr>\n  </thead>\n  <tbody>\n    <tr>\n      <th>0</th>\n      <td>0</td>\n      <td>1</td>\n      <td>0</td>\n      <td>0</td>\n      <td>0</td>\n      <td>0</td>\n      <td>0</td>\n      <td>0</td>\n      <td>1</td>\n      <td>0</td>\n      <td>...</td>\n      <td>0</td>\n      <td>0</td>\n      <td>1</td>\n      <td>0</td>\n      <td>0</td>\n      <td>0</td>\n      <td>0</td>\n      <td>0</td>\n      <td>0</td>\n      <td>0</td>\n    </tr>\n    <tr>\n      <th>1</th>\n      <td>0</td>\n      <td>1</td>\n      <td>0</td>\n      <td>2</td>\n      <td>0</td>\n      <td>0</td>\n      <td>0</td>\n      <td>1</td>\n      <td>1</td>\n      <td>2</td>\n      <td>...</td>\n      <td>1</td>\n      <td>0</td>\n      <td>0</td>\n      <td>0</td>\n      <td>0</td>\n      <td>0</td>\n      <td>0</td>\n      <td>0</td>\n      <td>0</td>\n      <td>0</td>\n    </tr>\n    <tr>\n      <th>2</th>\n      <td>1</td>\n      <td>0</td>\n      <td>1</td>\n      <td>0</td>\n      <td>1</td>\n      <td>0</td>\n      <td>1</td>\n      <td>0</td>\n      <td>0</td>\n      <td>0</td>\n      <td>...</td>\n      <td>0</td>\n      <td>0</td>\n      <td>1</td>\n      <td>1</td>\n      <td>0</td>\n      <td>0</td>\n      <td>0</td>\n      <td>0</td>\n      <td>0</td>\n      <td>0</td>\n    </tr>\n    <tr>\n      <th>3</th>\n      <td>0</td>\n      <td>4</td>\n      <td>5</td>\n      <td>0</td>\n      <td>0</td>\n      <td>0</td>\n      <td>0</td>\n      <td>0</td>\n      <td>0</td>\n      <td>0</td>\n      <td>...</td>\n      <td>0</td>\n      <td>0</td>\n      <td>4</td>\n      <td>0</td>\n      <td>0</td>\n      <td>0</td>\n      <td>0</td>\n      <td>0</td>\n      <td>3</td>\n      <td>0</td>\n    </tr>\n    <tr>\n      <th>4</th>\n      <td>0</td>\n      <td>4</td>\n      <td>0</td>\n      <td>0</td>\n      <td>0</td>\n      <td>0</td>\n      <td>0</td>\n      <td>3</td>\n      <td>0</td>\n      <td>0</td>\n      <td>...</td>\n      <td>0</td>\n      <td>3</td>\n      <td>0</td>\n      <td>0</td>\n      <td>0</td>\n      <td>0</td>\n      <td>0</td>\n      <td>0</td>\n      <td>0</td>\n      <td>0</td>\n    </tr>\n  </tbody>\n</table>\n<p>5 rows × 10000 columns</p>\n</div>"
     },
     "execution_count": 4,
     "metadata": {},
     "output_type": "execute_result"
    }
   ],
   "source": [
    "user_test = pd.read_csv(\"./data/user_test.csv\", header=None)\n",
    "user_test.head()"
   ],
   "metadata": {
    "collapsed": false
   }
  },
  {
   "cell_type": "markdown",
   "source": [
    "# 2 协同过滤"
   ],
   "metadata": {
    "collapsed": false
   }
  },
  {
   "cell_type": "code",
   "execution_count": 5,
   "outputs": [],
   "source": [
    "# 设置维度大小\n",
    "level = 2000"
   ],
   "metadata": {
    "collapsed": false
   }
  },
  {
   "cell_type": "code",
   "execution_count": 6,
   "outputs": [
    {
     "data": {
      "text/plain": "0.6375199878464465"
     },
     "execution_count": 6,
     "metadata": {},
     "output_type": "execute_result"
    }
   ],
   "source": [
    "# 计算相似度\n",
    "def sim(user1, user2):\n",
    "    '''\n",
    "    计算两个用户向量的余弦相似度\n",
    "    适配本环境请输入：user_train.iloc[0,:].values,user_train.iloc[1,:].values\n",
    "    :param user1: 用户1对所有电影打分的向量\n",
    "    :param user2: 用户2对所用电影打分的向量\n",
    "    :return: 相似度\n",
    "    '''\n",
    "    xy = sum(np.multiply(user1, user2))\n",
    "    x_v = math.sqrt(sum(x**2 for x in user1))\n",
    "    y_v = math.sqrt(sum(x**2 for x in user2))\n",
    "    ans = 0.0\n",
    "    fenmu = x_v * y_v\n",
    "    if fenmu != 0:\n",
    "        ans = xy / fenmu\n",
    "    return ans\n",
    "# 函数测试\n",
    "sim(user_train.iloc[0,:].values, user_train.iloc[1,:].values)"
   ],
   "metadata": {
    "collapsed": false
   }
  },
  {
   "cell_type": "code",
   "execution_count": 13,
   "outputs": [
    {
     "data": {
      "text/plain": "          0         1         2         3         4         5         6  \\\n0  0.000000  0.637520  0.589112  0.645917  0.610410  0.556041  0.485405   \n1  0.637520  0.000000  0.622332  0.672795  0.657799  0.520011  0.533986   \n2  0.589112  0.622332  0.000000  0.630058  0.612625  0.479487  0.501114   \n3  0.645917  0.672795  0.630058  0.000000  0.733967  0.496248  0.555380   \n4  0.610410  0.657799  0.612625  0.733967  0.000000  0.483486  0.562568   \n5  0.556041  0.520011  0.479487  0.496248  0.483486  0.000000  0.413856   \n6  0.485405  0.533986  0.501114  0.555380  0.562568  0.413856  0.000000   \n7  0.485914  0.486659  0.456102  0.480652  0.469293  0.457058  0.426888   \n8  0.461615  0.520652  0.518732  0.530741  0.550004  0.400203  0.534465   \n9  0.493266  0.502750  0.500384  0.526780  0.522992  0.412339  0.478501   \n\n          7         8         9  \n0  0.485914  0.461615  0.493266  \n1  0.486659  0.520652  0.502750  \n2  0.456102  0.518732  0.500384  \n3  0.480652  0.530741  0.526780  \n4  0.469293  0.550004  0.522992  \n5  0.457058  0.400203  0.412339  \n6  0.426888  0.534465  0.478501  \n7  0.000000  0.420089  0.383643  \n8  0.420089  0.000000  0.435907  \n9  0.383643  0.435907  0.000000  ",
      "text/html": "<div>\n<style scoped>\n    .dataframe tbody tr th:only-of-type {\n        vertical-align: middle;\n    }\n\n    .dataframe tbody tr th {\n        vertical-align: top;\n    }\n\n    .dataframe thead th {\n        text-align: right;\n    }\n</style>\n<table border=\"1\" class=\"dataframe\">\n  <thead>\n    <tr style=\"text-align: right;\">\n      <th></th>\n      <th>0</th>\n      <th>1</th>\n      <th>2</th>\n      <th>3</th>\n      <th>4</th>\n      <th>5</th>\n      <th>6</th>\n      <th>7</th>\n      <th>8</th>\n      <th>9</th>\n    </tr>\n  </thead>\n  <tbody>\n    <tr>\n      <th>0</th>\n      <td>0.000000</td>\n      <td>0.637520</td>\n      <td>0.589112</td>\n      <td>0.645917</td>\n      <td>0.610410</td>\n      <td>0.556041</td>\n      <td>0.485405</td>\n      <td>0.485914</td>\n      <td>0.461615</td>\n      <td>0.493266</td>\n    </tr>\n    <tr>\n      <th>1</th>\n      <td>0.637520</td>\n      <td>0.000000</td>\n      <td>0.622332</td>\n      <td>0.672795</td>\n      <td>0.657799</td>\n      <td>0.520011</td>\n      <td>0.533986</td>\n      <td>0.486659</td>\n      <td>0.520652</td>\n      <td>0.502750</td>\n    </tr>\n    <tr>\n      <th>2</th>\n      <td>0.589112</td>\n      <td>0.622332</td>\n      <td>0.000000</td>\n      <td>0.630058</td>\n      <td>0.612625</td>\n      <td>0.479487</td>\n      <td>0.501114</td>\n      <td>0.456102</td>\n      <td>0.518732</td>\n      <td>0.500384</td>\n    </tr>\n    <tr>\n      <th>3</th>\n      <td>0.645917</td>\n      <td>0.672795</td>\n      <td>0.630058</td>\n      <td>0.000000</td>\n      <td>0.733967</td>\n      <td>0.496248</td>\n      <td>0.555380</td>\n      <td>0.480652</td>\n      <td>0.530741</td>\n      <td>0.526780</td>\n    </tr>\n    <tr>\n      <th>4</th>\n      <td>0.610410</td>\n      <td>0.657799</td>\n      <td>0.612625</td>\n      <td>0.733967</td>\n      <td>0.000000</td>\n      <td>0.483486</td>\n      <td>0.562568</td>\n      <td>0.469293</td>\n      <td>0.550004</td>\n      <td>0.522992</td>\n    </tr>\n    <tr>\n      <th>5</th>\n      <td>0.556041</td>\n      <td>0.520011</td>\n      <td>0.479487</td>\n      <td>0.496248</td>\n      <td>0.483486</td>\n      <td>0.000000</td>\n      <td>0.413856</td>\n      <td>0.457058</td>\n      <td>0.400203</td>\n      <td>0.412339</td>\n    </tr>\n    <tr>\n      <th>6</th>\n      <td>0.485405</td>\n      <td>0.533986</td>\n      <td>0.501114</td>\n      <td>0.555380</td>\n      <td>0.562568</td>\n      <td>0.413856</td>\n      <td>0.000000</td>\n      <td>0.426888</td>\n      <td>0.534465</td>\n      <td>0.478501</td>\n    </tr>\n    <tr>\n      <th>7</th>\n      <td>0.485914</td>\n      <td>0.486659</td>\n      <td>0.456102</td>\n      <td>0.480652</td>\n      <td>0.469293</td>\n      <td>0.457058</td>\n      <td>0.426888</td>\n      <td>0.000000</td>\n      <td>0.420089</td>\n      <td>0.383643</td>\n    </tr>\n    <tr>\n      <th>8</th>\n      <td>0.461615</td>\n      <td>0.520652</td>\n      <td>0.518732</td>\n      <td>0.530741</td>\n      <td>0.550004</td>\n      <td>0.400203</td>\n      <td>0.534465</td>\n      <td>0.420089</td>\n      <td>0.000000</td>\n      <td>0.435907</td>\n    </tr>\n    <tr>\n      <th>9</th>\n      <td>0.493266</td>\n      <td>0.502750</td>\n      <td>0.500384</td>\n      <td>0.526780</td>\n      <td>0.522992</td>\n      <td>0.412339</td>\n      <td>0.478501</td>\n      <td>0.383643</td>\n      <td>0.435907</td>\n      <td>0.000000</td>\n    </tr>\n  </tbody>\n</table>\n</div>"
     },
     "execution_count": 13,
     "metadata": {},
     "output_type": "execute_result"
    }
   ],
   "source": [
    "# 计算相似矩阵\n",
    "# 注意由于已经训练完成,除非初次完整运行本项目，本代码无需二次运行\n",
    "pd_user_sim = pd.DataFrame(np.zeros([level, level], int))\n",
    "\n",
    "for i in range(0, level):\n",
    "    for j in range(i + 1, level):\n",
    "        pd_user_sim.iloc[i, j] = sim(user_train.iloc[i,:].values, user_train.iloc[j,:].values)\n",
    "        print(i, j, pd_user_sim.iloc[i, j])\n",
    "        pd_user_sim.iloc[j, i] = pd_user_sim.iloc[i, j]\n",
    "\n",
    "pd_user_sim.iloc[0:10, 0:10]"
   ],
   "metadata": {
    "collapsed": false
   }
  },
  {
   "cell_type": "code",
   "execution_count": 15,
   "outputs": [
    {
     "data": {
      "text/plain": "          0         1         2         3         4         5         6  \\\n0  0.000000  0.637520  0.589112  0.645917  0.610410  0.556041  0.485405   \n1  0.637520  0.000000  0.622332  0.672795  0.657799  0.520011  0.533986   \n2  0.589112  0.622332  0.000000  0.630058  0.612625  0.479487  0.501114   \n3  0.645917  0.672795  0.630058  0.000000  0.733967  0.496248  0.555380   \n4  0.610410  0.657799  0.612625  0.733967  0.000000  0.483486  0.562568   \n5  0.556041  0.520011  0.479487  0.496248  0.483486  0.000000  0.413856   \n6  0.485405  0.533986  0.501114  0.555380  0.562568  0.413856  0.000000   \n7  0.485914  0.486659  0.456102  0.480652  0.469293  0.457058  0.426888   \n8  0.461615  0.520652  0.518732  0.530741  0.550004  0.400203  0.534465   \n9  0.493266  0.502750  0.500384  0.526780  0.522992  0.412339  0.478501   \n\n          7         8         9  \n0  0.485914  0.461615  0.493266  \n1  0.486659  0.520652  0.502750  \n2  0.456102  0.518732  0.500384  \n3  0.480652  0.530741  0.526780  \n4  0.469293  0.550004  0.522992  \n5  0.457058  0.400203  0.412339  \n6  0.426888  0.534465  0.478501  \n7  0.000000  0.420089  0.383643  \n8  0.420089  0.000000  0.435907  \n9  0.383643  0.435907  0.000000  ",
      "text/html": "<div>\n<style scoped>\n    .dataframe tbody tr th:only-of-type {\n        vertical-align: middle;\n    }\n\n    .dataframe tbody tr th {\n        vertical-align: top;\n    }\n\n    .dataframe thead th {\n        text-align: right;\n    }\n</style>\n<table border=\"1\" class=\"dataframe\">\n  <thead>\n    <tr style=\"text-align: right;\">\n      <th></th>\n      <th>0</th>\n      <th>1</th>\n      <th>2</th>\n      <th>3</th>\n      <th>4</th>\n      <th>5</th>\n      <th>6</th>\n      <th>7</th>\n      <th>8</th>\n      <th>9</th>\n    </tr>\n  </thead>\n  <tbody>\n    <tr>\n      <th>0</th>\n      <td>0.000000</td>\n      <td>0.637520</td>\n      <td>0.589112</td>\n      <td>0.645917</td>\n      <td>0.610410</td>\n      <td>0.556041</td>\n      <td>0.485405</td>\n      <td>0.485914</td>\n      <td>0.461615</td>\n      <td>0.493266</td>\n    </tr>\n    <tr>\n      <th>1</th>\n      <td>0.637520</td>\n      <td>0.000000</td>\n      <td>0.622332</td>\n      <td>0.672795</td>\n      <td>0.657799</td>\n      <td>0.520011</td>\n      <td>0.533986</td>\n      <td>0.486659</td>\n      <td>0.520652</td>\n      <td>0.502750</td>\n    </tr>\n    <tr>\n      <th>2</th>\n      <td>0.589112</td>\n      <td>0.622332</td>\n      <td>0.000000</td>\n      <td>0.630058</td>\n      <td>0.612625</td>\n      <td>0.479487</td>\n      <td>0.501114</td>\n      <td>0.456102</td>\n      <td>0.518732</td>\n      <td>0.500384</td>\n    </tr>\n    <tr>\n      <th>3</th>\n      <td>0.645917</td>\n      <td>0.672795</td>\n      <td>0.630058</td>\n      <td>0.000000</td>\n      <td>0.733967</td>\n      <td>0.496248</td>\n      <td>0.555380</td>\n      <td>0.480652</td>\n      <td>0.530741</td>\n      <td>0.526780</td>\n    </tr>\n    <tr>\n      <th>4</th>\n      <td>0.610410</td>\n      <td>0.657799</td>\n      <td>0.612625</td>\n      <td>0.733967</td>\n      <td>0.000000</td>\n      <td>0.483486</td>\n      <td>0.562568</td>\n      <td>0.469293</td>\n      <td>0.550004</td>\n      <td>0.522992</td>\n    </tr>\n    <tr>\n      <th>5</th>\n      <td>0.556041</td>\n      <td>0.520011</td>\n      <td>0.479487</td>\n      <td>0.496248</td>\n      <td>0.483486</td>\n      <td>0.000000</td>\n      <td>0.413856</td>\n      <td>0.457058</td>\n      <td>0.400203</td>\n      <td>0.412339</td>\n    </tr>\n    <tr>\n      <th>6</th>\n      <td>0.485405</td>\n      <td>0.533986</td>\n      <td>0.501114</td>\n      <td>0.555380</td>\n      <td>0.562568</td>\n      <td>0.413856</td>\n      <td>0.000000</td>\n      <td>0.426888</td>\n      <td>0.534465</td>\n      <td>0.478501</td>\n    </tr>\n    <tr>\n      <th>7</th>\n      <td>0.485914</td>\n      <td>0.486659</td>\n      <td>0.456102</td>\n      <td>0.480652</td>\n      <td>0.469293</td>\n      <td>0.457058</td>\n      <td>0.426888</td>\n      <td>0.000000</td>\n      <td>0.420089</td>\n      <td>0.383643</td>\n    </tr>\n    <tr>\n      <th>8</th>\n      <td>0.461615</td>\n      <td>0.520652</td>\n      <td>0.518732</td>\n      <td>0.530741</td>\n      <td>0.550004</td>\n      <td>0.400203</td>\n      <td>0.534465</td>\n      <td>0.420089</td>\n      <td>0.000000</td>\n      <td>0.435907</td>\n    </tr>\n    <tr>\n      <th>9</th>\n      <td>0.493266</td>\n      <td>0.502750</td>\n      <td>0.500384</td>\n      <td>0.526780</td>\n      <td>0.522992</td>\n      <td>0.412339</td>\n      <td>0.478501</td>\n      <td>0.383643</td>\n      <td>0.435907</td>\n      <td>0.000000</td>\n    </tr>\n  </tbody>\n</table>\n</div>"
     },
     "execution_count": 15,
     "metadata": {},
     "output_type": "execute_result"
    }
   ],
   "source": [
    "# 并行优化，计算相似矩阵（方法1）\n",
    "# 注意由于已经训练完成,除非初次完整运行本项目，本代码无需二次运行\n",
    "# 该代码和上述串行结果一致，只需要跑一种方法\n",
    "pd_user_sim = pd.DataFrame(np.ones([level, level], float))\n",
    "from joblib import Parallel, delayed\n",
    "\n",
    "def para_fuc(i, j):\n",
    "    pd_user_sim.iloc[i, j] = sim(user_train.iloc[i,:].values, user_train.iloc[j,:].values)\n",
    "    pd_user_sim.iloc[j, i] = pd_user_sim.iloc[i, j]\n",
    "\n",
    "Parallel(n_jobs=16)(delayed(para_fuc)(i, j) for i in range(0, 10) for j in range(i + 1, 10))\n",
    "\n",
    "pd_user_sim.iloc[0:10, 0:10]"
   ],
   "metadata": {
    "collapsed": false
   }
  },
  {
   "cell_type": "code",
   "execution_count": 57,
   "outputs": [
    {
     "data": {
      "text/plain": "          0         1         2         3         4         5         6  \\\n0  0.000000  0.637520  0.589112  0.645917  0.610410  0.556041  0.485405   \n1  0.637520  0.000000  0.622332  0.672795  0.657799  0.520011  0.533986   \n2  0.589112  0.622332  0.000000  0.630058  0.612625  0.479487  0.501114   \n3  0.645917  0.672795  0.630058  0.000000  0.733967  0.496248  0.555380   \n4  0.610410  0.657799  0.612625  0.733967  0.000000  0.483486  0.562568   \n5  0.556041  0.520011  0.479487  0.496248  0.483486  0.000000  0.413856   \n6  0.485405  0.533986  0.501114  0.555380  0.562568  0.413856  0.000000   \n7  0.485914  0.486659  0.456102  0.480652  0.469293  0.457058  0.426888   \n8  0.461615  0.520652  0.518732  0.530741  0.550004  0.400203  0.534465   \n9  0.493266  0.502750  0.500384  0.526780  0.522992  0.412339  0.478501   \n\n          7         8         9  \n0  0.485914  0.461615  0.493266  \n1  0.486659  0.520652  0.502750  \n2  0.456102  0.518732  0.500384  \n3  0.480652  0.530741  0.526780  \n4  0.469293  0.550004  0.522992  \n5  0.457058  0.400203  0.412339  \n6  0.426888  0.534465  0.478501  \n7  0.000000  0.420089  0.383643  \n8  0.420089  0.000000  0.435907  \n9  0.383643  0.435907  0.000000  ",
      "text/html": "<div>\n<style scoped>\n    .dataframe tbody tr th:only-of-type {\n        vertical-align: middle;\n    }\n\n    .dataframe tbody tr th {\n        vertical-align: top;\n    }\n\n    .dataframe thead th {\n        text-align: right;\n    }\n</style>\n<table border=\"1\" class=\"dataframe\">\n  <thead>\n    <tr style=\"text-align: right;\">\n      <th></th>\n      <th>0</th>\n      <th>1</th>\n      <th>2</th>\n      <th>3</th>\n      <th>4</th>\n      <th>5</th>\n      <th>6</th>\n      <th>7</th>\n      <th>8</th>\n      <th>9</th>\n    </tr>\n  </thead>\n  <tbody>\n    <tr>\n      <th>0</th>\n      <td>0.000000</td>\n      <td>0.637520</td>\n      <td>0.589112</td>\n      <td>0.645917</td>\n      <td>0.610410</td>\n      <td>0.556041</td>\n      <td>0.485405</td>\n      <td>0.485914</td>\n      <td>0.461615</td>\n      <td>0.493266</td>\n    </tr>\n    <tr>\n      <th>1</th>\n      <td>0.637520</td>\n      <td>0.000000</td>\n      <td>0.622332</td>\n      <td>0.672795</td>\n      <td>0.657799</td>\n      <td>0.520011</td>\n      <td>0.533986</td>\n      <td>0.486659</td>\n      <td>0.520652</td>\n      <td>0.502750</td>\n    </tr>\n    <tr>\n      <th>2</th>\n      <td>0.589112</td>\n      <td>0.622332</td>\n      <td>0.000000</td>\n      <td>0.630058</td>\n      <td>0.612625</td>\n      <td>0.479487</td>\n      <td>0.501114</td>\n      <td>0.456102</td>\n      <td>0.518732</td>\n      <td>0.500384</td>\n    </tr>\n    <tr>\n      <th>3</th>\n      <td>0.645917</td>\n      <td>0.672795</td>\n      <td>0.630058</td>\n      <td>0.000000</td>\n      <td>0.733967</td>\n      <td>0.496248</td>\n      <td>0.555380</td>\n      <td>0.480652</td>\n      <td>0.530741</td>\n      <td>0.526780</td>\n    </tr>\n    <tr>\n      <th>4</th>\n      <td>0.610410</td>\n      <td>0.657799</td>\n      <td>0.612625</td>\n      <td>0.733967</td>\n      <td>0.000000</td>\n      <td>0.483486</td>\n      <td>0.562568</td>\n      <td>0.469293</td>\n      <td>0.550004</td>\n      <td>0.522992</td>\n    </tr>\n    <tr>\n      <th>5</th>\n      <td>0.556041</td>\n      <td>0.520011</td>\n      <td>0.479487</td>\n      <td>0.496248</td>\n      <td>0.483486</td>\n      <td>0.000000</td>\n      <td>0.413856</td>\n      <td>0.457058</td>\n      <td>0.400203</td>\n      <td>0.412339</td>\n    </tr>\n    <tr>\n      <th>6</th>\n      <td>0.485405</td>\n      <td>0.533986</td>\n      <td>0.501114</td>\n      <td>0.555380</td>\n      <td>0.562568</td>\n      <td>0.413856</td>\n      <td>0.000000</td>\n      <td>0.426888</td>\n      <td>0.534465</td>\n      <td>0.478501</td>\n    </tr>\n    <tr>\n      <th>7</th>\n      <td>0.485914</td>\n      <td>0.486659</td>\n      <td>0.456102</td>\n      <td>0.480652</td>\n      <td>0.469293</td>\n      <td>0.457058</td>\n      <td>0.426888</td>\n      <td>0.000000</td>\n      <td>0.420089</td>\n      <td>0.383643</td>\n    </tr>\n    <tr>\n      <th>8</th>\n      <td>0.461615</td>\n      <td>0.520652</td>\n      <td>0.518732</td>\n      <td>0.530741</td>\n      <td>0.550004</td>\n      <td>0.400203</td>\n      <td>0.534465</td>\n      <td>0.420089</td>\n      <td>0.000000</td>\n      <td>0.435907</td>\n    </tr>\n    <tr>\n      <th>9</th>\n      <td>0.493266</td>\n      <td>0.502750</td>\n      <td>0.500384</td>\n      <td>0.526780</td>\n      <td>0.522992</td>\n      <td>0.412339</td>\n      <td>0.478501</td>\n      <td>0.383643</td>\n      <td>0.435907</td>\n      <td>0.000000</td>\n    </tr>\n  </tbody>\n</table>\n</div>"
     },
     "execution_count": 57,
     "metadata": {},
     "output_type": "execute_result"
    }
   ],
   "source": [
    "# 并行优化，计算相似矩阵（方法2）\n",
    "# 注意由于已经训练完成,除非初次完整运行本项目，本代码无需二次运行\n",
    "# 该代码和上述串行结果一致，只需要跑一种方法\n",
    "from multiprocessing import Pool\n",
    "\n",
    "def para_fuc(i):\n",
    "    for j in range(i + 1, level):\n",
    "        pd_user_sim.iloc[i, j] = sim(user_train.iloc[i,:].values, user_train.iloc[j,:].values)\n",
    "        pd_user_sim.iloc[j, i] = pd_user_sim.iloc[i, j]\n",
    "\n",
    "pool = Pool()\n",
    "id = list(range(1, level))\n",
    "pool.map(para_fuc, id)\n",
    "pool.close()\n",
    "pool.join()\n",
    "\n",
    "pd_user_sim.iloc[0:10, 0:10]"
   ],
   "metadata": {
    "collapsed": false
   }
  },
  {
   "cell_type": "code",
   "execution_count": 14,
   "outputs": [],
   "source": [
    "# 将上述表格保存到文件，方便后续读取\n",
    "# 注意由于已经训练完成,除非初次完整运行本项目，本代码无需二次运行\n",
    "pd_user_sim_output = './data/user_sim.csv'\n",
    "pd_user_sim.to_csv(pd_user_sim_output, sep=',', index=False, header=False)"
   ],
   "metadata": {
    "collapsed": false
   }
  },
  {
   "cell_type": "code",
   "execution_count": 9,
   "outputs": [
    {
     "data": {
      "text/plain": "          0         1         2         3         4         5         6  \\\n0  0.000000  0.637520  0.589112  0.645917  0.610410  0.556041  0.485405   \n1  0.637520  0.000000  0.622332  0.672795  0.657799  0.520011  0.533986   \n2  0.589112  0.622332  0.000000  0.630058  0.612625  0.479487  0.501114   \n3  0.645917  0.672795  0.630058  0.000000  0.733967  0.496248  0.555380   \n4  0.610410  0.657799  0.612625  0.733967  0.000000  0.483486  0.562568   \n5  0.556041  0.520011  0.479487  0.496248  0.483486  0.000000  0.413856   \n6  0.485405  0.533986  0.501114  0.555380  0.562568  0.413856  0.000000   \n7  0.485914  0.486659  0.456102  0.480652  0.469293  0.457058  0.426888   \n8  0.461615  0.520652  0.518732  0.530741  0.550004  0.400203  0.534465   \n9  0.493266  0.502750  0.500384  0.526780  0.522992  0.412339  0.478501   \n\n          7         8         9  \n0  0.485914  0.461615  0.493266  \n1  0.486659  0.520652  0.502750  \n2  0.456102  0.518732  0.500384  \n3  0.480652  0.530741  0.526780  \n4  0.469293  0.550004  0.522992  \n5  0.457058  0.400203  0.412339  \n6  0.426888  0.534465  0.478501  \n7  0.000000  0.420089  0.383643  \n8  0.420089  0.000000  0.435907  \n9  0.383643  0.435907  0.000000  ",
      "text/html": "<div>\n<style scoped>\n    .dataframe tbody tr th:only-of-type {\n        vertical-align: middle;\n    }\n\n    .dataframe tbody tr th {\n        vertical-align: top;\n    }\n\n    .dataframe thead th {\n        text-align: right;\n    }\n</style>\n<table border=\"1\" class=\"dataframe\">\n  <thead>\n    <tr style=\"text-align: right;\">\n      <th></th>\n      <th>0</th>\n      <th>1</th>\n      <th>2</th>\n      <th>3</th>\n      <th>4</th>\n      <th>5</th>\n      <th>6</th>\n      <th>7</th>\n      <th>8</th>\n      <th>9</th>\n    </tr>\n  </thead>\n  <tbody>\n    <tr>\n      <th>0</th>\n      <td>0.000000</td>\n      <td>0.637520</td>\n      <td>0.589112</td>\n      <td>0.645917</td>\n      <td>0.610410</td>\n      <td>0.556041</td>\n      <td>0.485405</td>\n      <td>0.485914</td>\n      <td>0.461615</td>\n      <td>0.493266</td>\n    </tr>\n    <tr>\n      <th>1</th>\n      <td>0.637520</td>\n      <td>0.000000</td>\n      <td>0.622332</td>\n      <td>0.672795</td>\n      <td>0.657799</td>\n      <td>0.520011</td>\n      <td>0.533986</td>\n      <td>0.486659</td>\n      <td>0.520652</td>\n      <td>0.502750</td>\n    </tr>\n    <tr>\n      <th>2</th>\n      <td>0.589112</td>\n      <td>0.622332</td>\n      <td>0.000000</td>\n      <td>0.630058</td>\n      <td>0.612625</td>\n      <td>0.479487</td>\n      <td>0.501114</td>\n      <td>0.456102</td>\n      <td>0.518732</td>\n      <td>0.500384</td>\n    </tr>\n    <tr>\n      <th>3</th>\n      <td>0.645917</td>\n      <td>0.672795</td>\n      <td>0.630058</td>\n      <td>0.000000</td>\n      <td>0.733967</td>\n      <td>0.496248</td>\n      <td>0.555380</td>\n      <td>0.480652</td>\n      <td>0.530741</td>\n      <td>0.526780</td>\n    </tr>\n    <tr>\n      <th>4</th>\n      <td>0.610410</td>\n      <td>0.657799</td>\n      <td>0.612625</td>\n      <td>0.733967</td>\n      <td>0.000000</td>\n      <td>0.483486</td>\n      <td>0.562568</td>\n      <td>0.469293</td>\n      <td>0.550004</td>\n      <td>0.522992</td>\n    </tr>\n    <tr>\n      <th>5</th>\n      <td>0.556041</td>\n      <td>0.520011</td>\n      <td>0.479487</td>\n      <td>0.496248</td>\n      <td>0.483486</td>\n      <td>0.000000</td>\n      <td>0.413856</td>\n      <td>0.457058</td>\n      <td>0.400203</td>\n      <td>0.412339</td>\n    </tr>\n    <tr>\n      <th>6</th>\n      <td>0.485405</td>\n      <td>0.533986</td>\n      <td>0.501114</td>\n      <td>0.555380</td>\n      <td>0.562568</td>\n      <td>0.413856</td>\n      <td>0.000000</td>\n      <td>0.426888</td>\n      <td>0.534465</td>\n      <td>0.478501</td>\n    </tr>\n    <tr>\n      <th>7</th>\n      <td>0.485914</td>\n      <td>0.486659</td>\n      <td>0.456102</td>\n      <td>0.480652</td>\n      <td>0.469293</td>\n      <td>0.457058</td>\n      <td>0.426888</td>\n      <td>0.000000</td>\n      <td>0.420089</td>\n      <td>0.383643</td>\n    </tr>\n    <tr>\n      <th>8</th>\n      <td>0.461615</td>\n      <td>0.520652</td>\n      <td>0.518732</td>\n      <td>0.530741</td>\n      <td>0.550004</td>\n      <td>0.400203</td>\n      <td>0.534465</td>\n      <td>0.420089</td>\n      <td>0.000000</td>\n      <td>0.435907</td>\n    </tr>\n    <tr>\n      <th>9</th>\n      <td>0.493266</td>\n      <td>0.502750</td>\n      <td>0.500384</td>\n      <td>0.526780</td>\n      <td>0.522992</td>\n      <td>0.412339</td>\n      <td>0.478501</td>\n      <td>0.383643</td>\n      <td>0.435907</td>\n      <td>0.000000</td>\n    </tr>\n  </tbody>\n</table>\n</div>"
     },
     "execution_count": 9,
     "metadata": {},
     "output_type": "execute_result"
    }
   ],
   "source": [
    "pd_user_sim = pd.read_csv(\"./data/user_sim.csv\", header=None)\n",
    "pd_user_sim.iloc[0:10, 0:10]"
   ],
   "metadata": {
    "collapsed": false
   }
  },
  {
   "cell_type": "code",
   "execution_count": 21,
   "outputs": [
    {
     "data": {
      "text/plain": "2"
     },
     "execution_count": 21,
     "metadata": {},
     "output_type": "execute_result"
    }
   ],
   "source": [
    "# 计算某用户对某电影的预测评分\n",
    "def predict(userid, movieid):\n",
    "    '''\n",
    "    评分预测\n",
    "    :param userid: 用户的id\n",
    "    :param movieid: 电影的id\n",
    "    :return: 预测评分\n",
    "    '''\n",
    "    score = 0\n",
    "    for i in range(0, level): # 因为上述定义中，自己和自己的相似性为0，所以这里自己参与运算，贡献为0，不影响最终结果，所以不需要考虑i==userid的情况\n",
    "        score += pd_user_sim.iloc[userid, i] * user_train.iloc[i, movieid]\n",
    "    score /= sum(pd_user_sim.iloc[userid, :])\n",
    "    return round(score)\n",
    "# 函数测试\n",
    "predict(0, 29)"
   ],
   "metadata": {
    "collapsed": false
   }
  },
  {
   "cell_type": "code",
   "execution_count": 56,
   "outputs": [
    {
     "data": {
      "text/plain": "   0  1  2  3  4  5  6  7  8  9\n0  0  1  0  0  0  0  0  0  1  0\n1  0  1  0  2  0  0  0  1  1  2\n2  1  0  1  0  1  0  1  0  0  0\n3  0  4  5  0  0  0  0  0  0  0\n4  0  4  0  0  0  0  0  3  0  0\n5  0  0  0  0  0  0  0  0  0  0\n6  0  0  0  0  0  0  0  2  0  0\n7  0  0  0  0  1  0  0  0  0  0\n8  0  0  0  0  1  0  0  0  0  0\n9  0  0  0  0  0  0  0  0  0  0",
      "text/html": "<div>\n<style scoped>\n    .dataframe tbody tr th:only-of-type {\n        vertical-align: middle;\n    }\n\n    .dataframe tbody tr th {\n        vertical-align: top;\n    }\n\n    .dataframe thead th {\n        text-align: right;\n    }\n</style>\n<table border=\"1\" class=\"dataframe\">\n  <thead>\n    <tr style=\"text-align: right;\">\n      <th></th>\n      <th>0</th>\n      <th>1</th>\n      <th>2</th>\n      <th>3</th>\n      <th>4</th>\n      <th>5</th>\n      <th>6</th>\n      <th>7</th>\n      <th>8</th>\n      <th>9</th>\n    </tr>\n  </thead>\n  <tbody>\n    <tr>\n      <th>0</th>\n      <td>0</td>\n      <td>1</td>\n      <td>0</td>\n      <td>0</td>\n      <td>0</td>\n      <td>0</td>\n      <td>0</td>\n      <td>0</td>\n      <td>1</td>\n      <td>0</td>\n    </tr>\n    <tr>\n      <th>1</th>\n      <td>0</td>\n      <td>1</td>\n      <td>0</td>\n      <td>2</td>\n      <td>0</td>\n      <td>0</td>\n      <td>0</td>\n      <td>1</td>\n      <td>1</td>\n      <td>2</td>\n    </tr>\n    <tr>\n      <th>2</th>\n      <td>1</td>\n      <td>0</td>\n      <td>1</td>\n      <td>0</td>\n      <td>1</td>\n      <td>0</td>\n      <td>1</td>\n      <td>0</td>\n      <td>0</td>\n      <td>0</td>\n    </tr>\n    <tr>\n      <th>3</th>\n      <td>0</td>\n      <td>4</td>\n      <td>5</td>\n      <td>0</td>\n      <td>0</td>\n      <td>0</td>\n      <td>0</td>\n      <td>0</td>\n      <td>0</td>\n      <td>0</td>\n    </tr>\n    <tr>\n      <th>4</th>\n      <td>0</td>\n      <td>4</td>\n      <td>0</td>\n      <td>0</td>\n      <td>0</td>\n      <td>0</td>\n      <td>0</td>\n      <td>3</td>\n      <td>0</td>\n      <td>0</td>\n    </tr>\n    <tr>\n      <th>5</th>\n      <td>0</td>\n      <td>0</td>\n      <td>0</td>\n      <td>0</td>\n      <td>0</td>\n      <td>0</td>\n      <td>0</td>\n      <td>0</td>\n      <td>0</td>\n      <td>0</td>\n    </tr>\n    <tr>\n      <th>6</th>\n      <td>0</td>\n      <td>0</td>\n      <td>0</td>\n      <td>0</td>\n      <td>0</td>\n      <td>0</td>\n      <td>0</td>\n      <td>2</td>\n      <td>0</td>\n      <td>0</td>\n    </tr>\n    <tr>\n      <th>7</th>\n      <td>0</td>\n      <td>0</td>\n      <td>0</td>\n      <td>0</td>\n      <td>1</td>\n      <td>0</td>\n      <td>0</td>\n      <td>0</td>\n      <td>0</td>\n      <td>0</td>\n    </tr>\n    <tr>\n      <th>8</th>\n      <td>0</td>\n      <td>0</td>\n      <td>0</td>\n      <td>0</td>\n      <td>1</td>\n      <td>0</td>\n      <td>0</td>\n      <td>0</td>\n      <td>0</td>\n      <td>0</td>\n    </tr>\n    <tr>\n      <th>9</th>\n      <td>0</td>\n      <td>0</td>\n      <td>0</td>\n      <td>0</td>\n      <td>0</td>\n      <td>0</td>\n      <td>0</td>\n      <td>0</td>\n      <td>0</td>\n      <td>0</td>\n    </tr>\n  </tbody>\n</table>\n</div>"
     },
     "execution_count": 56,
     "metadata": {},
     "output_type": "execute_result"
    }
   ],
   "source": [
    "# 预测评分\n",
    "pd_user_pre = pd.DataFrame(np.zeros([level, level], int))\n",
    "\n",
    "for i in range(0, level):\n",
    "    for j in range(0, level):\n",
    "        pd_user_pre.iloc[i, j] = predict(i, j)\n",
    "\n",
    "pd_user_pre.iloc[0:10, 0:10]"
   ],
   "metadata": {
    "collapsed": false
   }
  },
  {
   "cell_type": "code",
   "execution_count": 41,
   "outputs": [],
   "source": [
    "# 将上述表格保存到文件，方便后续读取\n",
    "# 注意由于已经训练完成,除非初次完整运行本项目，本代码无需二次运行\n",
    "pd_user_pre_output = './data/user_pre.csv'\n",
    "pd_user_pre.to_csv(pd_user_pre_output, sep=',', index=False, header=False)"
   ],
   "metadata": {
    "collapsed": false
   }
  },
  {
   "cell_type": "code",
   "execution_count": 55,
   "outputs": [
    {
     "data": {
      "text/plain": "   0  1  2  3  4  5  6  7  8  9\n0  0  1  0  0  0  0  0  0  1  0\n1  0  1  0  2  0  0  0  1  1  2\n2  1  0  1  0  1  0  1  0  0  0\n3  0  4  5  0  0  0  0  0  0  0\n4  0  4  0  0  0  0  0  3  0  0\n5  0  0  0  0  0  0  0  0  0  0\n6  0  0  0  0  0  0  0  2  0  0\n7  0  0  0  0  1  0  0  0  0  0\n8  0  0  0  0  1  0  0  0  0  0\n9  0  0  0  0  0  0  0  0  0  0",
      "text/html": "<div>\n<style scoped>\n    .dataframe tbody tr th:only-of-type {\n        vertical-align: middle;\n    }\n\n    .dataframe tbody tr th {\n        vertical-align: top;\n    }\n\n    .dataframe thead th {\n        text-align: right;\n    }\n</style>\n<table border=\"1\" class=\"dataframe\">\n  <thead>\n    <tr style=\"text-align: right;\">\n      <th></th>\n      <th>0</th>\n      <th>1</th>\n      <th>2</th>\n      <th>3</th>\n      <th>4</th>\n      <th>5</th>\n      <th>6</th>\n      <th>7</th>\n      <th>8</th>\n      <th>9</th>\n    </tr>\n  </thead>\n  <tbody>\n    <tr>\n      <th>0</th>\n      <td>0</td>\n      <td>1</td>\n      <td>0</td>\n      <td>0</td>\n      <td>0</td>\n      <td>0</td>\n      <td>0</td>\n      <td>0</td>\n      <td>1</td>\n      <td>0</td>\n    </tr>\n    <tr>\n      <th>1</th>\n      <td>0</td>\n      <td>1</td>\n      <td>0</td>\n      <td>2</td>\n      <td>0</td>\n      <td>0</td>\n      <td>0</td>\n      <td>1</td>\n      <td>1</td>\n      <td>2</td>\n    </tr>\n    <tr>\n      <th>2</th>\n      <td>1</td>\n      <td>0</td>\n      <td>1</td>\n      <td>0</td>\n      <td>1</td>\n      <td>0</td>\n      <td>1</td>\n      <td>0</td>\n      <td>0</td>\n      <td>0</td>\n    </tr>\n    <tr>\n      <th>3</th>\n      <td>0</td>\n      <td>4</td>\n      <td>5</td>\n      <td>0</td>\n      <td>0</td>\n      <td>0</td>\n      <td>0</td>\n      <td>0</td>\n      <td>0</td>\n      <td>0</td>\n    </tr>\n    <tr>\n      <th>4</th>\n      <td>0</td>\n      <td>4</td>\n      <td>0</td>\n      <td>0</td>\n      <td>0</td>\n      <td>0</td>\n      <td>0</td>\n      <td>3</td>\n      <td>0</td>\n      <td>0</td>\n    </tr>\n    <tr>\n      <th>5</th>\n      <td>0</td>\n      <td>0</td>\n      <td>0</td>\n      <td>0</td>\n      <td>0</td>\n      <td>0</td>\n      <td>0</td>\n      <td>0</td>\n      <td>0</td>\n      <td>0</td>\n    </tr>\n    <tr>\n      <th>6</th>\n      <td>0</td>\n      <td>0</td>\n      <td>0</td>\n      <td>0</td>\n      <td>0</td>\n      <td>0</td>\n      <td>0</td>\n      <td>2</td>\n      <td>0</td>\n      <td>0</td>\n    </tr>\n    <tr>\n      <th>7</th>\n      <td>0</td>\n      <td>0</td>\n      <td>0</td>\n      <td>0</td>\n      <td>1</td>\n      <td>0</td>\n      <td>0</td>\n      <td>0</td>\n      <td>0</td>\n      <td>0</td>\n    </tr>\n    <tr>\n      <th>8</th>\n      <td>0</td>\n      <td>0</td>\n      <td>0</td>\n      <td>0</td>\n      <td>1</td>\n      <td>0</td>\n      <td>0</td>\n      <td>0</td>\n      <td>0</td>\n      <td>0</td>\n    </tr>\n    <tr>\n      <th>9</th>\n      <td>0</td>\n      <td>0</td>\n      <td>0</td>\n      <td>0</td>\n      <td>0</td>\n      <td>0</td>\n      <td>0</td>\n      <td>0</td>\n      <td>0</td>\n      <td>0</td>\n    </tr>\n  </tbody>\n</table>\n</div>"
     },
     "execution_count": 55,
     "metadata": {},
     "output_type": "execute_result"
    }
   ],
   "source": [
    "pd_user_pre = pd.read_csv(\"./data/user_pre.csv\", header=None)\n",
    "pd_user_pre.iloc[0:10, 0:10]"
   ],
   "metadata": {
    "collapsed": false
   }
  },
  {
   "cell_type": "code",
   "execution_count": 53,
   "outputs": [],
   "source": [
    "# 定义均方根误差函数\n",
    "def RMSE():\n",
    "    Sum = 0.0\n",
    "    for i in range(0, level):\n",
    "        Sum += sum(x**2 for x in (user_test.iloc[i, 0:level].values - pd_user_pre.iloc[i, 0:level].values))\n",
    "    ans = math.sqrt(Sum / (level * level))\n",
    "    return ans"
   ],
   "metadata": {
    "collapsed": false
   }
  },
  {
   "cell_type": "code",
   "execution_count": 54,
   "outputs": [
    {
     "name": "stdout",
     "output_type": "stream",
     "text": [
      "0.4058660493315498\n"
     ]
    }
   ],
   "source": [
    "# 测试预测效果\n",
    "print(RMSE())"
   ],
   "metadata": {
    "collapsed": false
   }
  },
  {
   "cell_type": "code",
   "execution_count": 83,
   "outputs": [
    {
     "name": "stdout",
     "output_type": "stream",
     "text": [
      "0.5529905062476208\n"
     ]
    }
   ],
   "source": [
    "# 计算基线预测效果\n",
    "def RMSE_base():\n",
    "    Sum = 0.0\n",
    "    for i in range(0, level):\n",
    "        Sum += sum(x**2 for x in (user_test.iloc[i, 0:level].values))\n",
    "    ans = math.sqrt(Sum / (level * level))\n",
    "    return ans\n",
    "print(RMSE_base())"
   ],
   "metadata": {
    "collapsed": false
   }
  },
  {
   "cell_type": "code",
   "execution_count": 82,
   "outputs": [
    {
     "name": "stdout",
     "output_type": "stream",
     "text": [
      "          0         1         2         3         4         5\n",
      "0  0.552991  1.067272  1.993074  2.967426  3.954603  4.946934\n"
     ]
    }
   ],
   "source": [
    "# 计算基线预测效果:全0-全5\n",
    "def RMSE_base(all_value):\n",
    "    Sum = 0.0\n",
    "    for i in range(0, level):\n",
    "        Sum += sum(x**2 for x in (user_test.iloc[i, 0:level].values - np.array([all_value] * level)))\n",
    "    ans = math.sqrt(Sum / (level * level))\n",
    "    return ans\n",
    "\n",
    "baseline = pd.DataFrame()\n",
    "for all_value in range(0, 6):\n",
    "    baseline[all_value] = [RMSE_base(all_value)]\n",
    "print(baseline)"
   ],
   "metadata": {
    "collapsed": false
   }
  },
  {
   "cell_type": "code",
   "execution_count": 85,
   "outputs": [
    {
     "name": "stdout",
     "output_type": "stream",
     "text": [
      "3.009578292718101\n"
     ]
    }
   ],
   "source": [
    "# 计算基线预测效果:随机\n",
    "def RMSE_base():\n",
    "    Sum = 0.0\n",
    "    for i in range(0, level):\n",
    "        Sum += sum(x**2 for x in (user_test.iloc[i, 0:level].values - np.random.randint(0, 6, size=level)))\n",
    "    ans = math.sqrt(Sum / (level * level))\n",
    "    return ans\n",
    "print(RMSE_base())"
   ],
   "metadata": {
    "collapsed": false
   }
  },
  {
   "cell_type": "markdown",
   "source": [
    "# 3 基于梯度下降的矩阵分解"
   ],
   "metadata": {
    "collapsed": false
   }
  },
  {
   "cell_type": "code",
   "execution_count": 123,
   "outputs": [
    {
     "data": {
      "text/plain": "   0  1  2  3  4  5  6  7  8  9\n0  0  1  0  0  0  0  0  0  1  0\n1  0  1  0  2  0  0  0  1  1  2\n2  1  0  1  0  1  0  1  0  0  0\n3  0  4  5  0  0  0  0  0  0  0\n4  0  4  0  0  0  0  0  3  0  0\n5  0  0  0  0  0  0  0  0  0  0\n6  0  0  0  0  0  0  0  2  0  0\n7  0  0  0  0  1  0  0  0  0  0\n8  0  0  0  0  1  0  0  0  0  0\n9  0  0  0  0  0  0  0  0  0  0",
      "text/html": "<div>\n<style scoped>\n    .dataframe tbody tr th:only-of-type {\n        vertical-align: middle;\n    }\n\n    .dataframe tbody tr th {\n        vertical-align: top;\n    }\n\n    .dataframe thead th {\n        text-align: right;\n    }\n</style>\n<table border=\"1\" class=\"dataframe\">\n  <thead>\n    <tr style=\"text-align: right;\">\n      <th></th>\n      <th>0</th>\n      <th>1</th>\n      <th>2</th>\n      <th>3</th>\n      <th>4</th>\n      <th>5</th>\n      <th>6</th>\n      <th>7</th>\n      <th>8</th>\n      <th>9</th>\n    </tr>\n  </thead>\n  <tbody>\n    <tr>\n      <th>0</th>\n      <td>0</td>\n      <td>1</td>\n      <td>0</td>\n      <td>0</td>\n      <td>0</td>\n      <td>0</td>\n      <td>0</td>\n      <td>0</td>\n      <td>1</td>\n      <td>0</td>\n    </tr>\n    <tr>\n      <th>1</th>\n      <td>0</td>\n      <td>1</td>\n      <td>0</td>\n      <td>2</td>\n      <td>0</td>\n      <td>0</td>\n      <td>0</td>\n      <td>1</td>\n      <td>1</td>\n      <td>2</td>\n    </tr>\n    <tr>\n      <th>2</th>\n      <td>1</td>\n      <td>0</td>\n      <td>1</td>\n      <td>0</td>\n      <td>1</td>\n      <td>0</td>\n      <td>1</td>\n      <td>0</td>\n      <td>0</td>\n      <td>0</td>\n    </tr>\n    <tr>\n      <th>3</th>\n      <td>0</td>\n      <td>4</td>\n      <td>5</td>\n      <td>0</td>\n      <td>0</td>\n      <td>0</td>\n      <td>0</td>\n      <td>0</td>\n      <td>0</td>\n      <td>0</td>\n    </tr>\n    <tr>\n      <th>4</th>\n      <td>0</td>\n      <td>4</td>\n      <td>0</td>\n      <td>0</td>\n      <td>0</td>\n      <td>0</td>\n      <td>0</td>\n      <td>3</td>\n      <td>0</td>\n      <td>0</td>\n    </tr>\n    <tr>\n      <th>5</th>\n      <td>0</td>\n      <td>0</td>\n      <td>0</td>\n      <td>0</td>\n      <td>0</td>\n      <td>0</td>\n      <td>0</td>\n      <td>0</td>\n      <td>0</td>\n      <td>0</td>\n    </tr>\n    <tr>\n      <th>6</th>\n      <td>0</td>\n      <td>0</td>\n      <td>0</td>\n      <td>0</td>\n      <td>0</td>\n      <td>0</td>\n      <td>0</td>\n      <td>2</td>\n      <td>0</td>\n      <td>0</td>\n    </tr>\n    <tr>\n      <th>7</th>\n      <td>0</td>\n      <td>0</td>\n      <td>0</td>\n      <td>0</td>\n      <td>1</td>\n      <td>0</td>\n      <td>0</td>\n      <td>0</td>\n      <td>0</td>\n      <td>0</td>\n    </tr>\n    <tr>\n      <th>8</th>\n      <td>0</td>\n      <td>0</td>\n      <td>0</td>\n      <td>0</td>\n      <td>1</td>\n      <td>0</td>\n      <td>0</td>\n      <td>0</td>\n      <td>0</td>\n      <td>0</td>\n    </tr>\n    <tr>\n      <th>9</th>\n      <td>0</td>\n      <td>0</td>\n      <td>0</td>\n      <td>0</td>\n      <td>0</td>\n      <td>0</td>\n      <td>0</td>\n      <td>0</td>\n      <td>0</td>\n      <td>0</td>\n    </tr>\n  </tbody>\n</table>\n</div>"
     },
     "execution_count": 123,
     "metadata": {},
     "output_type": "execute_result"
    }
   ],
   "source": [
    "# 超参数设定\n",
    "K = 50\n",
    "Lambda = 0.01\n",
    "a = 1e-5\n",
    "max_delta_j = 10\n",
    "max_loop = 20\n",
    "\n",
    "# 定义数据结构\n",
    "U = pd.DataFrame(np.full([level, K], 1.0 / K, dtype=float))\n",
    "V = pd.DataFrame(np.ones([level, K], dtype=float))\n",
    "A = pd.DataFrame(np.zeros([level, level]))\n",
    "X = pd.DataFrame(user_test.iloc[0:level, 0:level])\n",
    "X.iloc[0:10, 0:10]"
   ],
   "metadata": {
    "collapsed": false
   }
  },
  {
   "cell_type": "code",
   "execution_count": 105,
   "outputs": [
    {
     "data": {
      "text/plain": "     1    2    3    4    5    6    7    8    9\n1  1.0  0.0  1.0  0.0  0.0  0.0  1.0  1.0  1.0\n2  0.0  1.0  0.0  1.0  0.0  1.0  0.0  0.0  0.0\n3  1.0  1.0  0.0  0.0  0.0  0.0  0.0  0.0  0.0\n4  1.0  0.0  0.0  0.0  0.0  0.0  1.0  0.0  0.0\n5  0.0  0.0  0.0  0.0  0.0  0.0  0.0  0.0  0.0\n6  0.0  0.0  0.0  0.0  0.0  0.0  1.0  0.0  0.0\n7  0.0  0.0  0.0  1.0  0.0  0.0  0.0  0.0  0.0\n8  0.0  0.0  0.0  1.0  0.0  0.0  0.0  0.0  0.0\n9  0.0  0.0  0.0  0.0  0.0  0.0  0.0  0.0  0.0",
      "text/html": "<div>\n<style scoped>\n    .dataframe tbody tr th:only-of-type {\n        vertical-align: middle;\n    }\n\n    .dataframe tbody tr th {\n        vertical-align: top;\n    }\n\n    .dataframe thead th {\n        text-align: right;\n    }\n</style>\n<table border=\"1\" class=\"dataframe\">\n  <thead>\n    <tr style=\"text-align: right;\">\n      <th></th>\n      <th>1</th>\n      <th>2</th>\n      <th>3</th>\n      <th>4</th>\n      <th>5</th>\n      <th>6</th>\n      <th>7</th>\n      <th>8</th>\n      <th>9</th>\n    </tr>\n  </thead>\n  <tbody>\n    <tr>\n      <th>1</th>\n      <td>1.0</td>\n      <td>0.0</td>\n      <td>1.0</td>\n      <td>0.0</td>\n      <td>0.0</td>\n      <td>0.0</td>\n      <td>1.0</td>\n      <td>1.0</td>\n      <td>1.0</td>\n    </tr>\n    <tr>\n      <th>2</th>\n      <td>0.0</td>\n      <td>1.0</td>\n      <td>0.0</td>\n      <td>1.0</td>\n      <td>0.0</td>\n      <td>1.0</td>\n      <td>0.0</td>\n      <td>0.0</td>\n      <td>0.0</td>\n    </tr>\n    <tr>\n      <th>3</th>\n      <td>1.0</td>\n      <td>1.0</td>\n      <td>0.0</td>\n      <td>0.0</td>\n      <td>0.0</td>\n      <td>0.0</td>\n      <td>0.0</td>\n      <td>0.0</td>\n      <td>0.0</td>\n    </tr>\n    <tr>\n      <th>4</th>\n      <td>1.0</td>\n      <td>0.0</td>\n      <td>0.0</td>\n      <td>0.0</td>\n      <td>0.0</td>\n      <td>0.0</td>\n      <td>1.0</td>\n      <td>0.0</td>\n      <td>0.0</td>\n    </tr>\n    <tr>\n      <th>5</th>\n      <td>0.0</td>\n      <td>0.0</td>\n      <td>0.0</td>\n      <td>0.0</td>\n      <td>0.0</td>\n      <td>0.0</td>\n      <td>0.0</td>\n      <td>0.0</td>\n      <td>0.0</td>\n    </tr>\n    <tr>\n      <th>6</th>\n      <td>0.0</td>\n      <td>0.0</td>\n      <td>0.0</td>\n      <td>0.0</td>\n      <td>0.0</td>\n      <td>0.0</td>\n      <td>1.0</td>\n      <td>0.0</td>\n      <td>0.0</td>\n    </tr>\n    <tr>\n      <th>7</th>\n      <td>0.0</td>\n      <td>0.0</td>\n      <td>0.0</td>\n      <td>1.0</td>\n      <td>0.0</td>\n      <td>0.0</td>\n      <td>0.0</td>\n      <td>0.0</td>\n      <td>0.0</td>\n    </tr>\n    <tr>\n      <th>8</th>\n      <td>0.0</td>\n      <td>0.0</td>\n      <td>0.0</td>\n      <td>1.0</td>\n      <td>0.0</td>\n      <td>0.0</td>\n      <td>0.0</td>\n      <td>0.0</td>\n      <td>0.0</td>\n    </tr>\n    <tr>\n      <th>9</th>\n      <td>0.0</td>\n      <td>0.0</td>\n      <td>0.0</td>\n      <td>0.0</td>\n      <td>0.0</td>\n      <td>0.0</td>\n      <td>0.0</td>\n      <td>0.0</td>\n      <td>0.0</td>\n    </tr>\n  </tbody>\n</table>\n</div>"
     },
     "execution_count": 105,
     "metadata": {},
     "output_type": "execute_result"
    }
   ],
   "source": [
    "# 计算指示矩阵A\n",
    "for i in range(0, level):\n",
    "    for j in range(0, level):\n",
    "        if user_test.iloc[i, j] == 0:\n",
    "            A.iloc[i, j] = 0\n",
    "        else:\n",
    "            A.iloc[i, j] = 1\n",
    "A.iloc[1:10, 1:10]"
   ],
   "metadata": {
    "collapsed": false
   }
  },
  {
   "cell_type": "code",
   "execution_count": 99,
   "outputs": [],
   "source": [
    "# 定义相关函数\n",
    "# 矩阵的Frobenius范数计算函数\n",
    "def F(df):\n",
    "    Sum = 0.0\n",
    "    for i in range(0, len(df)):\n",
    "        Sum = Sum + sum(x**2 for x in df.iloc[i, :].values)\n",
    "    return math.sqrt(Sum)"
   ],
   "metadata": {
    "collapsed": false
   }
  },
  {
   "cell_type": "code",
   "execution_count": 157,
   "outputs": [],
   "source": [
    "# U的导数\n",
    "def dU(Lambda):\n",
    "    UV = U.dot(V.T)\n",
    "    UV_X = UV - X\n",
    "    hadama = A * UV_X\n",
    "    hadama_V = hadama.dot(V)\n",
    "    return hadama_V + 2 * Lambda * U"
   ],
   "metadata": {
    "collapsed": false
   }
  },
  {
   "cell_type": "code",
   "execution_count": 158,
   "outputs": [],
   "source": [
    "# V的导数\n",
    "def dV(Lambda):\n",
    "    UV = U.dot(V.T)\n",
    "    UV_X = UV - X\n",
    "    hadama = A * UV_X\n",
    "    hadama_U = (hadama.T).dot(U)\n",
    "    return hadama_U + 2 * Lambda * V"
   ],
   "metadata": {
    "collapsed": false
   }
  },
  {
   "cell_type": "code",
   "execution_count": 159,
   "outputs": [],
   "source": [
    "# 目标函数J\n",
    "def J(Lambda):\n",
    "    UV = U.dot(V.T)\n",
    "    X_UV = X - UV\n",
    "    hadama = A * X_UV\n",
    "    return 0.5 * F(hadama) + Lambda * F(U) + Lambda * F(V)"
   ],
   "metadata": {
    "collapsed": false
   }
  },
  {
   "cell_type": "code",
   "execution_count": 129,
   "outputs": [],
   "source": [
    "# 测试集RMSE\n",
    "def RMSE_test():\n",
    "    X2 = U.dot(V.T)\n",
    "    Sum = 0.0\n",
    "    for i in range(0, level):\n",
    "        Sum += sum(x**2 for x in (X.iloc[i, 0:level].values - X2.iloc[i, 0:level].values))\n",
    "    ans = math.sqrt(Sum / (level * level))\n",
    "    return ans"
   ],
   "metadata": {
    "collapsed": false
   }
  },
  {
   "cell_type": "code",
   "execution_count": 139,
   "outputs": [
    {
     "data": {
      "text/plain": "         0           1         2\n0      0.0  159.214784  3.293009\n1      1.0  159.209447  3.293057\n2      2.0  159.204118  3.293104\n3      3.0  159.198796  3.293149\n4      4.0  159.193481  3.293193\n..     ...         ...       ...\n195  195.0  158.271271  3.293587\n196  196.0  158.266859  3.293576\n197  197.0  158.262450  3.293564\n198  198.0  158.258046  3.293553\n199  199.0  158.253645  3.293541\n\n[200 rows x 3 columns]",
      "text/html": "<div>\n<style scoped>\n    .dataframe tbody tr th:only-of-type {\n        vertical-align: middle;\n    }\n\n    .dataframe tbody tr th {\n        vertical-align: top;\n    }\n\n    .dataframe thead th {\n        text-align: right;\n    }\n</style>\n<table border=\"1\" class=\"dataframe\">\n  <thead>\n    <tr style=\"text-align: right;\">\n      <th></th>\n      <th>0</th>\n      <th>1</th>\n      <th>2</th>\n    </tr>\n  </thead>\n  <tbody>\n    <tr>\n      <th>0</th>\n      <td>0.0</td>\n      <td>159.214784</td>\n      <td>3.293009</td>\n    </tr>\n    <tr>\n      <th>1</th>\n      <td>1.0</td>\n      <td>159.209447</td>\n      <td>3.293057</td>\n    </tr>\n    <tr>\n      <th>2</th>\n      <td>2.0</td>\n      <td>159.204118</td>\n      <td>3.293104</td>\n    </tr>\n    <tr>\n      <th>3</th>\n      <td>3.0</td>\n      <td>159.198796</td>\n      <td>3.293149</td>\n    </tr>\n    <tr>\n      <th>4</th>\n      <td>4.0</td>\n      <td>159.193481</td>\n      <td>3.293193</td>\n    </tr>\n    <tr>\n      <th>...</th>\n      <td>...</td>\n      <td>...</td>\n      <td>...</td>\n    </tr>\n    <tr>\n      <th>195</th>\n      <td>195.0</td>\n      <td>158.271271</td>\n      <td>3.293587</td>\n    </tr>\n    <tr>\n      <th>196</th>\n      <td>196.0</td>\n      <td>158.266859</td>\n      <td>3.293576</td>\n    </tr>\n    <tr>\n      <th>197</th>\n      <td>197.0</td>\n      <td>158.262450</td>\n      <td>3.293564</td>\n    </tr>\n    <tr>\n      <th>198</th>\n      <td>198.0</td>\n      <td>158.258046</td>\n      <td>3.293553</td>\n    </tr>\n    <tr>\n      <th>199</th>\n      <td>199.0</td>\n      <td>158.253645</td>\n      <td>3.293541</td>\n    </tr>\n  </tbody>\n</table>\n<p>200 rows × 3 columns</p>\n</div>"
     },
     "execution_count": 139,
     "metadata": {},
     "output_type": "execute_result"
    }
   ],
   "source": [
    "# 迭代算法1\n",
    "time = 0\n",
    "result = pd.DataFrame(np.zeros([max_loop, 3]))\n",
    "while time < max_loop:\n",
    "    DU = dU(Lambda)\n",
    "    DV = dV(Lambda)\n",
    "    U = U - a * DU\n",
    "    V = V - a * DV\n",
    "    temp_J = J(Lambda)\n",
    "    temp_RMSE_test = RMSE_test()\n",
    "    result.iloc[time, :] = [time, temp_J, temp_RMSE_test]\n",
    "    time = time + 1\n",
    "result"
   ],
   "metadata": {
    "collapsed": false
   }
  },
  {
   "cell_type": "code",
   "execution_count": 168,
   "outputs": [
    {
     "data": {
      "text/plain": "       0           1         2\n0      0  170.107866  2.954268\n1      1  169.712375  2.961820\n2      2  169.332910  2.969199\n3      3  168.968817  2.976410\n4      4  168.619464  2.983455\n..   ...         ...       ...\n110  110  160.000142  3.264192\n111  111  159.989701  3.264854\n112  112  159.979435  3.265502\n113  113  159.969338  3.266136\n114  114  159.959402  3.266756\n\n[115 rows x 3 columns]",
      "text/html": "<div>\n<style scoped>\n    .dataframe tbody tr th:only-of-type {\n        vertical-align: middle;\n    }\n\n    .dataframe tbody tr th {\n        vertical-align: top;\n    }\n\n    .dataframe thead th {\n        text-align: right;\n    }\n</style>\n<table border=\"1\" class=\"dataframe\">\n  <thead>\n    <tr style=\"text-align: right;\">\n      <th></th>\n      <th>0</th>\n      <th>1</th>\n      <th>2</th>\n    </tr>\n  </thead>\n  <tbody>\n    <tr>\n      <th>0</th>\n      <td>0</td>\n      <td>170.107866</td>\n      <td>2.954268</td>\n    </tr>\n    <tr>\n      <th>1</th>\n      <td>1</td>\n      <td>169.712375</td>\n      <td>2.961820</td>\n    </tr>\n    <tr>\n      <th>2</th>\n      <td>2</td>\n      <td>169.332910</td>\n      <td>2.969199</td>\n    </tr>\n    <tr>\n      <th>3</th>\n      <td>3</td>\n      <td>168.968817</td>\n      <td>2.976410</td>\n    </tr>\n    <tr>\n      <th>4</th>\n      <td>4</td>\n      <td>168.619464</td>\n      <td>2.983455</td>\n    </tr>\n    <tr>\n      <th>...</th>\n      <td>...</td>\n      <td>...</td>\n      <td>...</td>\n    </tr>\n    <tr>\n      <th>110</th>\n      <td>110</td>\n      <td>160.000142</td>\n      <td>3.264192</td>\n    </tr>\n    <tr>\n      <th>111</th>\n      <td>111</td>\n      <td>159.989701</td>\n      <td>3.264854</td>\n    </tr>\n    <tr>\n      <th>112</th>\n      <td>112</td>\n      <td>159.979435</td>\n      <td>3.265502</td>\n    </tr>\n    <tr>\n      <th>113</th>\n      <td>113</td>\n      <td>159.969338</td>\n      <td>3.266136</td>\n    </tr>\n    <tr>\n      <th>114</th>\n      <td>114</td>\n      <td>159.959402</td>\n      <td>3.266756</td>\n    </tr>\n  </tbody>\n</table>\n<p>115 rows × 3 columns</p>\n</div>"
     },
     "execution_count": 168,
     "metadata": {},
     "output_type": "execute_result"
    }
   ],
   "source": [
    "# 迭代算法2\n",
    "time = 0\n",
    "max_delta_j = 0.01\n",
    "delta_j = max_delta_j + 1\n",
    "last_J = 0\n",
    "result2_list = []\n",
    "while delta_j > max_delta_j:\n",
    "    DU = dU(Lambda)\n",
    "    DV = dV(Lambda)\n",
    "    U = U - a * DU\n",
    "    V = V - a * DV\n",
    "    temp_J = J(Lambda)\n",
    "    temp_RMSE_test = RMSE_test()\n",
    "    result2_list.append([time, temp_J, temp_RMSE_test])\n",
    "    print([time, temp_J, temp_RMSE_test])\n",
    "    time = time + 1\n",
    "    delta_j = math.fabs(last_J - temp_J)\n",
    "    last_J = temp_J\n",
    "result2 = pd.DataFrame(result2_list)\n",
    "result2"
   ],
   "metadata": {
    "collapsed": false
   }
  },
  {
   "cell_type": "code",
   "execution_count": 151,
   "outputs": [
    {
     "data": {
      "text/plain": "[<matplotlib.lines.Line2D at 0x296ec961120>]"
     },
     "execution_count": 151,
     "metadata": {},
     "output_type": "execute_result"
    },
    {
     "data": {
      "text/plain": "<Figure size 640x480 with 1 Axes>",
      "image/png": "[encoded data removed]"
     },
     "metadata": {},
     "output_type": "display_data"
    }
   ],
   "source": [
    "# 绘制目标函数值变化图\n",
    "plt.plot(result.iloc[:,0], result.iloc[:,1])"
   ],
   "metadata": {
    "collapsed": false
   }
  },
  {
   "cell_type": "code",
   "execution_count": 152,
   "outputs": [
    {
     "data": {
      "text/plain": "[<matplotlib.lines.Line2D at 0x296ecab2c80>]"
     },
     "execution_count": 152,
     "metadata": {},
     "output_type": "execute_result"
    },
    {
     "data": {
      "text/plain": "<Figure size 640x480 with 1 Axes>",
      "image/png": "[encoded data removed]"
     },
     "metadata": {},
     "output_type": "display_data"
    }
   ],
   "source": [
    "# 绘制测试集RMSE值变化图\n",
    "plt.plot(result.iloc[:,0], result.iloc[:,2])"
   ],
   "metadata": {
    "collapsed": false
   }
  },
  {
   "cell_type": "code",
   "execution_count": 165,
   "outputs": [
    {
     "data": {
      "text/plain": "       0         1\n0   10.0  1.263211\n1   50.0  1.908800\n2  100.0  2.440023",
      "text/html": "<div>\n<style scoped>\n    .dataframe tbody tr th:only-of-type {\n        vertical-align: middle;\n    }\n\n    .dataframe tbody tr th {\n        vertical-align: top;\n    }\n\n    .dataframe thead th {\n        text-align: right;\n    }\n</style>\n<table border=\"1\" class=\"dataframe\">\n  <thead>\n    <tr style=\"text-align: right;\">\n      <th></th>\n      <th>0</th>\n      <th>1</th>\n    </tr>\n  </thead>\n  <tbody>\n    <tr>\n      <th>0</th>\n      <td>10.0</td>\n      <td>1.263211</td>\n    </tr>\n    <tr>\n      <th>1</th>\n      <td>50.0</td>\n      <td>1.908800</td>\n    </tr>\n    <tr>\n      <th>2</th>\n      <td>100.0</td>\n      <td>2.440023</td>\n    </tr>\n  </tbody>\n</table>\n</div>"
     },
     "execution_count": 165,
     "metadata": {},
     "output_type": "execute_result"
    }
   ],
   "source": [
    "# 调参\n",
    "# 不同的k值\n",
    "max_loop = 20\n",
    "Lambda2 = 0.01\n",
    "k_choice = [10, 50, 100]\n",
    "result_k = pd.DataFrame(np.zeros([3, 2]))\n",
    "for i in range(0, 3):\n",
    "    U = pd.DataFrame(np.full([level, k_choice[i]], 1.0 / k_choice[i], dtype=float))\n",
    "    V = pd.DataFrame(np.ones([level, k_choice[i]], dtype=float))\n",
    "    time = 0\n",
    "    temp_RMSE_test = 0.0\n",
    "    while time < max_loop:\n",
    "        DU = dU(Lambda2)\n",
    "        DV = dV(Lambda2)\n",
    "        U = U - a * DU\n",
    "        V = V - a * DV\n",
    "        temp_J = J(Lambda2)\n",
    "        temp_RMSE_test = RMSE_test()\n",
    "        time = time + 1\n",
    "    result_k.iloc[i, :] = [k_choice[i], temp_RMSE_test]\n",
    "result_k"
   ],
   "metadata": {
    "collapsed": false
   }
  },
  {
   "cell_type": "code",
   "execution_count": 166,
   "outputs": [
    {
     "data": {
      "text/plain": "       0         1\n0  0.001  1.908811\n1  0.010  2.430482\n2  0.100  2.749934\n3  1.000  2.946539",
      "text/html": "<div>\n<style scoped>\n    .dataframe tbody tr th:only-of-type {\n        vertical-align: middle;\n    }\n\n    .dataframe tbody tr th {\n        vertical-align: top;\n    }\n\n    .dataframe thead th {\n        text-align: right;\n    }\n</style>\n<table border=\"1\" class=\"dataframe\">\n  <thead>\n    <tr style=\"text-align: right;\">\n      <th></th>\n      <th>0</th>\n      <th>1</th>\n    </tr>\n  </thead>\n  <tbody>\n    <tr>\n      <th>0</th>\n      <td>0.001</td>\n      <td>1.908811</td>\n    </tr>\n    <tr>\n      <th>1</th>\n      <td>0.010</td>\n      <td>2.430482</td>\n    </tr>\n    <tr>\n      <th>2</th>\n      <td>0.100</td>\n      <td>2.749934</td>\n    </tr>\n    <tr>\n      <th>3</th>\n      <td>1.000</td>\n      <td>2.946539</td>\n    </tr>\n  </tbody>\n</table>\n</div>"
     },
     "execution_count": 166,
     "metadata": {},
     "output_type": "execute_result"
    }
   ],
   "source": [
    "# 调参\n",
    "# 不同的lambda值\n",
    "max_loop = 20\n",
    "k = 50\n",
    "U = pd.DataFrame(np.full([level, k], 1.0 / k, dtype=float))\n",
    "V = pd.DataFrame(np.ones([level, k], dtype=float))\n",
    "lambda_choice = [0.001, 0.01, 0.1, 1]\n",
    "result_lambda = pd.DataFrame(np.zeros([4, 2]))\n",
    "for i in range(0, 4):\n",
    "    time = 0\n",
    "    temp_RMSE_test = 0.0\n",
    "    while time < max_loop:\n",
    "        DU = dU(lambda_choice[i])\n",
    "        DV = dV(lambda_choice[i])\n",
    "        U = U - a * DU\n",
    "        V = V - a * DV\n",
    "        temp_J = J(lambda_choice[i])\n",
    "        temp_RMSE_test = RMSE_test()\n",
    "        time = time + 1\n",
    "    result_lambda.iloc[i, :] = [lambda_choice[i], temp_RMSE_test]\n",
    "result_lambda"
   ],
   "metadata": {
    "collapsed": false
   }
  },
  {
   "cell_type": "markdown",
   "source": [
    "# 4 利用更多信息提高推荐效果"
   ],
   "metadata": {
    "collapsed": false
   }
  },
  {
   "cell_type": "code",
   "execution_count": 187,
   "outputs": [
    {
     "data": {
      "text/plain": "           0     1                                                  2  3  4  5\n0          1  2003                                    Dinosaur Planet  0  0  0\n1          2  2004                         Isle of Man TT 2004 Review  0  0  0\n2          3  1997                                          Character  0  0  0\n3          4  1994                       Paula Abdul's Get Up & Dance  0  0  0\n4          5  2004                           The Rise and Fall of ECW  0  0  0\n...      ...   ...                                                ... .. .. ..\n17765  17766  2002  Where the Wild Things Are and Other Maurice Se...  0  0  0\n17766  17767  2004                  Fidel Castro: American Experience  0  0  0\n17767  17768  2000                                              Epoch  0  0  0\n17768  17769  2003                                        The Company  0  0  0\n17769  17770  2003                                       Alien Hunter  0  0  0\n\n[17770 rows x 6 columns]",
      "text/html": "<div>\n<style scoped>\n    .dataframe tbody tr th:only-of-type {\n        vertical-align: middle;\n    }\n\n    .dataframe tbody tr th {\n        vertical-align: top;\n    }\n\n    .dataframe thead th {\n        text-align: right;\n    }\n</style>\n<table border=\"1\" class=\"dataframe\">\n  <thead>\n    <tr style=\"text-align: right;\">\n      <th></th>\n      <th>0</th>\n      <th>1</th>\n      <th>2</th>\n      <th>3</th>\n      <th>4</th>\n      <th>5</th>\n    </tr>\n  </thead>\n  <tbody>\n    <tr>\n      <th>0</th>\n      <td>1</td>\n      <td>2003</td>\n      <td>Dinosaur Planet</td>\n      <td>0</td>\n      <td>0</td>\n      <td>0</td>\n    </tr>\n    <tr>\n      <th>1</th>\n      <td>2</td>\n      <td>2004</td>\n      <td>Isle of Man TT 2004 Review</td>\n      <td>0</td>\n      <td>0</td>\n      <td>0</td>\n    </tr>\n    <tr>\n      <th>2</th>\n      <td>3</td>\n      <td>1997</td>\n      <td>Character</td>\n      <td>0</td>\n      <td>0</td>\n      <td>0</td>\n    </tr>\n    <tr>\n      <th>3</th>\n      <td>4</td>\n      <td>1994</td>\n      <td>Paula Abdul's Get Up &amp; Dance</td>\n      <td>0</td>\n      <td>0</td>\n      <td>0</td>\n    </tr>\n    <tr>\n      <th>4</th>\n      <td>5</td>\n      <td>2004</td>\n      <td>The Rise and Fall of ECW</td>\n      <td>0</td>\n      <td>0</td>\n      <td>0</td>\n    </tr>\n    <tr>\n      <th>...</th>\n      <td>...</td>\n      <td>...</td>\n      <td>...</td>\n      <td>...</td>\n      <td>...</td>\n      <td>...</td>\n    </tr>\n    <tr>\n      <th>17765</th>\n      <td>17766</td>\n      <td>2002</td>\n      <td>Where the Wild Things Are and Other Maurice Se...</td>\n      <td>0</td>\n      <td>0</td>\n      <td>0</td>\n    </tr>\n    <tr>\n      <th>17766</th>\n      <td>17767</td>\n      <td>2004</td>\n      <td>Fidel Castro: American Experience</td>\n      <td>0</td>\n      <td>0</td>\n      <td>0</td>\n    </tr>\n    <tr>\n      <th>17767</th>\n      <td>17768</td>\n      <td>2000</td>\n      <td>Epoch</td>\n      <td>0</td>\n      <td>0</td>\n      <td>0</td>\n    </tr>\n    <tr>\n      <th>17768</th>\n      <td>17769</td>\n      <td>2003</td>\n      <td>The Company</td>\n      <td>0</td>\n      <td>0</td>\n      <td>0</td>\n    </tr>\n    <tr>\n      <th>17769</th>\n      <td>17770</td>\n      <td>2003</td>\n      <td>Alien Hunter</td>\n      <td>0</td>\n      <td>0</td>\n      <td>0</td>\n    </tr>\n  </tbody>\n</table>\n<p>17770 rows × 6 columns</p>\n</div>"
     },
     "execution_count": 187,
     "metadata": {},
     "output_type": "execute_result"
    }
   ],
   "source": [
    "# 读取电影年份和电影名称\n",
    "f_movie = open('./data/movie_titles.txt')\n",
    "movie_list = []\n",
    "pd_movie = f_movie.readlines()\n",
    "for line in pd_movie:\n",
    "    temp_list = line.replace('\\n', '').split(\",\")\n",
    "    temp_list[0] = int(temp_list[0])\n",
    "    if temp_list[1] == 'NULL':\n",
    "        temp_list[1] = 2006\n",
    "    else:\n",
    "        temp_list[1] = int(temp_list[1])\n",
    "    movie_list.append(temp_list)\n",
    "\n",
    "pd_movie_data = pd.DataFrame(movie_list)\n",
    "pd_movie_data = pd_movie_data.iloc[:,0:3]\n",
    "pd_movie_data.loc[:,3] = [0] * 17770 # 后续记录评分人数\n",
    "pd_movie_data.loc[:,4] = [0] * 17770 # 后续记录总评分\n",
    "pd_movie_data.loc[:,5] = [0] * 17770 # 后续计算平均评分\n",
    "pd_movie_data"
   ],
   "metadata": {
    "collapsed": false
   }
  },
  {
   "cell_type": "code",
   "execution_count": 188,
   "outputs": [
    {
     "data": {
      "text/plain": "           0     1                                                  2    3  \\\n0          1  2003                                    Dinosaur Planet  129   \n1          2  2004                         Isle of Man TT 2004 Review   13   \n2          3  1997                                          Character  292   \n3          4  1994                       Paula Abdul's Get Up & Dance   20   \n4          5  2004                           The Rise and Fall of ECW  153   \n...      ...   ...                                                ...  ...   \n17765  17766  2002  Where the Wild Things Are and Other Maurice Se...    0   \n17766  17767  2004                  Fidel Castro: American Experience    0   \n17767  17768  2000                                              Epoch    0   \n17768  17769  2003                                        The Company    0   \n17769  17770  2003                                       Alien Hunter    0   \n\n         4         5  \n0      459  3.558140  \n1       21  1.615385  \n2      970  3.321918  \n3       44  2.200000  \n4      485  3.169935  \n...    ...       ...  \n17765    0  0.000000  \n17766    0  0.000000  \n17767    0  0.000000  \n17768    0  0.000000  \n17769    0  0.000000  \n\n[17770 rows x 6 columns]",
      "text/html": "<div>\n<style scoped>\n    .dataframe tbody tr th:only-of-type {\n        vertical-align: middle;\n    }\n\n    .dataframe tbody tr th {\n        vertical-align: top;\n    }\n\n    .dataframe thead th {\n        text-align: right;\n    }\n</style>\n<table border=\"1\" class=\"dataframe\">\n  <thead>\n    <tr style=\"text-align: right;\">\n      <th></th>\n      <th>0</th>\n      <th>1</th>\n      <th>2</th>\n      <th>3</th>\n      <th>4</th>\n      <th>5</th>\n    </tr>\n  </thead>\n  <tbody>\n    <tr>\n      <th>0</th>\n      <td>1</td>\n      <td>2003</td>\n      <td>Dinosaur Planet</td>\n      <td>129</td>\n      <td>459</td>\n      <td>3.558140</td>\n    </tr>\n    <tr>\n      <th>1</th>\n      <td>2</td>\n      <td>2004</td>\n      <td>Isle of Man TT 2004 Review</td>\n      <td>13</td>\n      <td>21</td>\n      <td>1.615385</td>\n    </tr>\n    <tr>\n      <th>2</th>\n      <td>3</td>\n      <td>1997</td>\n      <td>Character</td>\n      <td>292</td>\n      <td>970</td>\n      <td>3.321918</td>\n    </tr>\n    <tr>\n      <th>3</th>\n      <td>4</td>\n      <td>1994</td>\n      <td>Paula Abdul's Get Up &amp; Dance</td>\n      <td>20</td>\n      <td>44</td>\n      <td>2.200000</td>\n    </tr>\n    <tr>\n      <th>4</th>\n      <td>5</td>\n      <td>2004</td>\n      <td>The Rise and Fall of ECW</td>\n      <td>153</td>\n      <td>485</td>\n      <td>3.169935</td>\n    </tr>\n    <tr>\n      <th>...</th>\n      <td>...</td>\n      <td>...</td>\n      <td>...</td>\n      <td>...</td>\n      <td>...</td>\n      <td>...</td>\n    </tr>\n    <tr>\n      <th>17765</th>\n      <td>17766</td>\n      <td>2002</td>\n      <td>Where the Wild Things Are and Other Maurice Se...</td>\n      <td>0</td>\n      <td>0</td>\n      <td>0.000000</td>\n    </tr>\n    <tr>\n      <th>17766</th>\n      <td>17767</td>\n      <td>2004</td>\n      <td>Fidel Castro: American Experience</td>\n      <td>0</td>\n      <td>0</td>\n      <td>0.000000</td>\n    </tr>\n    <tr>\n      <th>17767</th>\n      <td>17768</td>\n      <td>2000</td>\n      <td>Epoch</td>\n      <td>0</td>\n      <td>0</td>\n      <td>0.000000</td>\n    </tr>\n    <tr>\n      <th>17768</th>\n      <td>17769</td>\n      <td>2003</td>\n      <td>The Company</td>\n      <td>0</td>\n      <td>0</td>\n      <td>0.000000</td>\n    </tr>\n    <tr>\n      <th>17769</th>\n      <td>17770</td>\n      <td>2003</td>\n      <td>Alien Hunter</td>\n      <td>0</td>\n      <td>0</td>\n      <td>0.000000</td>\n    </tr>\n  </tbody>\n</table>\n<p>17770 rows × 6 columns</p>\n</div>"
     },
     "execution_count": 188,
     "metadata": {},
     "output_type": "execute_result"
    }
   ],
   "source": [
    "# 对电影评分取均值\n",
    "f_train2 = open('./data/netflix_train.txt')\n",
    "f_train_data2 = f_train2.readlines()\n",
    "for line in f_train_data2:\n",
    "    temp_list = line.split(\" \")\n",
    "    pd_movie_data.iloc[int(temp_list[1]) - 1, 3] = pd_movie_data.iloc[int(temp_list[1]) - 1, 3] + 1\n",
    "    pd_movie_data.iloc[int(temp_list[1]) - 1, 4] = pd_movie_data.iloc[int(temp_list[1]) - 1, 4] + int(temp_list[2])\n",
    "\n",
    "for i in range(0, 10000):\n",
    "    pd_movie_data.iloc[i, 5] = pd_movie_data.iloc[i, 4] / pd_movie_data.iloc[i, 3]\n",
    "\n",
    "pd_movie_data"
   ],
   "metadata": {
    "collapsed": false
   }
  },
  {
   "cell_type": "code",
   "execution_count": 197,
   "outputs": [
    {
     "name": "stdout",
     "output_type": "stream",
     "text": [
      "1896 2005\n"
     ]
    }
   ],
   "source": [
    "# 基于电影年份推荐：计算年代电影得分情况\n",
    "max_year = max(pd_movie_data.iloc[:,1])\n",
    "min_year = max_year\n",
    "for i in range(0, len(pd_movie_data)):\n",
    "    if pd_movie_data.iloc[i, 1] != 0 and pd_movie_data.iloc[i, 1] < min_year:\n",
    "        min_year = pd_movie_data.iloc[i, 1]\n",
    "print(min_year,max_year)"
   ],
   "metadata": {
    "collapsed": false
   }
  },
  {
   "cell_type": "code",
   "execution_count": 222,
   "outputs": [
    {
     "data": {
      "text/plain": "          0    1      2      3      4    5        平均\n1896    0.0  0.0    0.0    1.0    0.0  0.0  3.000000\n1897    0.0  0.0    0.0    0.0    0.0  0.0  0.000000\n1898    0.0  0.0    0.0    0.0    0.0  0.0  0.000000\n1899    0.0  0.0    0.0    0.0    0.0  0.0  0.000000\n1900    0.0  0.0    0.0    0.0    0.0  0.0  0.000000\n...     ...  ...    ...    ...    ...  ...       ...\n2001  537.0  0.0  188.0  395.0   63.0  1.0  1.535473\n2002  551.0  2.0  206.0  463.0   87.0  1.0  1.645802\n2003  546.0  2.0  164.0  451.0  107.0  1.0  1.664831\n2004  635.0  1.0  206.0  468.0  124.0  2.0  1.617688\n2005  214.0  1.0   95.0  143.0   58.0  1.0  1.673828\n\n[110 rows x 7 columns]",
      "text/html": "<div>\n<style scoped>\n    .dataframe tbody tr th:only-of-type {\n        vertical-align: middle;\n    }\n\n    .dataframe tbody tr th {\n        vertical-align: top;\n    }\n\n    .dataframe thead th {\n        text-align: right;\n    }\n</style>\n<table border=\"1\" class=\"dataframe\">\n  <thead>\n    <tr style=\"text-align: right;\">\n      <th></th>\n      <th>0</th>\n      <th>1</th>\n      <th>2</th>\n      <th>3</th>\n      <th>4</th>\n      <th>5</th>\n      <th>平均</th>\n    </tr>\n  </thead>\n  <tbody>\n    <tr>\n      <th>1896</th>\n      <td>0.0</td>\n      <td>0.0</td>\n      <td>0.0</td>\n      <td>1.0</td>\n      <td>0.0</td>\n      <td>0.0</td>\n      <td>3.000000</td>\n    </tr>\n    <tr>\n      <th>1897</th>\n      <td>0.0</td>\n      <td>0.0</td>\n      <td>0.0</td>\n      <td>0.0</td>\n      <td>0.0</td>\n      <td>0.0</td>\n      <td>0.000000</td>\n    </tr>\n    <tr>\n      <th>1898</th>\n      <td>0.0</td>\n      <td>0.0</td>\n      <td>0.0</td>\n      <td>0.0</td>\n      <td>0.0</td>\n      <td>0.0</td>\n      <td>0.000000</td>\n    </tr>\n    <tr>\n      <th>1899</th>\n      <td>0.0</td>\n      <td>0.0</td>\n      <td>0.0</td>\n      <td>0.0</td>\n      <td>0.0</td>\n      <td>0.0</td>\n      <td>0.000000</td>\n    </tr>\n    <tr>\n      <th>1900</th>\n      <td>0.0</td>\n      <td>0.0</td>\n      <td>0.0</td>\n      <td>0.0</td>\n      <td>0.0</td>\n      <td>0.0</td>\n      <td>0.000000</td>\n    </tr>\n    <tr>\n      <th>...</th>\n      <td>...</td>\n      <td>...</td>\n      <td>...</td>\n      <td>...</td>\n      <td>...</td>\n      <td>...</td>\n      <td>...</td>\n    </tr>\n    <tr>\n      <th>2001</th>\n      <td>537.0</td>\n      <td>0.0</td>\n      <td>188.0</td>\n      <td>395.0</td>\n      <td>63.0</td>\n      <td>1.0</td>\n      <td>1.535473</td>\n    </tr>\n    <tr>\n      <th>2002</th>\n      <td>551.0</td>\n      <td>2.0</td>\n      <td>206.0</td>\n      <td>463.0</td>\n      <td>87.0</td>\n      <td>1.0</td>\n      <td>1.645802</td>\n    </tr>\n    <tr>\n      <th>2003</th>\n      <td>546.0</td>\n      <td>2.0</td>\n      <td>164.0</td>\n      <td>451.0</td>\n      <td>107.0</td>\n      <td>1.0</td>\n      <td>1.664831</td>\n    </tr>\n    <tr>\n      <th>2004</th>\n      <td>635.0</td>\n      <td>1.0</td>\n      <td>206.0</td>\n      <td>468.0</td>\n      <td>124.0</td>\n      <td>2.0</td>\n      <td>1.617688</td>\n    </tr>\n    <tr>\n      <th>2005</th>\n      <td>214.0</td>\n      <td>1.0</td>\n      <td>95.0</td>\n      <td>143.0</td>\n      <td>58.0</td>\n      <td>1.0</td>\n      <td>1.673828</td>\n    </tr>\n  </tbody>\n</table>\n<p>110 rows × 7 columns</p>\n</div>"
     },
     "execution_count": 222,
     "metadata": {},
     "output_type": "execute_result"
    }
   ],
   "source": [
    "pd_movie_summary= pd.DataFrame(np.zeros([max_year - min_year + 1, 7]),\n",
    "                               index= range(min_year, max_year + 1), columns=[\"0\", \"1\", \"2\", \"3\", \"4\", \"5\", \"平均\"])\n",
    "for i in range(len(pd_movie_data)):\n",
    "    if pd_movie_data.iloc[i, 1] <= max_year and pd_movie_data.iloc[i, 1] >= min_year:\n",
    "        pd_movie_summary.loc[pd_movie_data.iloc[i, 1]][round(pd_movie_data.iloc[i, 5])] += 1\n",
    "for i in range(min_year, max_year + 1):\n",
    "    temp_sum = 0\n",
    "    temp_num = 0\n",
    "    for j in range(0, 6):\n",
    "        temp_num += pd_movie_summary.loc[i][str(j)]\n",
    "        temp_sum = temp_sum + pd_movie_summary.loc[i][str(j)] * j\n",
    "    if temp_sum == 0:\n",
    "        pd_movie_summary.loc[i][\"平均\"] = 0.0\n",
    "    else:\n",
    "        pd_movie_summary.loc[i][\"平均\"] = temp_sum / temp_num\n",
    "pd_movie_summary"
   ],
   "metadata": {
    "collapsed": false
   }
  },
  {
   "cell_type": "code",
   "execution_count": 224,
   "outputs": [
    {
     "name": "stderr",
     "output_type": "stream",
     "text": [
      "[nltk_data] Downloading package punkt to\n",
      "[nltk_data]     C:\\Users\\bignet\\AppData\\Roaming\\nltk_data...\n",
      "[nltk_data]   Unzipping tokenizers\\punkt.zip.\n"
     ]
    }
   ],
   "source": [
    "# 基于电影名称的推荐：语言模型\n",
    "import nltk\n",
    "nltk.download('punkt')\n",
    "from nltk.tokenize import word_tokenize\n",
    "from gensim.models.doc2vec import Doc2Vec, TaggedDocument"
   ],
   "metadata": {
    "collapsed": false
   }
  },
  {
   "cell_type": "code",
   "execution_count": 226,
   "outputs": [
    {
     "data": {
      "text/plain": "[['dinosaur', 'planet'],\n ['isle', 'of', 'man', 'tt', '2004', 'review'],\n ['character'],\n ['paula', 'abdul', \"'s\", 'get', 'up', '&', 'dance'],\n ['the', 'rise', 'and', 'fall', 'of', 'ecw'],\n ['sick'],\n ['8', 'man'],\n ['what', 'the', '#', '$', '*', '!', 'do', 'we', 'know', '!', '?'],\n ['class', 'of', 'nuke', \"'em\", 'high', '2'],\n ['fighter']]"
     },
     "execution_count": 226,
     "metadata": {},
     "output_type": "execute_result"
    }
   ],
   "source": [
    "# 生成句子token\n",
    "names = pd_movie_data.iloc[:, 2]\n",
    "tokenized_names = []\n",
    "for line in names:\n",
    "    tokenized_names.append(word_tokenize(line.lower()))\n",
    "tokenized_names[0:10]"
   ],
   "metadata": {
    "collapsed": false
   }
  },
  {
   "cell_type": "code",
   "execution_count": 227,
   "outputs": [],
   "source": [
    "# 计算余弦相似度\n",
    "def cosim(np1, np2):\n",
    "    np12 = np.dot(np1, np2)\n",
    "    np1_2 = np.linalg.norm(np1) * np.linalg.norm(np2)\n",
    "    return np12 / np1_2"
   ],
   "metadata": {
    "collapsed": false
   }
  },
  {
   "cell_type": "code",
   "execution_count": 229,
   "outputs": [
    {
     "data": {
      "text/plain": "[TaggedDocument(words=['dinosaur', 'planet'], tags=[0]),\n TaggedDocument(words=['isle', 'of', 'man', 'tt', '2004', 'review'], tags=[1]),\n TaggedDocument(words=['character'], tags=[2]),\n TaggedDocument(words=['paula', 'abdul', \"'s\", 'get', 'up', '&', 'dance'], tags=[3]),\n TaggedDocument(words=['the', 'rise', 'and', 'fall', 'of', 'ecw'], tags=[4]),\n TaggedDocument(words=['sick'], tags=[5]),\n TaggedDocument(words=['8', 'man'], tags=[6]),\n TaggedDocument(words=['what', 'the', '#', '$', '*', '!', 'do', 'we', 'know', '!', '?'], tags=[7]),\n TaggedDocument(words=['class', 'of', 'nuke', \"'em\", 'high', '2'], tags=[8]),\n TaggedDocument(words=['fighter'], tags=[9])]"
     },
     "execution_count": 229,
     "metadata": {},
     "output_type": "execute_result"
    }
   ],
   "source": [
    "#Doc2Vec\n",
    "tagged_names = [TaggedDocument(name, [i]) for i, name in enumerate(tokenized_names)]\n",
    "tagged_names[0:10]"
   ],
   "metadata": {
    "collapsed": false
   }
  },
  {
   "cell_type": "code",
   "execution_count": 237,
   "outputs": [
    {
     "data": {
      "text/plain": "{'the': 0,\n ':': 1,\n 'of': 2,\n \"'s\": 3,\n 'and': 4,\n 'season': 5,\n 'in': 6,\n 'a': 7,\n '2': 8,\n '1': 9,\n '.': 10,\n 'to': 11,\n '&': 12,\n 'live': 13,\n 'vol': 14,\n '3': 15,\n 'on': 16,\n '!': 17,\n '/': 18,\n 'for': 19,\n 'series': 20,\n 'bonus': 21,\n 'material': 22,\n 'man': 23,\n 'love': 24,\n 'from': 25,\n 'with': 26,\n 'at': 27,\n 'world': 28,\n 'my': 29,\n 'i': 30,\n 'best': 31,\n 'night': 32,\n 'collection': 33,\n 'edition': 34,\n 'you': 35,\n 'story': 36,\n 'movie': 37,\n 'life': 38,\n 'dead': 39,\n 'house': 40,\n 'it': 41,\n 'american': 42,\n '4': 43,\n 'time': 44,\n 'me': 45,\n 'new': 46,\n 'last': 47,\n 'big': 48,\n \"'\": 49,\n 'all': 50,\n 'blue': 51,\n 'little': 52,\n 'war': 53,\n 'lost': 54,\n 'special': 55,\n 'who': 56,\n 'dragon': 57,\n 'show': 58,\n 'black': 59,\n 'king': 60,\n 'star': 61,\n 'ii': 62,\n '(': 63,\n 'great': 64,\n 'red': 65,\n ')': 66,\n 'is': 67,\n 'day': 68,\n 'one': 69,\n 'by': 70,\n 'street': 71,\n 'death': 72,\n 'city': 73,\n 'dark': 74,\n 'girl': 75,\n '5': 76,\n 'an': 77,\n 'double': 78,\n 'out': 79,\n 'adventures': 80,\n 'girls': 81,\n 'up': 82,\n '?': 83,\n 'complete': 84,\n 'friends': 85,\n 'legend': 86,\n 'white': 87,\n 'blood': 88,\n 'national': 89,\n 'mr.': 90,\n 'no': 91,\n 'do': 92,\n 'america': 93,\n 'baby': 94,\n 'three': 95,\n \"n't\": 96,\n 'zone': 97,\n 'imax': 98,\n 'home': 99,\n 'return': 100,\n 'ultimate': 101,\n 'men': 102,\n 'days': 103,\n 'boys': 104,\n 'space': 105,\n 'feature': 106,\n 'rock': 107,\n 'wild': 108,\n 'good': 109,\n 'your': 110,\n 'back': 111,\n 'twilight': 112,\n 'secret': 113,\n 'high': 114,\n 'that': 115,\n 'first': 116,\n 'moon': 117,\n 'ball': 118,\n 'inspector': 119,\n 'battle': 120,\n 'die': 121,\n 'murder': 122,\n 'concert': 123,\n 'about': 124,\n 'family': 125,\n 'mystery': 126,\n 'woman': 127,\n 'ghost': 128,\n 'la': 129,\n 'greatest': 130,\n 'years': 131,\n 'wwe': 132,\n 'two': 133,\n 'heaven': 134,\n 'way': 135,\n 'park': 136,\n 'geographic': 137,\n 'island': 138,\n 'down': 139,\n 'beyond': 140,\n 'fire': 141,\n 'killer': 142,\n 'dr.': 143,\n 'hell': 144,\n 'green': 145,\n 'trek': 146,\n 'be': 147,\n 'kiss': 148,\n 'dance': 149,\n 'party': 150,\n 'doctor': 151,\n 'earth': 152,\n '6': 153,\n 'sex': 154,\n 'vampire': 155,\n 'school': 156,\n 'what': 157,\n 'heart': 158,\n 'tour': 159,\n 'young': 160,\n 'devil': 161,\n 'princess': 162,\n 'wars': 163,\n 'journey': 164,\n 'part': 165,\n 'angel': 166,\n 'john': 167,\n 'deep': 168,\n 'bad': 169,\n 'magic': 170,\n 'tales': 171,\n 'power': 172,\n 'boy': 173,\n 'angels': 174,\n 'planet': 175,\n 'women': 176,\n 'summer': 177,\n 'we': 178,\n 'music': 179,\n 'history': 180,\n 'under': 181,\n 'body': 182,\n 'mysteries': 183,\n 'god': 184,\n 'adventure': 185,\n 'sea': 186,\n 'george': 187,\n 'classic': 188,\n 'go': 189,\n '#': 190,\n 'tale': 191,\n 'murders': 192,\n 'shadows': 193,\n '7': 194,\n 'dream': 195,\n 'jack': 196,\n 'video': 197,\n 'collector': 198,\n 'real': 199,\n 'lady': 200,\n 'final': 201,\n 'sun': 202,\n 'again': 203,\n 'as': 204,\n 'son': 205,\n 'evil': 206,\n 'road': 207,\n 'or': 208,\n 'bob': 209,\n 'land': 210,\n 'hits': 211,\n 'iii': 212,\n 'super': 213,\n 'cat': 214,\n 'secrets': 215,\n 'children': 216,\n 'comedy': 217,\n 'experience': 218,\n 'goes': 219,\n 'they': 220,\n 'blues': 221,\n 'science': 222,\n 'z': 223,\n 'monster': 224,\n 'fighting': 225,\n 'people': 226,\n 'when': 227,\n 'brothers': 228,\n 'vs.': 229,\n 'west': 230,\n 'this': 231,\n 'before': 232,\n 'hard': 233,\n 'york': 234,\n 'saturday': 235,\n 'game': 236,\n 'christmas': 237,\n 'morse': 238,\n 'living': 239,\n 'how': 240,\n 'river': 241,\n 'south': 242,\n 'seasons': 243,\n 'sherlock': 244,\n 'master': 245,\n 'theater': 246,\n 'fear': 247,\n 'anniversary': 248,\n 'tom': 249,\n 'lord': 250,\n 'year': 251,\n 'bear': 252,\n '3000': 253,\n 'never': 254,\n 'beast': 255,\n 'over': 256,\n 'inside': 257,\n 'dog': 258,\n 'just': 259,\n 'seven': 260,\n 'extreme': 261,\n 'like': 262,\n 'batman': 263,\n 'holmes': 264,\n 'without': 265,\n 'dracula': 266,\n 'film': 267,\n 'get': 268,\n 'play': 269,\n 'pride': 270,\n 'perfect': 271,\n 'stooges': 272,\n 'next': 273,\n 'things': 274,\n 'cold': 275,\n 'water': 276,\n 'iron': 277,\n 'wife': 278,\n 'true': 279,\n 'will': 280,\n 'x': 281,\n 'joe': 282,\n 'midsomer': 283,\n 'hollywood': 284,\n 'andy': 285,\n 'billy': 286,\n 'after': 287,\n 'eye': 288,\n 'hill': 289,\n 'are': 290,\n 'stories': 291,\n 'sharpe': 292,\n 'long': 293,\n 'thomas': 294,\n 'end': 295,\n 'band': 296,\n 'times': 297,\n '...': 298,\n '8': 299,\n 'sesame': 300,\n 'club': 301,\n 'warrior': 302,\n 'hero': 303,\n 'presents': 304,\n 'train': 305,\n 'prince': 306,\n 'only': 307,\n 'where': 308,\n 'queen': 309,\n 'cut': 310,\n 'force': 311,\n 'his': 312,\n 'beach': 313,\n 'come': 314,\n 'father': 315,\n 'saga': 316,\n 'kill': 317,\n 'kids': 318,\n 'peter': 319,\n 'crazy': 320,\n 'mtv': 321,\n 'michael': 322,\n 'revenge': 323,\n 'alien': 324,\n 'other': 325,\n 'scooby-doo': 326,\n 'hunter': 327,\n 'sweet': 328,\n 'edge': 329,\n 'paradise': 330,\n 'truth': 331,\n 'second': 332,\n 'thing': 333,\n '2004': 334,\n 'nova': 335,\n 'terror': 336,\n 'festival': 337,\n 'alive': 338,\n 'wolf': 339,\n 'hot': 340,\n 'justice': 341,\n 'project': 342,\n 'crime': 343,\n 'animated': 344,\n 'mind': 345,\n 'run': 346,\n 'beauty': 347,\n 'samurai': 348,\n 'paris': 349,\n 'dangerous': 350,\n 'our': 351,\n 'full': 352,\n 'company': 353,\n 'dirty': 354,\n 'texas': 355,\n 'midnight': 356,\n 'once': 357,\n 'de': 358,\n 'darkness': 359,\n 'horror': 360,\n 'kid': 361,\n 'was': 362,\n 'quest': 363,\n 'dogs': 364,\n 'picture': 365,\n 'top': 366,\n 'trilogy': 367,\n 'here': 368,\n 'original': 369,\n 'wedding': 370,\n 'witch': 371,\n 'gun': 372,\n 'forever': 373,\n 'veggietales': 374,\n 'room': 375,\n 'harry': 376,\n 'dawn': 377,\n 'eyes': 378,\n 'james': 379,\n 'heat': 380,\n 'vegas': 381,\n 'not': 382,\n 'golden': 383,\n 'fat': 384,\n 'country': 385,\n 'there': 386,\n 'another': 387,\n 'born': 388,\n '2000': 389,\n 'child': 390,\n 'call': 391,\n 'fun': 392,\n 'ice': 393,\n 'jones': 394,\n 'human': 395,\n 'steel': 396,\n 'trouble': 397,\n 'money': 398,\n 'ninja': 399,\n 'more': 400,\n 'version': 401,\n 'tv': 402,\n 'fall': 403,\n 'dreams': 404,\n 'guy': 405,\n 'director': 406,\n '9': 407,\n 'set': 408,\n 'cry': 409,\n 'code': 410,\n 'book': 411,\n 'mrs.': 412,\n 'le': 413,\n 'bridge': 414,\n 'away': 415,\n 'miss': 416,\n 'martin': 417,\n 'pink': 418,\n 'league': 419,\n 'opera': 420,\n 'chronicles': 421,\n 'sky': 422,\n 'side': 423,\n 'town': 424,\n 'godzilla': 425,\n 'bride': 426,\n 'song': 427,\n 'broadway': 428,\n 'point': 429,\n 'paul': 430,\n 'grand': 431,\n 'short': 432,\n 'law': 433,\n 'nine': 434,\n 'old': 435,\n 'championship': 436,\n 'charlie': 437,\n 'attack': 438,\n 'were': 439,\n 'light': 440,\n 'frankenstein': 441,\n 'china': 442,\n 'empire': 443,\n 'let': 444,\n 'can': 445,\n 'bears': 446,\n 'walk': 447,\n 'century': 448,\n 'air': 449,\n 'mary': 450,\n 'david': 451,\n 'brother': 452,\n 'yoga': 453,\n 'mountain': 454,\n 'bill': 455,\n 'face': 456,\n 'north': 457,\n 'meet': 458,\n 'bible': 459,\n 'into': 460,\n 'kung': 461,\n 'beautiful': 462,\n 'zero': 463,\n 'alice': 464,\n 'flesh': 465,\n 'around': 466,\n 'now': 467,\n 'lives': 468,\n 'most': 469,\n 'rose': 470,\n 'french': 471,\n 'hall': 472,\n 'blind': 473,\n \"'m\": 474,\n 'johnny': 475,\n 'garden': 476,\n 'masters': 477,\n 'snow': 478,\n 'friday': 479,\n 'naked': 480,\n 'order': 481,\n 'favorites': 482,\n 'hercules': 483,\n 'tokyo': 484,\n 'curse': 485,\n 'soul': 486,\n 'cartoon': 487,\n 'robin': 488,\n 'hood': 489,\n 'ring': 490,\n 'miracle': 491,\n '10': 492,\n 'spongebob': 493,\n 'van': 494,\n 'five': 495,\n 'class': 496,\n 'phantom': 497,\n 'jane': 498,\n 'if': 499,\n '13': 500,\n 'spy': 501,\n 'got': 502,\n 'poirot': 503,\n 'gold': 504,\n 'wind': 505,\n 'poker': 506,\n 'outer': 507,\n 'fu': 508,\n 'shadow': 509,\n 'dora': 510,\n 'mother': 511,\n 'tomorrow': 512,\n 'business': 513,\n 'strange': 514,\n 'halloween': 515,\n 'too': 516,\n 'nightmare': 517,\n 'early': 518,\n 'art': 519,\n 'line': 520,\n 'chan': 521,\n 'kings': 522,\n 'iv': 523,\n 'haunted': 524,\n 'voyage': 525,\n 'dick': 526,\n 'mummy': 527,\n 'bruce': 528,\n 'police': 529,\n 'squarepants': 530,\n 'silent': 531,\n 'sunday': 532,\n 'fighter': 533,\n 'behind': 534,\n 'alone': 535,\n 'happy': 536,\n 'case': 537,\n 'max': 538,\n 'something': 539,\n 'royal': 540,\n 'rings': 541,\n 'so': 542,\n 'knight': 543,\n 'she': 544,\n 'winter': 545,\n 'nature': 546,\n 'warriors': 547,\n 'hearts': 548,\n 'strangers': 549,\n 'married': 550,\n 'passion': 551,\n 'theatre': 552,\n 'jungle': 553,\n 'trip': 554,\n 'creek': 555,\n 'o': 556,\n 'state': 557,\n 'take': 558,\n 'carlin': 559,\n 'door': 560,\n 'escape': 561,\n 'jazz': 562,\n 'elmo': 563,\n 'cirque': 564,\n 'horse': 565,\n 'her': 566,\n 'du': 567,\n 'bowl': 568,\n 'sister': 569,\n 'serial': 570,\n 'coming': 571,\n 'ride': 572,\n '2003': 573,\n 'yes': 574,\n 'captain': 575,\n 'hour': 576,\n 'lampoon': 577,\n 'four': 578,\n 'st.': 579,\n 'stone': 580,\n 'jesus': 581,\n 'look': 582,\n 'glory': 583,\n 'mad': 584,\n 'stage': 585,\n '1/2': 586,\n 'storm': 587,\n 'diary': 588,\n 'shot': 589,\n 'drive': 590,\n 'beginning': 591,\n 'mars': 592,\n 'legacy': 593,\n 'songs': 594,\n 'treasure': 595,\n 'superman': 596,\n 'brown': 597,\n 'stars': 598,\n 'mask': 599,\n '-': 600,\n 'search': 601,\n 'les': 602,\n 'pokemon': 603,\n 'desert': 604,\n 'know': 605,\n 'easy': 606,\n 'gundam': 607,\n 'richard': 608,\n 'el': 609,\n 'off': 610,\n 'touch': 611,\n 'shaolin': 612,\n 'but': 613,\n 'nights': 614,\n 'rocky': 615,\n 'ed': 616,\n 'have': 617,\n 'prairie': 618,\n 'stand': 619,\n 'action': 620,\n 'goodbye': 621,\n 'albums': 622,\n 'las': 623,\n 'ca': 624,\n 'private': 625,\n 'highlander': 626,\n 'right': 627,\n 'revolution': 628,\n 'classics': 629,\n 'lee': 630,\n 'upon': 631,\n 'jerry': 632,\n 'nba': 633,\n 'machine': 634,\n 'mission': 635,\n 'learning': 636,\n 'frank': 637,\n 'operation': 638,\n 'very': 639,\n 'films': 640,\n 'favorite': 641,\n 'heroes': 642,\n 'soleil': 643,\n 'hidden': 644,\n 'fury': 645,\n \"'n\": 646,\n 'gone': 647,\n 'jimmy': 648,\n 'place': 649,\n 'glass': 650,\n 'cop': 651,\n 'discovering': 652,\n 'dil': 653,\n 'jay': 654,\n 'amazing': 655,\n 'elvis': 656,\n 'jackson': 657,\n 'valley': 658,\n 'ground': 659,\n 'straight': 660,\n 'going': 661,\n 'color': 662,\n 'barney': 663,\n 'burn': 664,\n 'lucy': 665,\n 'da': 666,\n 'miller': 667,\n 'austin': 668,\n \"'re\": 669,\n 'soldier': 670,\n 'grace': 671,\n 'shakespeare': 672,\n 'henry': 673,\n 'videos': 674,\n 'see': 675,\n 'holy': 676,\n 'movies': 677,\n 'v': 678,\n 'kind': 679,\n 'monsters': 680,\n 'bell': 681,\n \"'ll\": 682,\n '3rd': 683,\n 'close': 684,\n 'brain': 685,\n 'express': 686,\n 'stranger': 687,\n 'than': 688,\n 'nothing': 689,\n 'explorer': 690,\n 'us': 691,\n 'robert': 692,\n 'limits': 693,\n 'africa': 694,\n 'thin': 695,\n 'massacre': 696,\n 'through': 697,\n 'cool': 698,\n 'six': 699,\n 'left': 700,\n 'killing': 701,\n 'enemy': 702,\n 'chinese': 703,\n 'episodes': 704,\n 'head': 705,\n 'victory': 706,\n 'jackie': 707,\n 'work': 708,\n 'dave': 709,\n 'strawberry': 710,\n 'universe': 711,\n 'celebration': 712,\n 'evening': 713,\n 'uncensored': 714,\n 'camp': 715,\n 'guns': 716,\n 'rugrats': 717,\n 'funny': 718,\n 'griffith': 719,\n 'channel': 720,\n 'guide': 721,\n '2002': 722,\n 'manhattan': 723,\n 'remember': 724,\n 'teenage': 725,\n 'beverly': 726,\n 'wish': 727,\n 'clifford': 728,\n 'ray': 729,\n 'rise': 730,\n 'london': 731,\n 'dvd': 732,\n 'lynley': 733,\n 'python': 734,\n 'walking': 735,\n 'lion': 736,\n 'rage': 737,\n 'he': 738,\n 'returns': 739,\n 'million': 740,\n 'rocks': 741,\n 'spring': 742,\n 'flying': 743,\n 'running': 744,\n 'ufc': 745,\n 'alexander': 746,\n '100': 747,\n 'shanghai': 748,\n 'wiggles': 749,\n 'shorts': 750,\n 'welcome': 751,\n 'sullivan': 752,\n 'clues': 753,\n 'small': 754,\n 'meets': 755,\n '21': 756,\n 'generation': 757,\n 'care': 758,\n 'animation': 759,\n 'disney': 760,\n 'metal': 761,\n 'portrait': 762,\n 'fist': 763,\n 'giant': 764,\n 'don': 765,\n 'kingdom': 766,\n 'talk': 767,\n 'files': 768,\n 'thief': 769,\n 'saved': 770,\n 'hai': 771,\n 'seas': 772,\n 'better': 773,\n 'burns': 774,\n 'roll': 775,\n 'wonderland': 776,\n 'mighty': 777,\n 'affair': 778,\n 'nfl': 779,\n 'race': 780,\n 'ecw': 781,\n 'slayer': 782,\n 'standard': 783,\n 'hand': 784,\n 'lover': 785,\n 'sisters': 786,\n 'starship': 787,\n 'rain': 788,\n 'albert': 789,\n 'tiger': 790,\n 'view': 791,\n 'einstein': 792,\n 'eddie': 793,\n 'hum': 794,\n 'far': 795,\n 'creatures': 796,\n 'pooh': 797,\n 'friend': 798,\n 'being': 799,\n 'frost': 800,\n 'workout': 801,\n 'danielle': 802,\n 'came': 803,\n 'deviants': 804,\n 'babylon': 805,\n 'still': 806,\n 'witness': 807,\n 'lone': 808,\n 'castle': 809,\n 'soldiers': 810,\n 'episode': 811,\n 'benny': 812,\n 'hills': 813,\n 'games': 814,\n 'directors': 815,\n 'tarzan': 816,\n 'cadfael': 817,\n 'ladies': 818,\n 'sin': 819,\n 'east': 820,\n 'ranma': 821,\n 'bloody': 822,\n 'carmen': 823,\n 'muppet': 824,\n 'half': 825,\n 'travels': 826,\n 'hotel': 827,\n 'cops': 828,\n 'anna': 829,\n 'eric': 830,\n 'travel': 831,\n '20': 832,\n 'purple': 833,\n 'circus': 834,\n 'mark': 835,\n 'legendary': 836,\n 'am': 837,\n 'lies': 838,\n '13th': 839,\n 'gentlemen': 840,\n 'making': 841,\n 'sword': 842,\n 'daughter': 843,\n 'pearl': 844,\n 'within': 845,\n 'highway': 846,\n 'quiet': 847,\n 'chaplin': 848,\n 'britney': 849,\n 'chicago': 850,\n 'fabulous': 851,\n 'made': 852,\n 'athletes': 853,\n '24': 854,\n 'fair': 855,\n 'blade': 856,\n 'suit': 857,\n 'chris': 858,\n 'mom': 859,\n 'shortcake': 860,\n 'beethoven': 861,\n 'bus': 862,\n 'wing': 863,\n 'wolves': 864,\n 'rising': 865,\n 'simpsons': 866,\n 'rescue': 867,\n 'skin': 868,\n 'scarlet': 869,\n 'trail': 870,\n 'weapon': 871,\n 'them': 872,\n 'tony': 873,\n 'lights': 874,\n 'against': 875,\n 'rides': 876,\n 'sailor': 877,\n 'animal': 878,\n 'coast': 879,\n 'hunters': 880,\n 'dame': 881,\n 'fish': 882,\n 'rush': 883,\n 'grateful': 884,\n 'ocean': 885,\n 'troopers': 886,\n 'guys': 887,\n 'diaries': 888,\n 'dwarf': 889,\n 'vampires': 890,\n 'ghosts': 891,\n 'tae': 892,\n 'dancing': 893,\n 'virgin': 894,\n 'jet': 895,\n 'academy': 896,\n 'hawaii': 897,\n 'trial': 898,\n 'pretty': 899,\n 'eternal': 900,\n 'san': 901,\n 'monkey': 902,\n 'comes': 903,\n 'cash': 904,\n 'rangers': 905,\n 'slayers': 906,\n 'saw': 907,\n 'monty': 908,\n 'lake': 909,\n 'evolution': 910,\n 'incredible': 911,\n 'news': 912,\n 'silence': 913,\n '2005': 914,\n 'journeys': 915,\n 'must': 916,\n 'wayne': 917,\n 'agatha': 918,\n 'christie': 919,\n 'called': 920,\n 'spider-man': 921,\n '*': 922,\n 'rio': 923,\n 'detective': 924,\n 'x-files': 925,\n 'clapton': 926,\n 'breaking': 927,\n 'transformers': 928,\n 'word': 929,\n 'queer': 930,\n 'september': 931,\n 'motion': 932,\n 'arthur': 933,\n 'stop': 934,\n 'specials': 935,\n 'looking': 936,\n 'jamie': 937,\n 'honor': 938,\n 'danger': 939,\n 'beat': 940,\n 'sports': 941,\n 'future': 942,\n 'romance': 943,\n 'goosebumps': 944,\n 'pilates': 945,\n 'outlaw': 946,\n 'agent': 947,\n 'hawk': 948,\n 'team': 949,\n 'builder': 950,\n 'wonderful': 951,\n 'missing': 952,\n 'combat': 953,\n 'bo': 954,\n 'blanks': 955,\n 'hyde': 956,\n 'zombie': 957,\n 'hope': 958,\n 'mutant': 959,\n 'takes': 960,\n 'waiting': 961,\n 'sing': 962,\n 'eve': 963,\n 'teen': 964,\n 'central': 965,\n 'kelly': 966,\n 'anatomy': 967,\n 'platinum': 968,\n 'female': 969,\n 'jekyll': 970,\n 'beginners': 971,\n 'rules': 972,\n 'sarah': 973,\n 'deadly': 974,\n 'zatoichi': 975,\n 'triumph': 976,\n 'gate': 977,\n 'bikini': 978,\n 'resurrection': 979,\n 'flight': 980,\n 'loves': 981,\n 'bird': 982,\n 'free': 983,\n 'oz': 984,\n 'magnificent': 985,\n 'lucky': 986,\n 'gods': 987,\n 'stargate': 988,\n 'target': 989,\n 'reunion': 990,\n 'madness': 991,\n 'hunt': 992,\n 'sunset': 993,\n 'silver': 994,\n 'then': 995,\n 'vengeance': 996,\n 'oliver': 997,\n 'everest': 998,\n 'odyssey': 999,\n ...}"
     },
     "execution_count": 237,
     "metadata": {},
     "output_type": "execute_result"
    }
   ],
   "source": [
    "sen_model = Doc2Vec(tagged_names, vector_size=10, window=2, min_count=1, epochs=5)\n",
    "sen_model.wv.key_to_index"
   ],
   "metadata": {
    "collapsed": false
   }
  },
  {
   "cell_type": "code",
   "execution_count": 233,
   "outputs": [
    {
     "data": {
      "text/plain": "array([-0.03623721,  0.04991513,  0.0383601 ,  0.03759486,  0.02636898,\n       -0.03551999, -0.01462611, -0.00114712,  0.02244701,  0.00124047],\n      dtype=float32)"
     },
     "execution_count": 233,
     "metadata": {},
     "output_type": "execute_result"
    }
   ],
   "source": [
    "# 生成名字向量\n",
    "temp_sentence = word_tokenize(pd_movie_data.iloc[0, 2])\n",
    "temp_sentence_vector = sen_model.infer_vector(temp_sentence)\n",
    "temp_sentence_vector"
   ],
   "metadata": {
    "collapsed": false
   }
  },
  {
   "cell_type": "code",
   "execution_count": 235,
   "outputs": [
    {
     "data": {
      "text/plain": "           0                                                  1  \\\n0          0                                 [Dinosaur, Planet]   \n1          1                  [Isle, of, Man, TT, 2004, Review]   \n2          2                                        [Character]   \n3          3              [Paula, Abdul, 's, Get, Up, &, Dance]   \n4          4                    [The, Rise, and, Fall, of, ECW]   \n...      ...                                                ...   \n17765  17765  [Where, the, Wild, Things, Are, and, Other, Ma...   \n17766  17766           [Fidel, Castro, :, American, Experience]   \n17767  17767                                            [Epoch]   \n17768  17768                                     [The, Company]   \n17769  17769                                    [Alien, Hunter]   \n\n                                                       2  \n0      [-0.03623721, 0.049915127, 0.0383601, 0.037594...  \n1      [-0.024802309, -0.0092518665, -0.006435116, 0....  \n2      [-0.04161025, 0.034679003, 0.0401221, -0.03762...  \n3      [-0.012539527, 0.028160268, -0.048323732, -0.0...  \n4      [-0.014510149, 0.016646124, 0.038320985, 0.010...  \n...                                                  ...  \n17765  [0.019798193, -0.03305091, 0.044560794, -0.042...  \n17766  [-0.011565074, 0.0029010712, 0.04775446, 0.007...  \n17767  [0.026661694, 0.013470513, 0.033332564, 0.0094...  \n17768  [-0.0135359345, 0.038479857, 0.023260284, 0.02...  \n17769  [0.021622593, 0.03323887, 0.049332984, -0.0336...  \n\n[17770 rows x 3 columns]",
      "text/html": "<div>\n<style scoped>\n    .dataframe tbody tr th:only-of-type {\n        vertical-align: middle;\n    }\n\n    .dataframe tbody tr th {\n        vertical-align: top;\n    }\n\n    .dataframe thead th {\n        text-align: right;\n    }\n</style>\n<table border=\"1\" class=\"dataframe\">\n  <thead>\n    <tr style=\"text-align: right;\">\n      <th></th>\n      <th>0</th>\n      <th>1</th>\n      <th>2</th>\n    </tr>\n  </thead>\n  <tbody>\n    <tr>\n      <th>0</th>\n      <td>0</td>\n      <td>[Dinosaur, Planet]</td>\n      <td>[-0.03623721, 0.049915127, 0.0383601, 0.037594...</td>\n    </tr>\n    <tr>\n      <th>1</th>\n      <td>1</td>\n      <td>[Isle, of, Man, TT, 2004, Review]</td>\n      <td>[-0.024802309, -0.0092518665, -0.006435116, 0....</td>\n    </tr>\n    <tr>\n      <th>2</th>\n      <td>2</td>\n      <td>[Character]</td>\n      <td>[-0.04161025, 0.034679003, 0.0401221, -0.03762...</td>\n    </tr>\n    <tr>\n      <th>3</th>\n      <td>3</td>\n      <td>[Paula, Abdul, 's, Get, Up, &amp;, Dance]</td>\n      <td>[-0.012539527, 0.028160268, -0.048323732, -0.0...</td>\n    </tr>\n    <tr>\n      <th>4</th>\n      <td>4</td>\n      <td>[The, Rise, and, Fall, of, ECW]</td>\n      <td>[-0.014510149, 0.016646124, 0.038320985, 0.010...</td>\n    </tr>\n    <tr>\n      <th>...</th>\n      <td>...</td>\n      <td>...</td>\n      <td>...</td>\n    </tr>\n    <tr>\n      <th>17765</th>\n      <td>17765</td>\n      <td>[Where, the, Wild, Things, Are, and, Other, Ma...</td>\n      <td>[0.019798193, -0.03305091, 0.044560794, -0.042...</td>\n    </tr>\n    <tr>\n      <th>17766</th>\n      <td>17766</td>\n      <td>[Fidel, Castro, :, American, Experience]</td>\n      <td>[-0.011565074, 0.0029010712, 0.04775446, 0.007...</td>\n    </tr>\n    <tr>\n      <th>17767</th>\n      <td>17767</td>\n      <td>[Epoch]</td>\n      <td>[0.026661694, 0.013470513, 0.033332564, 0.0094...</td>\n    </tr>\n    <tr>\n      <th>17768</th>\n      <td>17768</td>\n      <td>[The, Company]</td>\n      <td>[-0.0135359345, 0.038479857, 0.023260284, 0.02...</td>\n    </tr>\n    <tr>\n      <th>17769</th>\n      <td>17769</td>\n      <td>[Alien, Hunter]</td>\n      <td>[0.021622593, 0.03323887, 0.049332984, -0.0336...</td>\n    </tr>\n  </tbody>\n</table>\n<p>17770 rows × 3 columns</p>\n</div>"
     },
     "execution_count": 235,
     "metadata": {},
     "output_type": "execute_result"
    }
   ],
   "source": [
    "movie_name_vector_list = []\n",
    "for i in range(0, len(pd_movie_data)):\n",
    "    temp_sentence = word_tokenize(pd_movie_data.iloc[i, 2])\n",
    "    temp_sentence_vector = sen_model.infer_vector(temp_sentence)\n",
    "    movie_name_vector_list.append([i, temp_sentence, temp_sentence_vector])\n",
    "pd_movie_name_vecotr = pd.DataFrame(movie_name_vector_list)\n",
    "pd_movie_name_vecotr"
   ],
   "metadata": {
    "collapsed": false
   }
  }
 ],
 "metadata": {
  "kernelspec": {
   "display_name": "Python 3",
   "language": "python",
   "name": "python3"
  },
  "language_info": {
   "codemirror_mode": {
    "name": "ipython",
    "version": 2
   },
   "file_extension": ".py",
   "mimetype": "text/x-python",
   "name": "python",
   "nbconvert_exporter": "python",
   "pygments_lexer": "ipython2",
   "version": "2.7.6"
  }
 },
 "nbformat": 4,
 "nbformat_minor": 0
}
